{
  "nbformat": 4,
  "nbformat_minor": 0,
  "metadata": {
    "colab": {
      "name": "Copy of illwill.ipynb",
      "provenance": [],
      "collapsed_sections": [
        "YCguLDt9TuM1",
        "7NcX9qrpTzth",
        "g4h4DgeLUCmY",
        "fnAjLW1UVQap",
        "3WtU3P_xVVQe",
        "ewz5rFHNVYZd",
        "LpWeab7aHdMs",
        "i_KBBjhEOCb2",
        "DUcHJ2VYOGBL",
        "pSzpta0cOILs",
        "15xQ_itvOLRr",
        "Ld-ar2VBhopF",
        "ZWkoTb73jiRZ"
      ],
      "machine_shape": "hm",
      "authorship_tag": "ABX9TyOqrpz38kb4zex0giTHP9Te",
      "include_colab_link": true
    },
    "kernelspec": {
      "name": "python3",
      "display_name": "Python 3"
    },
    "language_info": {
      "name": "python"
    },
    "accelerator": "TPU"
  },
  "cells": [
    {
      "cell_type": "markdown",
      "metadata": {
        "id": "view-in-github",
        "colab_type": "text"
      },
      "source": [
        "<a href=\"https://colab.research.google.com/github/andythomasc/Text-Style-Transfer/blob/main/Seq2Seq.ipynb\" target=\"_parent\"><img src=\"https://colab.research.google.com/assets/colab-badge.svg\" alt=\"Open In Colab\"/></a>"
      ]
    },
    {
      "cell_type": "code",
      "metadata": {
        "id": "PUzDu0JfOjMo"
      },
      "source": [
        ""
      ],
      "execution_count": null,
      "outputs": []
    },
    {
      "cell_type": "markdown",
      "metadata": {
        "id": "lPHrI5YMOyr9"
      },
      "source": [
        "#Instance check"
      ]
    },
    {
      "cell_type": "code",
      "metadata": {
        "colab": {
          "base_uri": "https://localhost:8080/"
        },
        "id": "RnVj1BKDO0h_",
        "outputId": "5df67eee-97b1-4bad-bdbf-7581e4249f70"
      },
      "source": [
        "from psutil import virtual_memory\n",
        "ram_gb = virtual_memory().total / 1e9\n",
        "print('Your runtime has {:.1f} gigabytes of available RAM\\n'.format(ram_gb))\n",
        "\n",
        "if ram_gb < 20:\n",
        "  print('To enable a high-RAM runtime, select the Runtime > \"Change runtime type\"')\n",
        "  print('menu, and then select High-RAM in the Runtime shape dropdown. Then, ')\n",
        "  print('re-execute this cell.')\n",
        "else:\n",
        "  print('You are using a high-RAM runtime!')"
      ],
      "execution_count": 2,
      "outputs": [
        {
          "output_type": "stream",
          "text": [
            "Your runtime has 27.3 gigabytes of available RAM\n",
            "\n",
            "You are using a high-RAM runtime!\n"
          ],
          "name": "stdout"
        }
      ]
    },
    {
      "cell_type": "code",
      "metadata": {
        "colab": {
          "base_uri": "https://localhost:8080/"
        },
        "id": "yXVdGpvkOxGB",
        "outputId": "ecd26e4c-7654-434d-c95b-129bb8b3a941"
      },
      "source": [
        "gpu_info = !nvidia-smi\n",
        "gpu_info = '\\n'.join(gpu_info)\n",
        "if gpu_info.find('failed') >= 0:\n",
        "  print('Select the Runtime > \"Change runtime type\" menu to enable a GPU accelerator, ')\n",
        "  print('and then re-execute this cell.')\n",
        "else:\n",
        "  print(gpu_info)"
      ],
      "execution_count": 3,
      "outputs": [
        {
          "output_type": "stream",
          "text": [
            "Sat Sep  4 12:41:43 2021       \n",
            "+-----------------------------------------------------------------------------+\n",
            "| NVIDIA-SMI 470.63.01    Driver Version: 460.32.03    CUDA Version: 11.2     |\n",
            "|-------------------------------+----------------------+----------------------+\n",
            "| GPU  Name        Persistence-M| Bus-Id        Disp.A | Volatile Uncorr. ECC |\n",
            "| Fan  Temp  Perf  Pwr:Usage/Cap|         Memory-Usage | GPU-Util  Compute M. |\n",
            "|                               |                      |               MIG M. |\n",
            "|===============================+======================+======================|\n",
            "|   0  Tesla T4            Off  | 00000000:00:04.0 Off |                    0 |\n",
            "| N/A   42C    P8    10W /  70W |      0MiB / 15109MiB |      0%      Default |\n",
            "|                               |                      |                  N/A |\n",
            "+-------------------------------+----------------------+----------------------+\n",
            "                                                                               \n",
            "+-----------------------------------------------------------------------------+\n",
            "| Processes:                                                                  |\n",
            "|  GPU   GI   CI        PID   Type   Process name                  GPU Memory |\n",
            "|        ID   ID                                                   Usage      |\n",
            "|=============================================================================|\n",
            "|  No running processes found                                                 |\n",
            "+-----------------------------------------------------------------------------+\n"
          ],
          "name": "stdout"
        }
      ]
    },
    {
      "cell_type": "code",
      "metadata": {
        "id": "JBDV0zhIO-nJ"
      },
      "source": [
        ""
      ],
      "execution_count": null,
      "outputs": []
    },
    {
      "cell_type": "markdown",
      "metadata": {
        "id": "RSG4g-EaO_SY"
      },
      "source": [
        "#Imports"
      ]
    },
    {
      "cell_type": "code",
      "metadata": {
        "colab": {
          "base_uri": "https://localhost:8080/"
        },
        "id": "ueSB2hCiPDfn",
        "outputId": "d485fa93-50a8-4ffa-e54b-92ecc295a5fd"
      },
      "source": [
        "from google.colab import drive\n",
        "drive.mount('/content/drive')"
      ],
      "execution_count": 1,
      "outputs": [
        {
          "output_type": "stream",
          "text": [
            "Mounted at /content/drive\n"
          ],
          "name": "stdout"
        }
      ]
    },
    {
      "cell_type": "code",
      "metadata": {
        "id": "hWlJm57WPHjI"
      },
      "source": [
        "import json\n",
        "import pandas as pd\n",
        "from pandas import DataFrame\n",
        "import numpy as np\n",
        "\n",
        "import pandas as pd\n",
        "from torch.utils.data import Dataset, DataLoader\n",
        "import sys\n",
        "import matplotlib.pyplot as plt\n",
        "import numpy as np\n",
        "import pickle\n",
        "import glob\n",
        "import os\n",
        "\n",
        "\n",
        "import time\n",
        "import torchtext\n",
        "\n",
        "from torchtext.legacy import data\n",
        "import torch\n",
        "\n",
        "#from utils import tensor2text\n",
        "import torch.nn.functional as F\n",
        "\n",
        "import math\n",
        "\n",
        "from torch import nn, optim\n",
        "#from tensorboardX import SummaryWriter\n",
        "from torch.nn.utils import clip_grad_norm_\n",
        "\n",
        "#from evaluator import Evaluator\n",
        "#from utils import tensor2text, calc_ppl, idx2onehot, add_noise, word_drop\n"
      ],
      "execution_count": 2,
      "outputs": []
    },
    {
      "cell_type": "code",
      "metadata": {
        "id": "-hjyfBD_PVdF"
      },
      "source": [
        "\n",
        "import torch\n",
        "from torch import nn, Tensor\n",
        "import torch.nn.functional as F\n",
        "from torch.nn import TransformerEncoder, TransformerEncoderLayer\n",
        "from torch.utils.data import dataset\n"
      ],
      "execution_count": 3,
      "outputs": []
    },
    {
      "cell_type": "code",
      "metadata": {
        "id": "bBkSwBCuPq93"
      },
      "source": [
        ""
      ],
      "execution_count": 3,
      "outputs": []
    },
    {
      "cell_type": "markdown",
      "metadata": {
        "id": "8O6VCdyKhXr3"
      },
      "source": [
        "#Transformer\n"
      ]
    },
    {
      "cell_type": "code",
      "metadata": {
        "id": "PnPiN25EhdAr"
      },
      "source": [
        "\n",
        "\n",
        "import torch\n",
        "import torch.nn as nn\n",
        "\n",
        "\n",
        "class SelfAttention(nn.Module):\n",
        "    def __init__(self, embed_size, heads):\n",
        "        super(SelfAttention, self).__init__()\n",
        "        self.embed_size = embed_size\n",
        "        self.heads = heads\n",
        "        self.head_dim = embed_size // heads\n",
        "\n",
        "        assert (\n",
        "            self.head_dim * heads == embed_size\n",
        "        ), \"Embedding size needs to be divisible by heads\"\n",
        "\n",
        "        self.values = nn.Linear(self.head_dim, self.head_dim, bias=False)\n",
        "        self.keys = nn.Linear(self.head_dim, self.head_dim, bias=False)\n",
        "        self.queries = nn.Linear(self.head_dim, self.head_dim, bias=False)\n",
        "        self.fc_out = nn.Linear(heads * self.head_dim, embed_size)\n",
        "\n",
        "    def forward(self, values, keys, query, mask):\n",
        "        # Get number of training examples\n",
        "        N = query.shape[0]\n",
        "\n",
        "        value_len, key_len, query_len = values.shape[1], keys.shape[1], query.shape[1]\n",
        "\n",
        "        # Split the embedding into self.heads different pieces\n",
        "        values = values.reshape(N, value_len, self.heads, self.head_dim)\n",
        "        keys = keys.reshape(N, key_len, self.heads, self.head_dim)\n",
        "        query = query.reshape(N, query_len, self.heads, self.head_dim)\n",
        "\n",
        "        values = self.values(values)  # (N, value_len, heads, head_dim)\n",
        "        keys = self.keys(keys)  # (N, key_len, heads, head_dim)\n",
        "        queries = self.queries(query)  # (N, query_len, heads, heads_dim)\n",
        "\n",
        "        # Einsum does matrix mult. for query*keys for each training example\n",
        "        # with every other training example, don't be confused by einsum\n",
        "        # it's just how I like doing matrix multiplication & bmm\n",
        "\n",
        "        energy = torch.einsum(\"nqhd,nkhd->nhqk\", [queries, keys])\n",
        "        # queries shape: (N, query_len, heads, heads_dim),\n",
        "        # keys shape: (N, key_len, heads, heads_dim)\n",
        "        # energy: (N, heads, query_len, key_len)\n",
        "\n",
        "        # Mask padded indices so their weights become 0\n",
        "        if mask is not None:\n",
        "            energy = energy.masked_fill(mask == 0, float(\"-1e20\"))\n",
        "\n",
        "        # Normalize energy values similarly to seq2seq + attention\n",
        "        # so that they sum to 1. Also divide by scaling factor for\n",
        "        # better stability\n",
        "        attention = torch.softmax(energy / (self.embed_size ** (1 / 2)), dim=3)\n",
        "        # attention shape: (N, heads, query_len, key_len)\n",
        "\n",
        "        out = torch.einsum(\"nhql,nlhd->nqhd\", [attention, values]).reshape(\n",
        "            N, query_len, self.heads * self.head_dim\n",
        "        )\n",
        "        # attention shape: (N, heads, query_len, key_len)\n",
        "        # values shape: (N, value_len, heads, heads_dim)\n",
        "        # out after matrix multiply: (N, query_len, heads, head_dim), then\n",
        "        # we reshape and flatten the last two dimensions.\n",
        "\n",
        "        out = self.fc_out(out)\n",
        "        # Linear layer doesn't modify the shape, final shape will be\n",
        "        # (N, query_len, embed_size)\n",
        "\n",
        "        return out\n",
        "\n",
        "\n",
        "class TransformerBlock(nn.Module):\n",
        "    def __init__(self, embed_size, heads, dropout, forward_expansion):\n",
        "        super(TransformerBlock, self).__init__()\n",
        "        self.attention = SelfAttention(embed_size, heads)\n",
        "        self.norm1 = nn.LayerNorm(embed_size)\n",
        "        self.norm2 = nn.LayerNorm(embed_size)\n",
        "\n",
        "        self.feed_forward = nn.Sequential(\n",
        "            nn.Linear(embed_size, forward_expansion * embed_size),\n",
        "            nn.ReLU(),\n",
        "            nn.Linear(forward_expansion * embed_size, embed_size),\n",
        "        )\n",
        "\n",
        "        self.dropout = nn.Dropout(dropout)\n",
        "\n",
        "    def forward(self, value, key, query, mask):\n",
        "        attention = self.attention(value, key, query, mask)\n",
        "\n",
        "        # Add skip connection, run through normalization and finally dropout\n",
        "        x = self.dropout(self.norm1(attention + query))\n",
        "        forward = self.feed_forward(x)\n",
        "        out = self.dropout(self.norm2(forward + x))\n",
        "        return out\n",
        "\n",
        "\n",
        "class Encoder(nn.Module):\n",
        "    def __init__(\n",
        "        self,\n",
        "        src_vocab_size,\n",
        "        embed_size,\n",
        "        num_layers,\n",
        "        heads,\n",
        "        device,\n",
        "        forward_expansion,\n",
        "        dropout,\n",
        "        max_length,\n",
        "    ):\n",
        "\n",
        "        super(Encoder, self).__init__()\n",
        "        self.embed_size = embed_size\n",
        "        self.device = device\n",
        "        self.word_embedding = nn.Embedding(src_vocab_size, embed_size)\n",
        "        self.position_embedding = nn.Embedding(max_length, embed_size)\n",
        "\n",
        "        self.layers = nn.ModuleList(\n",
        "            [\n",
        "                TransformerBlock(\n",
        "                    embed_size,\n",
        "                    heads,\n",
        "                    dropout=dropout,\n",
        "                    forward_expansion=forward_expansion,\n",
        "                )\n",
        "                for _ in range(num_layers)\n",
        "            ]\n",
        "        )\n",
        "\n",
        "        self.dropout = nn.Dropout(dropout)\n",
        "\n",
        "    def forward(self, x, mask):\n",
        "        N, seq_length = x.shape\n",
        "        positions = torch.arange(0, seq_length).expand(N, seq_length).to(self.device)\n",
        "        out = self.dropout(\n",
        "            (self.word_embedding(x) + self.position_embedding(positions))\n",
        "        )\n",
        "\n",
        "        # In the Encoder the query, key, value are all the same, it's in the\n",
        "        # decoder this will change. This might look a bit odd in this case.\n",
        "        for layer in self.layers:\n",
        "            out = layer(out, out, out, mask)\n",
        "\n",
        "        return out\n",
        "\n",
        "\n",
        "class DecoderBlock(nn.Module):\n",
        "    def __init__(self, embed_size, heads, forward_expansion, dropout, device):\n",
        "        super(DecoderBlock, self).__init__()\n",
        "        self.norm = nn.LayerNorm(embed_size)\n",
        "        self.attention = SelfAttention(embed_size, heads=heads)\n",
        "        self.transformer_block = TransformerBlock(\n",
        "            embed_size, heads, dropout, forward_expansion\n",
        "        )\n",
        "        self.dropout = nn.Dropout(dropout)\n",
        "\n",
        "    def forward(self, x, value, key, src_mask, trg_mask):\n",
        "        attention = self.attention(x, x, x, trg_mask)\n",
        "        query = self.dropout(self.norm(attention + x))\n",
        "        out = self.transformer_block(value, key, query, src_mask)\n",
        "        return out\n",
        "\n",
        "\n",
        "class Decoder(nn.Module):\n",
        "    def __init__(\n",
        "        self,\n",
        "        trg_vocab_size,\n",
        "        embed_size,\n",
        "        num_layers,\n",
        "        heads,\n",
        "        forward_expansion,\n",
        "        dropout,\n",
        "        device,\n",
        "        max_length,\n",
        "    ):\n",
        "        super(Decoder, self).__init__()\n",
        "        self.device = device\n",
        "        self.word_embedding = nn.Embedding(trg_vocab_size, embed_size)\n",
        "        self.position_embedding = nn.Embedding(max_length, embed_size)\n",
        "\n",
        "        self.layers = nn.ModuleList(\n",
        "            [\n",
        "                DecoderBlock(embed_size, heads, forward_expansion, dropout, device)\n",
        "                for _ in range(num_layers)\n",
        "            ]\n",
        "        )\n",
        "        self.fc_out = nn.Linear(embed_size, trg_vocab_size)\n",
        "        self.dropout = nn.Dropout(dropout)\n",
        "\n",
        "    def forward(self, x, enc_out, src_mask, trg_mask):\n",
        "        N, seq_length = x.shape\n",
        "        positions = torch.arange(0, seq_length).expand(N, seq_length).to(self.device)\n",
        "        x = self.dropout((self.word_embedding(x) + self.position_embedding(positions)))\n",
        "\n",
        "        for layer in self.layers:\n",
        "            x = layer(x, enc_out, enc_out, src_mask, trg_mask)\n",
        "\n",
        "        out = self.fc_out(x)\n",
        "\n",
        "        return out\n",
        "\n",
        "\n",
        "class Transformer(nn.Module):\n",
        "    def __init__(\n",
        "        self,\n",
        "        src_vocab_size,\n",
        "        trg_vocab_size,\n",
        "        src_pad_idx,\n",
        "        trg_pad_idx,\n",
        "        embed_size=512,\n",
        "        num_layers=2,\n",
        "        forward_expansion=1024,\n",
        "        heads=4,\n",
        "        dropout=0.1,\n",
        "        device=torch.device('cuda' if torch.cuda.is_available() else 'cpu'),\n",
        "        max_length=100,\n",
        "    ):\n",
        "\n",
        "        super(Transformer, self).__init__()\n",
        "\n",
        "        self.encoder = Encoder(\n",
        "            src_vocab_size,\n",
        "            embed_size,\n",
        "            num_layers,\n",
        "            heads,\n",
        "            device,\n",
        "            forward_expansion,\n",
        "            dropout,\n",
        "            max_length,\n",
        "        )\n",
        "\n",
        "        self.decoder = Decoder(\n",
        "            trg_vocab_size,\n",
        "            embed_size,\n",
        "            num_layers,\n",
        "            heads,\n",
        "            forward_expansion,\n",
        "            dropout,\n",
        "            device,\n",
        "            max_length,\n",
        "        )\n",
        "\n",
        "        self.src_pad_idx = src_pad_idx\n",
        "        self.trg_pad_idx = trg_pad_idx\n",
        "        self.device = device\n",
        "\n",
        "    def make_src_mask(self, src):\n",
        "        src_mask = (src != self.src_pad_idx).unsqueeze(1).unsqueeze(2)\n",
        "        # (N, 1, 1, src_len)\n",
        "        return src_mask.to(self.device)\n",
        "\n",
        "    def make_trg_mask(self, trg):\n",
        "        N, trg_len = trg.shape\n",
        "        trg_mask = torch.tril(torch.ones((trg_len, trg_len))).expand(\n",
        "            N, 1, trg_len, trg_len\n",
        "        )\n",
        "\n",
        "        return trg_mask.to(self.device)\n",
        "\n",
        "    def forward(self, src, trg):\n",
        "        src_mask = self.make_src_mask(src)\n",
        "        trg_mask = self.make_trg_mask(trg)\n",
        "        enc_src = self.encoder(src, src_mask)\n",
        "        out = self.decoder(trg, enc_src, src_mask, trg_mask)\n",
        "        return out"
      ],
      "execution_count": 4,
      "outputs": []
    },
    {
      "cell_type": "markdown",
      "metadata": {
        "id": "g4h4DgeLUCmY"
      },
      "source": [
        "#Loading Data and stuff"
      ]
    },
    {
      "cell_type": "code",
      "metadata": {
        "id": "GPOiM7AHH3WR"
      },
      "source": [
        "text_layperson = open('/content/drive/My Drive/Colab Notebooks/style_transfer/training_files/label_1_parallel.txt').read().splitlines()\n",
        "text_expert = open('/content/drive/My Drive/Colab Notebooks/style_transfer/training_files/label_0_parallel.txt').read().splitlines()\n",
        "\n",
        "\n",
        "concatenated = []\n",
        "\n",
        "for i in range(len(text_layperson)):\n",
        "  concatenated.append(text_layperson[i])\n",
        "  concatenated.append(text_expert[i])\n",
        "\n",
        "together = []\n",
        "\n",
        "for i in range(len(text_layperson)):\n",
        "  together.append((text_layperson[i],text_expert[i]))"
      ],
      "execution_count": 5,
      "outputs": []
    },
    {
      "cell_type": "markdown",
      "metadata": {
        "id": "fnAjLW1UVQap"
      },
      "source": [
        "#Vocab"
      ]
    },
    {
      "cell_type": "code",
      "metadata": {
        "id": "mm1Ud6mcVRP6"
      },
      "source": [
        "import spacy  # for tokenizer\n",
        "\n",
        "\n",
        "spacy_eng = spacy.load(\"en\")\n",
        "\n",
        "class Vocabulary:\n",
        "    def __init__(self, freq_threshold):\n",
        "        self.itos = {0: \"<PAD>\", 1: \"<SOS>\", 2: \"<EOS>\", 3: \"<UNK>\"}\n",
        "        self.stoi = {\"<PAD>\": 0, \"<SOS>\": 1, \"<EOS>\": 2, \"<UNK>\": 3}\n",
        "        self.freq_threshold = freq_threshold\n",
        "\n",
        "    def __len__(self):\n",
        "        return len(self.itos)\n",
        "\n",
        "    @staticmethod\n",
        "    def tokenizer_eng(text):\n",
        "        return [tok.text.lower() for tok in spacy_eng.tokenizer(text)]\n",
        "\n",
        "    def build_vocabulary(self, sentence_list):\n",
        "        frequencies = {}\n",
        "        idx = 4\n",
        "\n",
        "        for sentence in sentence_list:\n",
        "            for word in self.tokenizer_eng(sentence):\n",
        "                if word not in frequencies:\n",
        "                    frequencies[word] = 1\n",
        "\n",
        "                else:\n",
        "                    frequencies[word] += 1\n",
        "\n",
        "                if frequencies[word] == self.freq_threshold:\n",
        "                    self.stoi[word] = idx\n",
        "                    self.itos[idx] = word\n",
        "                    idx += 1\n",
        "\n",
        "    def numericalize(self, text):\n",
        "        tokenized_text = self.tokenizer_eng(text)\n",
        "\n",
        "        return [\n",
        "            self.stoi[token] if token in self.stoi else self.stoi[\"<UNK>\"]\n",
        "            for token in tokenized_text\n",
        "        ]\n",
        "vocab = Vocabulary(1)\n",
        "vocab.build_vocabulary(concatenated)"
      ],
      "execution_count": 6,
      "outputs": []
    },
    {
      "cell_type": "code",
      "metadata": {
        "id": "MHKVpPJGfiSW"
      },
      "source": [
        "## the custom dataset is better off having the things as a tuple or some shit, rather than what this abomination is.\n"
      ],
      "execution_count": 7,
      "outputs": []
    },
    {
      "cell_type": "code",
      "metadata": {
        "id": "cKDi8yjp0uI7"
      },
      "source": [
        "#numericalized_caption = [self.vocab.stoi[\"<SOS>\"]]\n",
        "#numericalized_caption += self.vocab.numericalize(caption)\n",
        "#numericalized_caption.append(self.vocab.stoi[\"<EOS>\"])"
      ],
      "execution_count": 8,
      "outputs": []
    },
    {
      "cell_type": "code",
      "metadata": {
        "id": "cqFJLy-jO5n9"
      },
      "source": [
        ""
      ],
      "execution_count": 8,
      "outputs": []
    },
    {
      "cell_type": "markdown",
      "metadata": {
        "id": "3WtU3P_xVVQe"
      },
      "source": [
        "#Custom DAtaset"
      ]
    },
    {
      "cell_type": "code",
      "metadata": {
        "id": "5760CHJHO5t1"
      },
      "source": [
        "pad_idx = vocab.stoi[\"<PAD>\"]"
      ],
      "execution_count": 9,
      "outputs": []
    },
    {
      "cell_type": "code",
      "metadata": {
        "id": "Y6n-M5WEfiVj"
      },
      "source": [
        "class CustomTextDataset(Dataset):\n",
        "  def __init__(self,expert,layperson,whole):\n",
        "    #parse arguments such as the list of tokens\n",
        "    self.expert = expert\n",
        "    self.layperson = layperson\n",
        "    self.whole=whole\n",
        "    \n",
        "    #create vocab and build ??\n",
        "\n",
        "  def __len__(self):\n",
        "    return len(self.whole)\n",
        "\n",
        "\n",
        "  def __getitem__(self, idx):\n",
        "    exp = self.expert[idx]\n",
        "    lay = self.layperson[idx]\n",
        "\n",
        "    numericalized_exp = [vocab.stoi[\"<SOS>\"]]\n",
        "    numericalized_exp +=vocab.numericalize(exp)\n",
        "    numericalized_exp.append(vocab.stoi[\"<EOS>\"])\n",
        "\n",
        "    numericalized_lay = [vocab.stoi[\"<SOS>\"]]\n",
        "    numericalized_lay +=vocab.numericalize(lay)\n",
        "    numericalized_lay.append(vocab.stoi[\"<EOS>\"])\n",
        "\n",
        "    return torch.tensor(numericalized_lay),torch.tensor(numericalized_exp)\n",
        "\n",
        "  #  return self.whole[idx]\n"
      ],
      "execution_count": 10,
      "outputs": []
    },
    {
      "cell_type": "code",
      "metadata": {
        "id": "iOXZFFQgNtOJ"
      },
      "source": [
        "class MyCollate:\n",
        "    def __init__(self, pad_idx):\n",
        "        self.pad_idx = pad_idx\n",
        "\n",
        "    def __call__(self, batch):\n",
        "        lay = [item[0] for item in batch]\n",
        "        lay = pad_sequence(lay, batch_first=False, padding_value=self.pad_idx)\n",
        "        exp = [item[1] for item in batch]\n",
        "        exp = pad_sequence(exp, batch_first=False, padding_value=self.pad_idx)\n",
        "\n",
        "        return lay, exp"
      ],
      "execution_count": 11,
      "outputs": []
    },
    {
      "cell_type": "code",
      "metadata": {
        "id": "irYrvKiJ3EPP"
      },
      "source": [
        "dataset = CustomTextDataset(text_expert,text_layperson,together)"
      ],
      "execution_count": 12,
      "outputs": []
    },
    {
      "cell_type": "code",
      "metadata": {
        "id": "cQqWLgrOwVFI"
      },
      "source": [
        "val_dataset = CustomTextDataset(text_expert,text_layperson,together)"
      ],
      "execution_count": 13,
      "outputs": []
    },
    {
      "cell_type": "code",
      "metadata": {
        "id": "Zb8k1zw3PLom"
      },
      "source": [
        "from torch.nn.utils.rnn import pad_sequence  # pad batch\n"
      ],
      "execution_count": 14,
      "outputs": []
    },
    {
      "cell_type": "markdown",
      "metadata": {
        "id": "ewz5rFHNVYZd"
      },
      "source": [
        "#Data Loader"
      ]
    },
    {
      "cell_type": "code",
      "metadata": {
        "id": "Fg4GylhD3OS6"
      },
      "source": [
        "dataloader = DataLoader(dataset,batch_size=1,shuffle=True, collate_fn=MyCollate(pad_idx=pad_idx))\n"
      ],
      "execution_count": 15,
      "outputs": []
    },
    {
      "cell_type": "code",
      "metadata": {
        "id": "yVB9g-uQwmID"
      },
      "source": [
        "val_loader = DataLoader(val_dataset,batch_size=1,shuffle=True, collate_fn=MyCollate(pad_idx=pad_idx))"
      ],
      "execution_count": 16,
      "outputs": []
    },
    {
      "cell_type": "code",
      "metadata": {
        "id": "lASD6Vwymbyu"
      },
      "source": [
        "def get_batch(dataloader):\n",
        "  for i, batch in enumerate(dataloader):\n",
        "    expert_batch = batch[0]\n",
        "    layperson_batch = batch[1]\n",
        "   # print(batch[0])\n",
        "    #print(batch[1])\n",
        "    break\n",
        "\n",
        "\n",
        "\n",
        "  return expert_batch,layperson_batch"
      ],
      "execution_count": 17,
      "outputs": []
    },
    {
      "cell_type": "markdown",
      "metadata": {
        "id": "zmgKZ0qlVbH6"
      },
      "source": [
        "#Maybe Train?!?!"
      ]
    },
    {
      "cell_type": "code",
      "metadata": {
        "id": "urMapVij-8PH"
      },
      "source": [
        "def batch_preprocess(batch_0,batch_1,pad_idx):\n",
        "  diff = batch_1.size(0) - batch_0.size(0) # filling them with pads if they're distinct in size\n",
        "\n",
        "  if diff < 0: \n",
        "    pad = torch.full_like(batch_0[:-diff:, :batch_0.size(1)], pad_idx)\n",
        "    batch_1 = torch.cat((batch_1, pad), 0)\n",
        "\n",
        "  elif diff > 0:\n",
        "    pad = torch.full_like(batch_1[:diff, :batch_1.size(1)], pad_idx)\n",
        "    batch_0 = torch.cat((batch_0, pad), 0)\n",
        "\n",
        "  #pos_styles = torch.ones_like(batch_pos[:, 0])\n",
        "  #neg_styles = torch.zeros_like(batch_neg[:, 0])\n",
        "\n",
        " # print('batch size of batch_0 is: ', batch_0.shape)\n",
        " # print('batch size of batch_1 is: ', batch_1.shape)\n",
        "  return batch_0,batch_1\n"
      ],
      "execution_count": 18,
      "outputs": []
    },
    {
      "cell_type": "code",
      "metadata": {
        "id": "TF1bXjGKBggT"
      },
      "source": [
        ""
      ],
      "execution_count": null,
      "outputs": []
    },
    {
      "cell_type": "code",
      "metadata": {
        "id": "g3ZdRsQnQDEm"
      },
      "source": [
        "ntokens = len(vocab)  # size of vocabulary\n",
        "#emsize = 256  # embedding dimension\n",
        "#d_hid = 1024  # dimension of the feedforward network model in nn.TransformerEncoder\n",
        "#nlayers = 4  # number of nn.TransformerEncoderLayer in nn.TransformerEncoder\n",
        "#nhead = 4  # number of heads in nn.MultiheadAttention\n",
        "#dropout = 0.2  # dropout probability\n",
        "device = torch.device('cuda' if torch.cuda.is_available() else 'cpu')\n",
        "pad_idx = 0\n",
        "\n",
        "model = Transformer(ntokens, ntokens, pad_idx, pad_idx, device=device).to(device)"
      ],
      "execution_count": 19,
      "outputs": []
    },
    {
      "cell_type": "code",
      "metadata": {
        "id": "QMUXDWCLUV53"
      },
      "source": [
        "import copy\n",
        "import time\n",
        "\n",
        "#criterion = nn.NLLLoss(reduction='none')\n",
        "criterion = nn.CrossEntropyLoss(reduction = 'none')\n",
        "lr = 0.01  # learning rate\n",
        "optimizer = torch.optim.SGD(model.parameters(), lr=lr)\n",
        "scheduler = torch.optim.lr_scheduler.StepLR(optimizer, 1.0, gamma=0.95)\n",
        "\n",
        "def train(model: nn.Module, dataloader) -> None:\n",
        "    model.train()  # turn on train mode\n",
        "    total_loss = 0.\n",
        "    log_interval = 200\n",
        "    start_time = time.time()\n",
        "    #src_mask = generate_square_subsequent_mask(bptt).to(device)\n",
        "\n",
        "    #for each batch\n",
        "    for i, batch in enumerate(dataloader):\n",
        "      source, targets = batch_preprocess(batch[0].to(device),batch[1].to(device),0)\n",
        "      token_mask = (source != pad_idx).float()\n",
        "      #source = source.type(torch.int64)\n",
        "      targets = targets.type(torch.int64)\n",
        "      #source = batch[0]\n",
        "      #targets = batch[1]\n",
        "      #src_mask = generate_square_subsequent_mask(source.size(0)).to(device)\n",
        "      output = model(source, targets)\n",
        "      #output = output.argmax(-1)\n",
        "      #output = output.type(torch.float64)\n",
        "      #output = output.permute(0,2,1)\n",
        "      #targets = targets.unsqueeze(-1)\n",
        "      #targets = targets.permute(1,0)\n",
        "      \n",
        "      output = output.type(torch.float)\n",
        "      #targets = targets.type(torch.int64)\n",
        "      loss = criterion(output.to(device).transpose(1,2), targets.to(device))*token_mask\n",
        "      loss = loss.sum() / batch[0].size(0)\n",
        "      loss *= 0.25\n",
        "      \n",
        "\n",
        "\n",
        "      optimizer.zero_grad()\n",
        "      loss.backward()\n",
        "      torch.nn.utils.clip_grad_norm_(model.parameters(), 0.5)\n",
        "      optimizer.step()\n",
        "\n",
        "\n",
        "      total_loss += loss.item()\n",
        "\n",
        "      if i % log_interval == 0 and i > 0:\n",
        "          lr = scheduler.get_last_lr()[0]\n",
        "          ms_per_batch = (time.time() - start_time) * 1000 / log_interval\n",
        "          cur_loss = total_loss / log_interval\n",
        "          ppl = math.exp(cur_loss)\n",
        "          #print(f'| epoch {epoch:3d} | {i:5d}/{num_batches:5d} batches | '\n",
        "           #     f'lr {lr:02.2f} | ms/batch {ms_per_batch:5.2f} | '\n",
        "            #    f'loss {cur_loss:5.2f} | ppl {ppl:8.2f}')\n",
        "          total_loss = 0\n",
        "          start_time = time.time()\n"
      ],
      "execution_count": 24,
      "outputs": []
    },
    {
      "cell_type": "code",
      "metadata": {
        "id": "zJbIWWpPjK9Q"
      },
      "source": [
        "\n",
        "def evaluate(model: nn.Module, loader) -> float:\n",
        "    model.eval()  # turn on evaluation mode\n",
        "    total_loss = 0.\n",
        "    #src_mask = generate_square_subsequent_mask(bptt).to(device)\n",
        "    with torch.no_grad():\n",
        "      for i, batch in enumerate(loader):\n",
        "\n",
        "        source, targets = batch_preprocess(batch[0].to(device),batch[1].to(device),0)\n",
        "        targets = targets.type(torch.int64)\n",
        "\n",
        "        token_mask = (source != pad_idx).float()\n",
        "        #targets = targets.unsqueeze(-1)\n",
        "        #source = batch[0]\n",
        "        #targets = batch[1]\n",
        "\n",
        "        #src_mask = generate_square_subsequent_mask(source.size(0)).to(device)\n",
        "        batch_size = batch[0].size(0)\n",
        "        output = model(source, targets)\n",
        "        output = output.type(torch.float)\n",
        "\n",
        "        #output = output.permute(0,2,1)\n",
        "        #output_flat = output.view(-1, ntokens)\n",
        "        loss = criterion(output.to(device).transpose(1,2), targets.to(device))*token_mask\n",
        "        loss = loss.sum() / batch[0].size(0)\n",
        "        loss *= 0.25\n",
        "\n",
        "  \n",
        "        \n",
        "        \n",
        "    return loss"
      ],
      "execution_count": 22,
      "outputs": []
    },
    {
      "cell_type": "code",
      "metadata": {
        "id": "LSNW-vAj0aFA"
      },
      "source": [
        "try:\n",
        "    ans = math.exp(200000)\n",
        "except OverflowError:\n",
        "    ans = float('inf')"
      ],
      "execution_count": null,
      "outputs": []
    },
    {
      "cell_type": "code",
      "metadata": {
        "id": "XZ1FpFgBmHFN"
      },
      "source": [
        "torch.cuda.empty_cache()"
      ],
      "execution_count": 26,
      "outputs": []
    },
    {
      "cell_type": "code",
      "metadata": {
        "id": "MQG8OLb-Lkps"
      },
      "source": [
        ""
      ],
      "execution_count": 24,
      "outputs": []
    },
    {
      "cell_type": "code",
      "metadata": {
        "colab": {
          "base_uri": "https://localhost:8080/",
          "height": 381
        },
        "id": "CovRoV9k0eHE",
        "outputId": "372b1b80-25d0-42c2-92f7-eca0acc85729"
      },
      "source": [
        "best_val_loss = float('inf')\n",
        "epochs = 1\n",
        "best_model = None\n",
        "\n",
        "for epoch in range(1, epochs + 1):\n",
        "    epoch_start_time = time.time()\n",
        "    train(model,dataloader)\n",
        "    val_loss = evaluate(model, val_loader)\n",
        "    try:\n",
        "      ans = math.exp(val_loss)\n",
        "    except OverflowError:\n",
        "      ans = float('inf')\n",
        "    val_ppl = ans\n",
        "    elapsed = time.time() - epoch_start_time\n",
        "    print('-' * 89)\n",
        "    print(f'| end of epoch {epoch:3d} | time: {elapsed:5.2f}s | '\n",
        "          f'valid loss {val_loss:5.2f} | valid ppl {val_ppl:8.2f}')\n",
        "    print('-' * 89)\n",
        "\n",
        "    if val_loss < best_val_loss:\n",
        "        best_val_loss = val_loss\n",
        "        best_model = copy.deepcopy(model)\n",
        "\n",
        "    scheduler.step()"
      ],
      "execution_count": 25,
      "outputs": [
        {
          "output_type": "error",
          "ename": "KeyboardInterrupt",
          "evalue": "ignored",
          "traceback": [
            "\u001b[0;31m---------------------------------------------------------------------------\u001b[0m",
            "\u001b[0;31mKeyboardInterrupt\u001b[0m                         Traceback (most recent call last)",
            "\u001b[0;32m<ipython-input-25-e9d972c3b407>\u001b[0m in \u001b[0;36m<module>\u001b[0;34m()\u001b[0m\n\u001b[1;32m      5\u001b[0m \u001b[0;32mfor\u001b[0m \u001b[0mepoch\u001b[0m \u001b[0;32min\u001b[0m \u001b[0mrange\u001b[0m\u001b[0;34m(\u001b[0m\u001b[0;36m1\u001b[0m\u001b[0;34m,\u001b[0m \u001b[0mepochs\u001b[0m \u001b[0;34m+\u001b[0m \u001b[0;36m1\u001b[0m\u001b[0;34m)\u001b[0m\u001b[0;34m:\u001b[0m\u001b[0;34m\u001b[0m\u001b[0;34m\u001b[0m\u001b[0m\n\u001b[1;32m      6\u001b[0m     \u001b[0mepoch_start_time\u001b[0m \u001b[0;34m=\u001b[0m \u001b[0mtime\u001b[0m\u001b[0;34m.\u001b[0m\u001b[0mtime\u001b[0m\u001b[0;34m(\u001b[0m\u001b[0;34m)\u001b[0m\u001b[0;34m\u001b[0m\u001b[0;34m\u001b[0m\u001b[0m\n\u001b[0;32m----> 7\u001b[0;31m     \u001b[0mtrain\u001b[0m\u001b[0;34m(\u001b[0m\u001b[0mmodel\u001b[0m\u001b[0;34m,\u001b[0m\u001b[0mdataloader\u001b[0m\u001b[0;34m)\u001b[0m\u001b[0;34m\u001b[0m\u001b[0;34m\u001b[0m\u001b[0m\n\u001b[0m\u001b[1;32m      8\u001b[0m     \u001b[0mval_loss\u001b[0m \u001b[0;34m=\u001b[0m \u001b[0mevaluate\u001b[0m\u001b[0;34m(\u001b[0m\u001b[0mmodel\u001b[0m\u001b[0;34m,\u001b[0m \u001b[0mval_loader\u001b[0m\u001b[0;34m)\u001b[0m\u001b[0;34m\u001b[0m\u001b[0;34m\u001b[0m\u001b[0m\n\u001b[1;32m      9\u001b[0m     \u001b[0;32mtry\u001b[0m\u001b[0;34m:\u001b[0m\u001b[0;34m\u001b[0m\u001b[0;34m\u001b[0m\u001b[0m\n",
            "\u001b[0;32m<ipython-input-24-ee0fce27b3f7>\u001b[0m in \u001b[0;36mtrain\u001b[0;34m(model, dataloader)\u001b[0m\n\u001b[1;32m     40\u001b[0m \u001b[0;34m\u001b[0m\u001b[0m\n\u001b[1;32m     41\u001b[0m       \u001b[0moptimizer\u001b[0m\u001b[0;34m.\u001b[0m\u001b[0mzero_grad\u001b[0m\u001b[0;34m(\u001b[0m\u001b[0;34m)\u001b[0m\u001b[0;34m\u001b[0m\u001b[0;34m\u001b[0m\u001b[0m\n\u001b[0;32m---> 42\u001b[0;31m       \u001b[0mloss\u001b[0m\u001b[0;34m.\u001b[0m\u001b[0mbackward\u001b[0m\u001b[0;34m(\u001b[0m\u001b[0;34m)\u001b[0m\u001b[0;34m\u001b[0m\u001b[0;34m\u001b[0m\u001b[0m\n\u001b[0m\u001b[1;32m     43\u001b[0m       \u001b[0mtorch\u001b[0m\u001b[0;34m.\u001b[0m\u001b[0mnn\u001b[0m\u001b[0;34m.\u001b[0m\u001b[0mutils\u001b[0m\u001b[0;34m.\u001b[0m\u001b[0mclip_grad_norm_\u001b[0m\u001b[0;34m(\u001b[0m\u001b[0mmodel\u001b[0m\u001b[0;34m.\u001b[0m\u001b[0mparameters\u001b[0m\u001b[0;34m(\u001b[0m\u001b[0;34m)\u001b[0m\u001b[0;34m,\u001b[0m \u001b[0;36m0.5\u001b[0m\u001b[0;34m)\u001b[0m\u001b[0;34m\u001b[0m\u001b[0;34m\u001b[0m\u001b[0m\n\u001b[1;32m     44\u001b[0m       \u001b[0moptimizer\u001b[0m\u001b[0;34m.\u001b[0m\u001b[0mstep\u001b[0m\u001b[0;34m(\u001b[0m\u001b[0;34m)\u001b[0m\u001b[0;34m\u001b[0m\u001b[0;34m\u001b[0m\u001b[0m\n",
            "\u001b[0;32m/usr/local/lib/python3.7/dist-packages/torch/_tensor.py\u001b[0m in \u001b[0;36mbackward\u001b[0;34m(self, gradient, retain_graph, create_graph, inputs)\u001b[0m\n\u001b[1;32m    253\u001b[0m                 \u001b[0mcreate_graph\u001b[0m\u001b[0;34m=\u001b[0m\u001b[0mcreate_graph\u001b[0m\u001b[0;34m,\u001b[0m\u001b[0;34m\u001b[0m\u001b[0;34m\u001b[0m\u001b[0m\n\u001b[1;32m    254\u001b[0m                 inputs=inputs)\n\u001b[0;32m--> 255\u001b[0;31m         \u001b[0mtorch\u001b[0m\u001b[0;34m.\u001b[0m\u001b[0mautograd\u001b[0m\u001b[0;34m.\u001b[0m\u001b[0mbackward\u001b[0m\u001b[0;34m(\u001b[0m\u001b[0mself\u001b[0m\u001b[0;34m,\u001b[0m \u001b[0mgradient\u001b[0m\u001b[0;34m,\u001b[0m \u001b[0mretain_graph\u001b[0m\u001b[0;34m,\u001b[0m \u001b[0mcreate_graph\u001b[0m\u001b[0;34m,\u001b[0m \u001b[0minputs\u001b[0m\u001b[0;34m=\u001b[0m\u001b[0minputs\u001b[0m\u001b[0;34m)\u001b[0m\u001b[0;34m\u001b[0m\u001b[0;34m\u001b[0m\u001b[0m\n\u001b[0m\u001b[1;32m    256\u001b[0m \u001b[0;34m\u001b[0m\u001b[0m\n\u001b[1;32m    257\u001b[0m     \u001b[0;32mdef\u001b[0m \u001b[0mregister_hook\u001b[0m\u001b[0;34m(\u001b[0m\u001b[0mself\u001b[0m\u001b[0;34m,\u001b[0m \u001b[0mhook\u001b[0m\u001b[0;34m)\u001b[0m\u001b[0;34m:\u001b[0m\u001b[0;34m\u001b[0m\u001b[0;34m\u001b[0m\u001b[0m\n",
            "\u001b[0;32m/usr/local/lib/python3.7/dist-packages/torch/autograd/__init__.py\u001b[0m in \u001b[0;36mbackward\u001b[0;34m(tensors, grad_tensors, retain_graph, create_graph, grad_variables, inputs)\u001b[0m\n\u001b[1;32m    147\u001b[0m     Variable._execution_engine.run_backward(\n\u001b[1;32m    148\u001b[0m         \u001b[0mtensors\u001b[0m\u001b[0;34m,\u001b[0m \u001b[0mgrad_tensors_\u001b[0m\u001b[0;34m,\u001b[0m \u001b[0mretain_graph\u001b[0m\u001b[0;34m,\u001b[0m \u001b[0mcreate_graph\u001b[0m\u001b[0;34m,\u001b[0m \u001b[0minputs\u001b[0m\u001b[0;34m,\u001b[0m\u001b[0;34m\u001b[0m\u001b[0;34m\u001b[0m\u001b[0m\n\u001b[0;32m--> 149\u001b[0;31m         allow_unreachable=True, accumulate_grad=True)  # allow_unreachable flag\n\u001b[0m\u001b[1;32m    150\u001b[0m \u001b[0;34m\u001b[0m\u001b[0m\n\u001b[1;32m    151\u001b[0m \u001b[0;34m\u001b[0m\u001b[0m\n",
            "\u001b[0;31mKeyboardInterrupt\u001b[0m: "
          ]
        }
      ]
    },
    {
      "cell_type": "code",
      "metadata": {
        "id": "YcL56Irpn0-N"
      },
      "source": [
        "history = []"
      ],
      "execution_count": 29,
      "outputs": []
    },
    {
      "cell_type": "code",
      "metadata": {
        "colab": {
          "base_uri": "https://localhost:8080/",
          "height": 381
        },
        "id": "wXBQKw2dl0Me",
        "outputId": "9ba58a07-0e21-44eb-d27e-fd2cd96201aa"
      },
      "source": [
        " with torch.no_grad():\n",
        "      for i, batch in enumerate(val_loader):\n",
        "\n",
        "        source, targets = batch_preprocess(batch[0].to(device),batch[1].to(device),0)\n",
        "        targets = targets.type(torch.int64)\n",
        "\n",
        "        token_mask = (source != pad_idx).float()\n",
        "        #targets = targets.unsqueeze(-1)\n",
        "        #source = batch[0]\n",
        "        #targets = batch[1]\n",
        "\n",
        "        #src_mask = generate_square_subsequent_mask(source.size(0)).to(device)\n",
        "        batch_size = batch[0].size(0)\n",
        "        output = model(source, targets)\n",
        "        output = output.type(torch.float)\n",
        "\n",
        "        #output = output.permute(0,2,1)\n",
        "        #output_flat = output.view(-1, ntokens)\n",
        "        loss = criterion(output.to(device).transpose(1,2), targets.to(device))*token_mask\n",
        "        loss = loss.sum() / batch[0].size(0)\n",
        "        loss *= 0.25\n",
        "        history.append(loss)"
      ],
      "execution_count": 36,
      "outputs": [
        {
          "output_type": "error",
          "ename": "KeyboardInterrupt",
          "evalue": "ignored",
          "traceback": [
            "\u001b[0;31m---------------------------------------------------------------------------\u001b[0m",
            "\u001b[0;31mKeyboardInterrupt\u001b[0m                         Traceback (most recent call last)",
            "\u001b[0;32m<ipython-input-36-e38308cc253b>\u001b[0m in \u001b[0;36m<module>\u001b[0;34m()\u001b[0m\n\u001b[1;32m     12\u001b[0m        \u001b[0;31m#src_mask = generate_square_subsequent_mask(source.size(0)).to(device)\u001b[0m\u001b[0;34m\u001b[0m\u001b[0;34m\u001b[0m\u001b[0;34m\u001b[0m\u001b[0m\n\u001b[1;32m     13\u001b[0m        \u001b[0mbatch_size\u001b[0m \u001b[0;34m=\u001b[0m \u001b[0mbatch\u001b[0m\u001b[0;34m[\u001b[0m\u001b[0;36m0\u001b[0m\u001b[0;34m]\u001b[0m\u001b[0;34m.\u001b[0m\u001b[0msize\u001b[0m\u001b[0;34m(\u001b[0m\u001b[0;36m0\u001b[0m\u001b[0;34m)\u001b[0m\u001b[0;34m\u001b[0m\u001b[0;34m\u001b[0m\u001b[0m\n\u001b[0;32m---> 14\u001b[0;31m        \u001b[0moutput\u001b[0m \u001b[0;34m=\u001b[0m \u001b[0mmodel\u001b[0m\u001b[0;34m(\u001b[0m\u001b[0msource\u001b[0m\u001b[0;34m,\u001b[0m \u001b[0mtargets\u001b[0m\u001b[0;34m)\u001b[0m\u001b[0;34m\u001b[0m\u001b[0;34m\u001b[0m\u001b[0m\n\u001b[0m\u001b[1;32m     15\u001b[0m        \u001b[0moutput\u001b[0m \u001b[0;34m=\u001b[0m \u001b[0moutput\u001b[0m\u001b[0;34m.\u001b[0m\u001b[0mtype\u001b[0m\u001b[0;34m(\u001b[0m\u001b[0mtorch\u001b[0m\u001b[0;34m.\u001b[0m\u001b[0mfloat\u001b[0m\u001b[0;34m)\u001b[0m\u001b[0;34m\u001b[0m\u001b[0;34m\u001b[0m\u001b[0m\n\u001b[1;32m     16\u001b[0m \u001b[0;34m\u001b[0m\u001b[0m\n",
            "\u001b[0;32m/usr/local/lib/python3.7/dist-packages/torch/nn/modules/module.py\u001b[0m in \u001b[0;36m_call_impl\u001b[0;34m(self, *input, **kwargs)\u001b[0m\n\u001b[1;32m   1049\u001b[0m         if not (self._backward_hooks or self._forward_hooks or self._forward_pre_hooks or _global_backward_hooks\n\u001b[1;32m   1050\u001b[0m                 or _global_forward_hooks or _global_forward_pre_hooks):\n\u001b[0;32m-> 1051\u001b[0;31m             \u001b[0;32mreturn\u001b[0m \u001b[0mforward_call\u001b[0m\u001b[0;34m(\u001b[0m\u001b[0;34m*\u001b[0m\u001b[0minput\u001b[0m\u001b[0;34m,\u001b[0m \u001b[0;34m**\u001b[0m\u001b[0mkwargs\u001b[0m\u001b[0;34m)\u001b[0m\u001b[0;34m\u001b[0m\u001b[0;34m\u001b[0m\u001b[0m\n\u001b[0m\u001b[1;32m   1052\u001b[0m         \u001b[0;31m# Do not call functions when jit is used\u001b[0m\u001b[0;34m\u001b[0m\u001b[0;34m\u001b[0m\u001b[0;34m\u001b[0m\u001b[0m\n\u001b[1;32m   1053\u001b[0m         \u001b[0mfull_backward_hooks\u001b[0m\u001b[0;34m,\u001b[0m \u001b[0mnon_full_backward_hooks\u001b[0m \u001b[0;34m=\u001b[0m \u001b[0;34m[\u001b[0m\u001b[0;34m]\u001b[0m\u001b[0;34m,\u001b[0m \u001b[0;34m[\u001b[0m\u001b[0;34m]\u001b[0m\u001b[0;34m\u001b[0m\u001b[0;34m\u001b[0m\u001b[0m\n",
            "\u001b[0;32m<ipython-input-4-8022435eea27>\u001b[0m in \u001b[0;36mforward\u001b[0;34m(self, src, trg)\u001b[0m\n\u001b[1;32m    260\u001b[0m         \u001b[0mtrg_mask\u001b[0m \u001b[0;34m=\u001b[0m \u001b[0mself\u001b[0m\u001b[0;34m.\u001b[0m\u001b[0mmake_trg_mask\u001b[0m\u001b[0;34m(\u001b[0m\u001b[0mtrg\u001b[0m\u001b[0;34m)\u001b[0m\u001b[0;34m\u001b[0m\u001b[0;34m\u001b[0m\u001b[0m\n\u001b[1;32m    261\u001b[0m         \u001b[0menc_src\u001b[0m \u001b[0;34m=\u001b[0m \u001b[0mself\u001b[0m\u001b[0;34m.\u001b[0m\u001b[0mencoder\u001b[0m\u001b[0;34m(\u001b[0m\u001b[0msrc\u001b[0m\u001b[0;34m,\u001b[0m \u001b[0msrc_mask\u001b[0m\u001b[0;34m)\u001b[0m\u001b[0;34m\u001b[0m\u001b[0;34m\u001b[0m\u001b[0m\n\u001b[0;32m--> 262\u001b[0;31m         \u001b[0mout\u001b[0m \u001b[0;34m=\u001b[0m \u001b[0mself\u001b[0m\u001b[0;34m.\u001b[0m\u001b[0mdecoder\u001b[0m\u001b[0;34m(\u001b[0m\u001b[0mtrg\u001b[0m\u001b[0;34m,\u001b[0m \u001b[0menc_src\u001b[0m\u001b[0;34m,\u001b[0m \u001b[0msrc_mask\u001b[0m\u001b[0;34m,\u001b[0m \u001b[0mtrg_mask\u001b[0m\u001b[0;34m)\u001b[0m\u001b[0;34m\u001b[0m\u001b[0;34m\u001b[0m\u001b[0m\n\u001b[0m\u001b[1;32m    263\u001b[0m         \u001b[0;32mreturn\u001b[0m \u001b[0mout\u001b[0m\u001b[0;34m\u001b[0m\u001b[0;34m\u001b[0m\u001b[0m\n",
            "\u001b[0;32m/usr/local/lib/python3.7/dist-packages/torch/nn/modules/module.py\u001b[0m in \u001b[0;36m_call_impl\u001b[0;34m(self, *input, **kwargs)\u001b[0m\n\u001b[1;32m   1049\u001b[0m         if not (self._backward_hooks or self._forward_hooks or self._forward_pre_hooks or _global_backward_hooks\n\u001b[1;32m   1050\u001b[0m                 or _global_forward_hooks or _global_forward_pre_hooks):\n\u001b[0;32m-> 1051\u001b[0;31m             \u001b[0;32mreturn\u001b[0m \u001b[0mforward_call\u001b[0m\u001b[0;34m(\u001b[0m\u001b[0;34m*\u001b[0m\u001b[0minput\u001b[0m\u001b[0;34m,\u001b[0m \u001b[0;34m**\u001b[0m\u001b[0mkwargs\u001b[0m\u001b[0;34m)\u001b[0m\u001b[0;34m\u001b[0m\u001b[0;34m\u001b[0m\u001b[0m\n\u001b[0m\u001b[1;32m   1052\u001b[0m         \u001b[0;31m# Do not call functions when jit is used\u001b[0m\u001b[0;34m\u001b[0m\u001b[0;34m\u001b[0m\u001b[0;34m\u001b[0m\u001b[0m\n\u001b[1;32m   1053\u001b[0m         \u001b[0mfull_backward_hooks\u001b[0m\u001b[0;34m,\u001b[0m \u001b[0mnon_full_backward_hooks\u001b[0m \u001b[0;34m=\u001b[0m \u001b[0;34m[\u001b[0m\u001b[0;34m]\u001b[0m\u001b[0;34m,\u001b[0m \u001b[0;34m[\u001b[0m\u001b[0;34m]\u001b[0m\u001b[0;34m\u001b[0m\u001b[0;34m\u001b[0m\u001b[0m\n",
            "\u001b[0;32m<ipython-input-4-8022435eea27>\u001b[0m in \u001b[0;36mforward\u001b[0;34m(self, x, enc_out, src_mask, trg_mask)\u001b[0m\n\u001b[1;32m    192\u001b[0m \u001b[0;34m\u001b[0m\u001b[0m\n\u001b[1;32m    193\u001b[0m         \u001b[0;32mfor\u001b[0m \u001b[0mlayer\u001b[0m \u001b[0;32min\u001b[0m \u001b[0mself\u001b[0m\u001b[0;34m.\u001b[0m\u001b[0mlayers\u001b[0m\u001b[0;34m:\u001b[0m\u001b[0;34m\u001b[0m\u001b[0;34m\u001b[0m\u001b[0m\n\u001b[0;32m--> 194\u001b[0;31m             \u001b[0mx\u001b[0m \u001b[0;34m=\u001b[0m \u001b[0mlayer\u001b[0m\u001b[0;34m(\u001b[0m\u001b[0mx\u001b[0m\u001b[0;34m,\u001b[0m \u001b[0menc_out\u001b[0m\u001b[0;34m,\u001b[0m \u001b[0menc_out\u001b[0m\u001b[0;34m,\u001b[0m \u001b[0msrc_mask\u001b[0m\u001b[0;34m,\u001b[0m \u001b[0mtrg_mask\u001b[0m\u001b[0;34m)\u001b[0m\u001b[0;34m\u001b[0m\u001b[0;34m\u001b[0m\u001b[0m\n\u001b[0m\u001b[1;32m    195\u001b[0m \u001b[0;34m\u001b[0m\u001b[0m\n\u001b[1;32m    196\u001b[0m         \u001b[0mout\u001b[0m \u001b[0;34m=\u001b[0m \u001b[0mself\u001b[0m\u001b[0;34m.\u001b[0m\u001b[0mfc_out\u001b[0m\u001b[0;34m(\u001b[0m\u001b[0mx\u001b[0m\u001b[0;34m)\u001b[0m\u001b[0;34m\u001b[0m\u001b[0;34m\u001b[0m\u001b[0m\n",
            "\u001b[0;32m/usr/local/lib/python3.7/dist-packages/torch/nn/modules/module.py\u001b[0m in \u001b[0;36m_call_impl\u001b[0;34m(self, *input, **kwargs)\u001b[0m\n\u001b[1;32m   1049\u001b[0m         if not (self._backward_hooks or self._forward_hooks or self._forward_pre_hooks or _global_backward_hooks\n\u001b[1;32m   1050\u001b[0m                 or _global_forward_hooks or _global_forward_pre_hooks):\n\u001b[0;32m-> 1051\u001b[0;31m             \u001b[0;32mreturn\u001b[0m \u001b[0mforward_call\u001b[0m\u001b[0;34m(\u001b[0m\u001b[0;34m*\u001b[0m\u001b[0minput\u001b[0m\u001b[0;34m,\u001b[0m \u001b[0;34m**\u001b[0m\u001b[0mkwargs\u001b[0m\u001b[0;34m)\u001b[0m\u001b[0;34m\u001b[0m\u001b[0;34m\u001b[0m\u001b[0m\n\u001b[0m\u001b[1;32m   1052\u001b[0m         \u001b[0;31m# Do not call functions when jit is used\u001b[0m\u001b[0;34m\u001b[0m\u001b[0;34m\u001b[0m\u001b[0;34m\u001b[0m\u001b[0m\n\u001b[1;32m   1053\u001b[0m         \u001b[0mfull_backward_hooks\u001b[0m\u001b[0;34m,\u001b[0m \u001b[0mnon_full_backward_hooks\u001b[0m \u001b[0;34m=\u001b[0m \u001b[0;34m[\u001b[0m\u001b[0;34m]\u001b[0m\u001b[0;34m,\u001b[0m \u001b[0;34m[\u001b[0m\u001b[0;34m]\u001b[0m\u001b[0;34m\u001b[0m\u001b[0;34m\u001b[0m\u001b[0m\n",
            "\u001b[0;32m<ipython-input-4-8022435eea27>\u001b[0m in \u001b[0;36mforward\u001b[0;34m(self, x, value, key, src_mask, trg_mask)\u001b[0m\n\u001b[1;32m    156\u001b[0m         \u001b[0mattention\u001b[0m \u001b[0;34m=\u001b[0m \u001b[0mself\u001b[0m\u001b[0;34m.\u001b[0m\u001b[0mattention\u001b[0m\u001b[0;34m(\u001b[0m\u001b[0mx\u001b[0m\u001b[0;34m,\u001b[0m \u001b[0mx\u001b[0m\u001b[0;34m,\u001b[0m \u001b[0mx\u001b[0m\u001b[0;34m,\u001b[0m \u001b[0mtrg_mask\u001b[0m\u001b[0;34m)\u001b[0m\u001b[0;34m\u001b[0m\u001b[0;34m\u001b[0m\u001b[0m\n\u001b[1;32m    157\u001b[0m         \u001b[0mquery\u001b[0m \u001b[0;34m=\u001b[0m \u001b[0mself\u001b[0m\u001b[0;34m.\u001b[0m\u001b[0mdropout\u001b[0m\u001b[0;34m(\u001b[0m\u001b[0mself\u001b[0m\u001b[0;34m.\u001b[0m\u001b[0mnorm\u001b[0m\u001b[0;34m(\u001b[0m\u001b[0mattention\u001b[0m \u001b[0;34m+\u001b[0m \u001b[0mx\u001b[0m\u001b[0;34m)\u001b[0m\u001b[0;34m)\u001b[0m\u001b[0;34m\u001b[0m\u001b[0;34m\u001b[0m\u001b[0m\n\u001b[0;32m--> 158\u001b[0;31m         \u001b[0mout\u001b[0m \u001b[0;34m=\u001b[0m \u001b[0mself\u001b[0m\u001b[0;34m.\u001b[0m\u001b[0mtransformer_block\u001b[0m\u001b[0;34m(\u001b[0m\u001b[0mvalue\u001b[0m\u001b[0;34m,\u001b[0m \u001b[0mkey\u001b[0m\u001b[0;34m,\u001b[0m \u001b[0mquery\u001b[0m\u001b[0;34m,\u001b[0m \u001b[0msrc_mask\u001b[0m\u001b[0;34m)\u001b[0m\u001b[0;34m\u001b[0m\u001b[0;34m\u001b[0m\u001b[0m\n\u001b[0m\u001b[1;32m    159\u001b[0m         \u001b[0;32mreturn\u001b[0m \u001b[0mout\u001b[0m\u001b[0;34m\u001b[0m\u001b[0;34m\u001b[0m\u001b[0m\n\u001b[1;32m    160\u001b[0m \u001b[0;34m\u001b[0m\u001b[0m\n",
            "\u001b[0;32m/usr/local/lib/python3.7/dist-packages/torch/nn/modules/module.py\u001b[0m in \u001b[0;36m_call_impl\u001b[0;34m(self, *input, **kwargs)\u001b[0m\n\u001b[1;32m   1049\u001b[0m         if not (self._backward_hooks or self._forward_hooks or self._forward_pre_hooks or _global_backward_hooks\n\u001b[1;32m   1050\u001b[0m                 or _global_forward_hooks or _global_forward_pre_hooks):\n\u001b[0;32m-> 1051\u001b[0;31m             \u001b[0;32mreturn\u001b[0m \u001b[0mforward_call\u001b[0m\u001b[0;34m(\u001b[0m\u001b[0;34m*\u001b[0m\u001b[0minput\u001b[0m\u001b[0;34m,\u001b[0m \u001b[0;34m**\u001b[0m\u001b[0mkwargs\u001b[0m\u001b[0;34m)\u001b[0m\u001b[0;34m\u001b[0m\u001b[0;34m\u001b[0m\u001b[0m\n\u001b[0m\u001b[1;32m   1052\u001b[0m         \u001b[0;31m# Do not call functions when jit is used\u001b[0m\u001b[0;34m\u001b[0m\u001b[0;34m\u001b[0m\u001b[0;34m\u001b[0m\u001b[0m\n\u001b[1;32m   1053\u001b[0m         \u001b[0mfull_backward_hooks\u001b[0m\u001b[0;34m,\u001b[0m \u001b[0mnon_full_backward_hooks\u001b[0m \u001b[0;34m=\u001b[0m \u001b[0;34m[\u001b[0m\u001b[0;34m]\u001b[0m\u001b[0;34m,\u001b[0m \u001b[0;34m[\u001b[0m\u001b[0;34m]\u001b[0m\u001b[0;34m\u001b[0m\u001b[0;34m\u001b[0m\u001b[0m\n",
            "\u001b[0;32m<ipython-input-4-8022435eea27>\u001b[0m in \u001b[0;36mforward\u001b[0;34m(self, value, key, query, mask)\u001b[0m\n\u001b[1;32m     90\u001b[0m         \u001b[0;31m# Add skip connection, run through normalization and finally dropout\u001b[0m\u001b[0;34m\u001b[0m\u001b[0;34m\u001b[0m\u001b[0;34m\u001b[0m\u001b[0m\n\u001b[1;32m     91\u001b[0m         \u001b[0mx\u001b[0m \u001b[0;34m=\u001b[0m \u001b[0mself\u001b[0m\u001b[0;34m.\u001b[0m\u001b[0mdropout\u001b[0m\u001b[0;34m(\u001b[0m\u001b[0mself\u001b[0m\u001b[0;34m.\u001b[0m\u001b[0mnorm1\u001b[0m\u001b[0;34m(\u001b[0m\u001b[0mattention\u001b[0m \u001b[0;34m+\u001b[0m \u001b[0mquery\u001b[0m\u001b[0;34m)\u001b[0m\u001b[0;34m)\u001b[0m\u001b[0;34m\u001b[0m\u001b[0;34m\u001b[0m\u001b[0m\n\u001b[0;32m---> 92\u001b[0;31m         \u001b[0mforward\u001b[0m \u001b[0;34m=\u001b[0m \u001b[0mself\u001b[0m\u001b[0;34m.\u001b[0m\u001b[0mfeed_forward\u001b[0m\u001b[0;34m(\u001b[0m\u001b[0mx\u001b[0m\u001b[0;34m)\u001b[0m\u001b[0;34m\u001b[0m\u001b[0;34m\u001b[0m\u001b[0m\n\u001b[0m\u001b[1;32m     93\u001b[0m         \u001b[0mout\u001b[0m \u001b[0;34m=\u001b[0m \u001b[0mself\u001b[0m\u001b[0;34m.\u001b[0m\u001b[0mdropout\u001b[0m\u001b[0;34m(\u001b[0m\u001b[0mself\u001b[0m\u001b[0;34m.\u001b[0m\u001b[0mnorm2\u001b[0m\u001b[0;34m(\u001b[0m\u001b[0mforward\u001b[0m \u001b[0;34m+\u001b[0m \u001b[0mx\u001b[0m\u001b[0;34m)\u001b[0m\u001b[0;34m)\u001b[0m\u001b[0;34m\u001b[0m\u001b[0;34m\u001b[0m\u001b[0m\n\u001b[1;32m     94\u001b[0m         \u001b[0;32mreturn\u001b[0m \u001b[0mout\u001b[0m\u001b[0;34m\u001b[0m\u001b[0;34m\u001b[0m\u001b[0m\n",
            "\u001b[0;32m/usr/local/lib/python3.7/dist-packages/torch/nn/modules/module.py\u001b[0m in \u001b[0;36m_call_impl\u001b[0;34m(self, *input, **kwargs)\u001b[0m\n\u001b[1;32m   1049\u001b[0m         if not (self._backward_hooks or self._forward_hooks or self._forward_pre_hooks or _global_backward_hooks\n\u001b[1;32m   1050\u001b[0m                 or _global_forward_hooks or _global_forward_pre_hooks):\n\u001b[0;32m-> 1051\u001b[0;31m             \u001b[0;32mreturn\u001b[0m \u001b[0mforward_call\u001b[0m\u001b[0;34m(\u001b[0m\u001b[0;34m*\u001b[0m\u001b[0minput\u001b[0m\u001b[0;34m,\u001b[0m \u001b[0;34m**\u001b[0m\u001b[0mkwargs\u001b[0m\u001b[0;34m)\u001b[0m\u001b[0;34m\u001b[0m\u001b[0;34m\u001b[0m\u001b[0m\n\u001b[0m\u001b[1;32m   1052\u001b[0m         \u001b[0;31m# Do not call functions when jit is used\u001b[0m\u001b[0;34m\u001b[0m\u001b[0;34m\u001b[0m\u001b[0;34m\u001b[0m\u001b[0m\n\u001b[1;32m   1053\u001b[0m         \u001b[0mfull_backward_hooks\u001b[0m\u001b[0;34m,\u001b[0m \u001b[0mnon_full_backward_hooks\u001b[0m \u001b[0;34m=\u001b[0m \u001b[0;34m[\u001b[0m\u001b[0;34m]\u001b[0m\u001b[0;34m,\u001b[0m \u001b[0;34m[\u001b[0m\u001b[0;34m]\u001b[0m\u001b[0;34m\u001b[0m\u001b[0;34m\u001b[0m\u001b[0m\n",
            "\u001b[0;32m/usr/local/lib/python3.7/dist-packages/torch/nn/modules/container.py\u001b[0m in \u001b[0;36mforward\u001b[0;34m(self, input)\u001b[0m\n\u001b[1;32m    137\u001b[0m     \u001b[0;32mdef\u001b[0m \u001b[0mforward\u001b[0m\u001b[0;34m(\u001b[0m\u001b[0mself\u001b[0m\u001b[0;34m,\u001b[0m \u001b[0minput\u001b[0m\u001b[0;34m)\u001b[0m\u001b[0;34m:\u001b[0m\u001b[0;34m\u001b[0m\u001b[0;34m\u001b[0m\u001b[0m\n\u001b[1;32m    138\u001b[0m         \u001b[0;32mfor\u001b[0m \u001b[0mmodule\u001b[0m \u001b[0;32min\u001b[0m \u001b[0mself\u001b[0m\u001b[0;34m:\u001b[0m\u001b[0;34m\u001b[0m\u001b[0;34m\u001b[0m\u001b[0m\n\u001b[0;32m--> 139\u001b[0;31m             \u001b[0minput\u001b[0m \u001b[0;34m=\u001b[0m \u001b[0mmodule\u001b[0m\u001b[0;34m(\u001b[0m\u001b[0minput\u001b[0m\u001b[0;34m)\u001b[0m\u001b[0;34m\u001b[0m\u001b[0;34m\u001b[0m\u001b[0m\n\u001b[0m\u001b[1;32m    140\u001b[0m         \u001b[0;32mreturn\u001b[0m \u001b[0minput\u001b[0m\u001b[0;34m\u001b[0m\u001b[0;34m\u001b[0m\u001b[0m\n\u001b[1;32m    141\u001b[0m \u001b[0;34m\u001b[0m\u001b[0m\n",
            "\u001b[0;32m/usr/local/lib/python3.7/dist-packages/torch/nn/modules/module.py\u001b[0m in \u001b[0;36m_call_impl\u001b[0;34m(self, *input, **kwargs)\u001b[0m\n\u001b[1;32m   1049\u001b[0m         if not (self._backward_hooks or self._forward_hooks or self._forward_pre_hooks or _global_backward_hooks\n\u001b[1;32m   1050\u001b[0m                 or _global_forward_hooks or _global_forward_pre_hooks):\n\u001b[0;32m-> 1051\u001b[0;31m             \u001b[0;32mreturn\u001b[0m \u001b[0mforward_call\u001b[0m\u001b[0;34m(\u001b[0m\u001b[0;34m*\u001b[0m\u001b[0minput\u001b[0m\u001b[0;34m,\u001b[0m \u001b[0;34m**\u001b[0m\u001b[0mkwargs\u001b[0m\u001b[0;34m)\u001b[0m\u001b[0;34m\u001b[0m\u001b[0;34m\u001b[0m\u001b[0m\n\u001b[0m\u001b[1;32m   1052\u001b[0m         \u001b[0;31m# Do not call functions when jit is used\u001b[0m\u001b[0;34m\u001b[0m\u001b[0;34m\u001b[0m\u001b[0;34m\u001b[0m\u001b[0m\n\u001b[1;32m   1053\u001b[0m         \u001b[0mfull_backward_hooks\u001b[0m\u001b[0;34m,\u001b[0m \u001b[0mnon_full_backward_hooks\u001b[0m \u001b[0;34m=\u001b[0m \u001b[0;34m[\u001b[0m\u001b[0;34m]\u001b[0m\u001b[0;34m,\u001b[0m \u001b[0;34m[\u001b[0m\u001b[0;34m]\u001b[0m\u001b[0;34m\u001b[0m\u001b[0;34m\u001b[0m\u001b[0m\n",
            "\u001b[0;32m/usr/local/lib/python3.7/dist-packages/torch/nn/modules/linear.py\u001b[0m in \u001b[0;36mforward\u001b[0;34m(self, input)\u001b[0m\n\u001b[1;32m     94\u001b[0m \u001b[0;34m\u001b[0m\u001b[0m\n\u001b[1;32m     95\u001b[0m     \u001b[0;32mdef\u001b[0m \u001b[0mforward\u001b[0m\u001b[0;34m(\u001b[0m\u001b[0mself\u001b[0m\u001b[0;34m,\u001b[0m \u001b[0minput\u001b[0m\u001b[0;34m:\u001b[0m \u001b[0mTensor\u001b[0m\u001b[0;34m)\u001b[0m \u001b[0;34m->\u001b[0m \u001b[0mTensor\u001b[0m\u001b[0;34m:\u001b[0m\u001b[0;34m\u001b[0m\u001b[0;34m\u001b[0m\u001b[0m\n\u001b[0;32m---> 96\u001b[0;31m         \u001b[0;32mreturn\u001b[0m \u001b[0mF\u001b[0m\u001b[0;34m.\u001b[0m\u001b[0mlinear\u001b[0m\u001b[0;34m(\u001b[0m\u001b[0minput\u001b[0m\u001b[0;34m,\u001b[0m \u001b[0mself\u001b[0m\u001b[0;34m.\u001b[0m\u001b[0mweight\u001b[0m\u001b[0;34m,\u001b[0m \u001b[0mself\u001b[0m\u001b[0;34m.\u001b[0m\u001b[0mbias\u001b[0m\u001b[0;34m)\u001b[0m\u001b[0;34m\u001b[0m\u001b[0;34m\u001b[0m\u001b[0m\n\u001b[0m\u001b[1;32m     97\u001b[0m \u001b[0;34m\u001b[0m\u001b[0m\n\u001b[1;32m     98\u001b[0m     \u001b[0;32mdef\u001b[0m \u001b[0mextra_repr\u001b[0m\u001b[0;34m(\u001b[0m\u001b[0mself\u001b[0m\u001b[0;34m)\u001b[0m \u001b[0;34m->\u001b[0m \u001b[0mstr\u001b[0m\u001b[0;34m:\u001b[0m\u001b[0;34m\u001b[0m\u001b[0;34m\u001b[0m\u001b[0m\n",
            "\u001b[0;32m/usr/local/lib/python3.7/dist-packages/torch/nn/functional.py\u001b[0m in \u001b[0;36mlinear\u001b[0;34m(input, weight, bias)\u001b[0m\n\u001b[1;32m   1845\u001b[0m     \u001b[0;32mif\u001b[0m \u001b[0mhas_torch_function_variadic\u001b[0m\u001b[0;34m(\u001b[0m\u001b[0minput\u001b[0m\u001b[0;34m,\u001b[0m \u001b[0mweight\u001b[0m\u001b[0;34m)\u001b[0m\u001b[0;34m:\u001b[0m\u001b[0;34m\u001b[0m\u001b[0;34m\u001b[0m\u001b[0m\n\u001b[1;32m   1846\u001b[0m         \u001b[0;32mreturn\u001b[0m \u001b[0mhandle_torch_function\u001b[0m\u001b[0;34m(\u001b[0m\u001b[0mlinear\u001b[0m\u001b[0;34m,\u001b[0m \u001b[0;34m(\u001b[0m\u001b[0minput\u001b[0m\u001b[0;34m,\u001b[0m \u001b[0mweight\u001b[0m\u001b[0;34m)\u001b[0m\u001b[0;34m,\u001b[0m \u001b[0minput\u001b[0m\u001b[0;34m,\u001b[0m \u001b[0mweight\u001b[0m\u001b[0;34m,\u001b[0m \u001b[0mbias\u001b[0m\u001b[0;34m=\u001b[0m\u001b[0mbias\u001b[0m\u001b[0;34m)\u001b[0m\u001b[0;34m\u001b[0m\u001b[0;34m\u001b[0m\u001b[0m\n\u001b[0;32m-> 1847\u001b[0;31m     \u001b[0;32mreturn\u001b[0m \u001b[0mtorch\u001b[0m\u001b[0;34m.\u001b[0m\u001b[0m_C\u001b[0m\u001b[0;34m.\u001b[0m\u001b[0m_nn\u001b[0m\u001b[0;34m.\u001b[0m\u001b[0mlinear\u001b[0m\u001b[0;34m(\u001b[0m\u001b[0minput\u001b[0m\u001b[0;34m,\u001b[0m \u001b[0mweight\u001b[0m\u001b[0;34m,\u001b[0m \u001b[0mbias\u001b[0m\u001b[0;34m)\u001b[0m\u001b[0;34m\u001b[0m\u001b[0;34m\u001b[0m\u001b[0m\n\u001b[0m\u001b[1;32m   1848\u001b[0m \u001b[0;34m\u001b[0m\u001b[0m\n\u001b[1;32m   1849\u001b[0m \u001b[0;34m\u001b[0m\u001b[0m\n",
            "\u001b[0;31mKeyboardInterrupt\u001b[0m: "
          ]
        }
      ]
    },
    {
      "cell_type": "code",
      "metadata": {
        "id": "AIdqDRa_Dtj0"
      },
      "source": [
        "history_losses = [item.item() for item in history]"
      ],
      "execution_count": 32,
      "outputs": []
    },
    {
      "cell_type": "code",
      "metadata": {
        "id": "EvaIBH5yDtu5",
        "colab": {
          "base_uri": "https://localhost:8080/"
        },
        "outputId": "d9265e33-2e3e-4300-fbbe-709e8cdfdaf6"
      },
      "source": [
        "history_losses"
      ],
      "execution_count": 33,
      "outputs": [
        {
          "output_type": "execute_result",
          "data": {
            "text/plain": [
              "[2.001692056655884,\n",
              " 1.6687428951263428,\n",
              " 1.9244084358215332,\n",
              " 1.0914570093154907,\n",
              " 0.9107471704483032,\n",
              " 2.028738498687744,\n",
              " 0.9136462211608887,\n",
              " 2.0050206184387207,\n",
              " 0.7929268479347229,\n",
              " 2.008676767349243,\n",
              " 1.9807779788970947,\n",
              " 2.025911569595337,\n",
              " 1.7292752265930176,\n",
              " 1.8841369152069092,\n",
              " 2.0189738273620605,\n",
              " 1.2864875793457031,\n",
              " 1.4043411016464233,\n",
              " 1.919683575630188,\n",
              " 1.9788408279418945,\n",
              " 1.178264856338501,\n",
              " 2.0099470615386963,\n",
              " 1.7996673583984375,\n",
              " 1.6616746187210083,\n",
              " 1.6949113607406616,\n",
              " 1.8894106149673462,\n",
              " 1.1668570041656494,\n",
              " 1.9634796380996704,\n",
              " 1.858845829963684,\n",
              " 2.0507612228393555,\n",
              " 0.7216631770133972,\n",
              " 0.9925663471221924,\n",
              " 1.0860884189605713,\n",
              " 1.7758105993270874,\n",
              " 2.0428385734558105,\n",
              " 1.7664387226104736,\n",
              " 1.814967155456543,\n",
              " 1.905167818069458,\n",
              " 2.0185983180999756,\n",
              " 1.9867459535598755,\n",
              " 1.2891697883605957,\n",
              " 1.1508214473724365,\n",
              " 1.198197364807129,\n",
              " 2.076118230819702,\n",
              " 2.0335891246795654,\n",
              " 1.3959919214248657,\n",
              " 1.9206063747406006,\n",
              " 0.5734608769416809,\n",
              " 1.950760006904602,\n",
              " 2.11629581451416,\n",
              " 1.9846420288085938,\n",
              " 1.6204209327697754,\n",
              " 1.7735999822616577,\n",
              " 1.4120752811431885,\n",
              " 1.117903709411621,\n",
              " 1.286122441291809,\n",
              " 2.120429039001465,\n",
              " 1.6235525608062744,\n",
              " 0.8676081895828247,\n",
              " 1.4739786386489868,\n",
              " 1.2287882566452026,\n",
              " 1.2971386909484863,\n",
              " 0.8025434017181396,\n",
              " 1.4174898862838745,\n",
              " 1.2586641311645508,\n",
              " 2.0010969638824463,\n",
              " 1.9587585926055908,\n",
              " 1.6991806030273438,\n",
              " 1.974837064743042,\n",
              " 1.7216064929962158,\n",
              " 1.2513744831085205,\n",
              " 1.894439697265625,\n",
              " 1.1744502782821655,\n",
              " 0.721271812915802,\n",
              " 1.6427247524261475,\n",
              " 1.617467999458313,\n",
              " 1.9527227878570557,\n",
              " 1.9818181991577148,\n",
              " 1.161626935005188,\n",
              " 2.00864839553833,\n",
              " 1.5816259384155273,\n",
              " 1.967388391494751,\n",
              " 0.8957480192184448,\n",
              " 1.575029730796814,\n",
              " 2.072784423828125,\n",
              " 0.7953466176986694,\n",
              " 1.5433837175369263,\n",
              " 1.0128525495529175,\n",
              " 1.0606800317764282,\n",
              " 1.184509038925171,\n",
              " 1.2011765241622925,\n",
              " 1.9205656051635742,\n",
              " 1.8117567300796509,\n",
              " 1.428267240524292,\n",
              " 1.8705379962921143,\n",
              " 2.0264627933502197,\n",
              " 1.8493093252182007,\n",
              " 1.2659474611282349,\n",
              " 1.084851622581482,\n",
              " 1.3511416912078857,\n",
              " 1.9931955337524414,\n",
              " 1.2931240797042847,\n",
              " 1.6875665187835693,\n",
              " 1.394208312034607,\n",
              " 1.8583146333694458,\n",
              " 2.0748112201690674,\n",
              " 1.4801247119903564,\n",
              " 0.8419738411903381,\n",
              " 1.6591007709503174,\n",
              " 0.9397806525230408,\n",
              " 1.771985411643982,\n",
              " 1.9697115421295166,\n",
              " 1.887474536895752,\n",
              " 2.1304407119750977,\n",
              " 1.283652663230896,\n",
              " 1.8536343574523926,\n",
              " 1.9645284414291382,\n",
              " 0.9744241833686829,\n",
              " 1.743898868560791,\n",
              " 0.8208412528038025,\n",
              " 1.9347056150436401,\n",
              " 1.729591727256775,\n",
              " 1.1205517053604126,\n",
              " 1.7959710359573364,\n",
              " 1.9276931285858154,\n",
              " 1.646643042564392,\n",
              " 1.8590288162231445,\n",
              " 1.9059720039367676,\n",
              " 1.9134804010391235,\n",
              " 1.1183654069900513,\n",
              " 1.9123997688293457,\n",
              " 1.9520677328109741,\n",
              " 0.6748829483985901,\n",
              " 0.7306778430938721,\n",
              " 1.8723540306091309,\n",
              " 1.6576932668685913,\n",
              " 2.0021963119506836,\n",
              " 0.9371312856674194,\n",
              " 2.020892858505249,\n",
              " 2.032050371170044,\n",
              " 1.7120825052261353,\n",
              " 1.9501309394836426,\n",
              " 1.5430365800857544,\n",
              " 1.7509653568267822,\n",
              " 1.9816770553588867,\n",
              " 1.7673529386520386,\n",
              " 0.5319338440895081,\n",
              " 1.3024600744247437,\n",
              " 1.8809412717819214,\n",
              " 1.928574800491333,\n",
              " 2.0767955780029297,\n",
              " 1.6993876695632935,\n",
              " 0.8336717486381531,\n",
              " 1.4550931453704834,\n",
              " 1.3947957754135132,\n",
              " 0.5021830797195435,\n",
              " 1.3378244638442993]"
            ]
          },
          "metadata": {},
          "execution_count": 33
        }
      ]
    },
    {
      "cell_type": "code",
      "metadata": {
        "colab": {
          "base_uri": "https://localhost:8080/",
          "height": 295
        },
        "id": "Fn6vza9NoZA6",
        "outputId": "5746072f-ab30-4fda-e0a6-f5859fb0110b"
      },
      "source": [
        "import keras\n",
        "from matplotlib import pyplot as plt\n",
        "plt.plot(history_losses)\n",
        "plt.title('s2s loss')\n",
        "plt.ylabel('loss')\n",
        "plt.xlabel('validation batch')\n",
        "plt.legend(['val'], loc='upper left')\n",
        "plt.show()\n"
      ],
      "execution_count": 45,
      "outputs": [
        {
          "output_type": "display_data",
          "data": {
            "image/png": "[encoded data removed]",
            "text/plain": [
              "<Figure size 432x288 with 1 Axes>"
            ]
          },
          "metadata": {
            "needs_background": "light"
          }
        }
      ]
    },
    {
      "cell_type": "code",
      "metadata": {
        "id": "vI3bkzOhpFGt"
      },
      "source": [
        "ppl_history = [math.exp(element) for element in history_losses]"
      ],
      "execution_count": 37,
      "outputs": []
    },
    {
      "cell_type": "code",
      "metadata": {
        "colab": {
          "base_uri": "https://localhost:8080/"
        },
        "id": "zvWnGLbIqR-h",
        "outputId": "b9712b8b-e249-4b70-fd75-c99e92e58c6a"
      },
      "source": [
        "ppl_history"
      ],
      "execution_count": 38,
      "outputs": [
        {
          "output_type": "execute_result",
          "data": {
            "text/plain": [
              "[7.401569384091747,\n",
              " 5.305494040838343,\n",
              " 6.851094604747271,\n",
              " 2.978610776135173,\n",
              " 2.4861794393920755,\n",
              " 7.604487234773502,\n",
              " 2.4933974573121422,\n",
              " 7.426247012798271,\n",
              " 2.209854879380099,\n",
              " 7.453448173169029,\n",
              " 7.248379878768373,\n",
              " 7.583020245700817,\n",
              " 5.6365671936275,\n",
              " 6.580672312086951,\n",
              " 7.5305932785640275,\n",
              " 3.620049064031539,\n",
              " 4.072842267902409,\n",
              " 6.818800493241702,\n",
              " 7.234352263952897,\n",
              " 3.2487322922976016,\n",
              " 7.4629222612403225,\n",
              " 6.047635434652449,\n",
              " 5.268125563433368,\n",
              " 5.446163199944857,\n",
              " 6.615468473691674,\n",
              " 3.2118818265305307,\n",
              " 7.124073182893038,\n",
              " 6.416326963837874,\n",
              " 7.773816461208732,\n",
              " 2.0578529397545227,\n",
              " 2.6981499841989454,\n",
              " 2.962662682745858,\n",
              " 5.905065839214226,\n",
              " 7.712470570886095,\n",
              " 5.849982809020504,\n",
              " 6.140874479913906,\n",
              " 6.72053536027523,\n",
              " 7.52776600190644,\n",
              " 7.291767365164226,\n",
              " 3.62977182567591,\n",
              " 3.1607882647849515,\n",
              " 3.314137354236698,\n",
              " 7.973457641801244,\n",
              " 7.641463364397081,\n",
              " 4.038978936038186,\n",
              " 6.825095780466938,\n",
              " 1.7743974081849911,\n",
              " 7.034031462117038,\n",
              " 8.300334494346313,\n",
              " 7.276442162513739,\n",
              " 5.055217775593942,\n",
              " 5.89202641779145,\n",
              " 4.104464489402849,\n",
              " 3.058436107718884,\n",
              " 3.618727487654894,\n",
              " 8.334712637480983,\n",
              " 5.07107365170535,\n",
              " 2.3812086373084376,\n",
              " 4.366573645037778,\n",
              " 3.4170863948528454,\n",
              " 3.658812681965796,\n",
              " 2.231208577612757,\n",
              " 4.126748819907975,\n",
              " 3.5207151309059412,\n",
              " 7.397166073958145,\n",
              " 7.090519376138877,\n",
              " 5.469463892939462,\n",
              " 7.20544553705048,\n",
              " 5.593507180332274,\n",
              " 3.4951436733955017,\n",
              " 6.648822007623899,\n",
              " 3.236363355520269,\n",
              " 2.057047727571619,\n",
              " 5.169235226963199,\n",
              " 5.040312073231458,\n",
              " 7.047851283293978,\n",
              " 7.255923713319471,\n",
              " 3.1951273142628693,\n",
              " 7.453236708346643,\n",
              " 4.862856091340587,\n",
              " 7.15197392116309,\n",
              " 2.449167128519831,\n",
              " 4.830885242042804,\n",
              " 7.946919933345889,\n",
              " 2.2152086942873073,\n",
              " 4.680400660752055,\n",
              " 2.7534441591250722,\n",
              " 2.888334480801872,\n",
              " 3.2690814356718705,\n",
              " 3.32402541928725,\n",
              " 6.824817529870923,\n",
              " 6.1211912732862634,\n",
              " 4.1714647808595515,\n",
              " 6.491788017846367,\n",
              " 7.587201338847069,\n",
              " 6.355428472209217,\n",
              " 3.5464512695388715,\n",
              " 2.95900073727462,\n",
              " 3.8618320344651087,\n",
              " 7.338948188233746,\n",
              " 3.644153416746575,\n",
              " 5.406308534247953,\n",
              " 4.031781395988925,\n",
              " 6.412919537893814,\n",
              " 7.963043055211405,\n",
              " 4.393493568081491,\n",
              " 2.320943632641821,\n",
              " 5.254583645090293,\n",
              " 2.559419954444193,\n",
              " 5.882521000707205,\n",
              " 7.168608348576797,\n",
              " 6.602672800954076,\n",
              " 8.418576161330202,\n",
              " 3.6098010615805545,\n",
              " 6.382975433019466,\n",
              " 7.13154885413581,\n",
              " 2.649641064242626,\n",
              " 5.719599975315556,\n",
              " 2.2724107055356013,\n",
              " 6.9220060209692535,\n",
              " 5.638351453230376,\n",
              " 3.066545566309962,\n",
              " 6.025322687039152,\n",
              " 6.873635345059812,\n",
              " 5.189529523882165,\n",
              " 6.417501170937068,\n",
              " 6.725942093550577,\n",
              " 6.776633204023172,\n",
              " 3.0598485062890113,\n",
              " 6.769314111245005,\n",
              " 7.043236064523028,\n",
              " 1.963803096218947,\n",
              " 2.076487663560945,\n",
              " 6.5035880390442715,\n",
              " 5.247192999564044,\n",
              " 7.405302605812809,\n",
              " 2.5526480865894547,\n",
              " 7.5450585968511605,\n",
              " 7.629714077773542,\n",
              " 5.54048756620055,\n",
              " 7.029607973568356,\n",
              " 4.67877620036805,\n",
              " 5.760160603244308,\n",
              " 7.254899656953869,\n",
              " 5.855333402573954,\n",
              " 1.7022209576644123,\n",
              " 3.6783345228482376,\n",
              " 6.559676395480021,\n",
              " 6.879698308611887,\n",
              " 7.978860270396573,\n",
              " 5.47059655314524,\n",
              " 2.301754708124727,\n",
              " 4.284882563988645,\n",
              " 4.034150615757612,\n",
              " 1.652324492298341,\n",
              " 3.810744069275268]"
            ]
          },
          "metadata": {},
          "execution_count": 38
        }
      ]
    },
    {
      "cell_type": "code",
      "metadata": {
        "colab": {
          "base_uri": "https://localhost:8080/",
          "height": 295
        },
        "id": "RepxR8KxqVhz",
        "outputId": "ec94a123-0ade-4584-f043-f830fa28e552"
      },
      "source": [
        "import keras\n",
        "from matplotlib import pyplot as plt\n",
        "plt.plot(ppl_history)\n",
        "plt.title('s2s perplexity')\n",
        "plt.ylabel('perplexity')\n",
        "plt.xlabel('validation batch')\n",
        "plt.legend(['ppl'], loc='upper left')\n",
        "plt.show()\n"
      ],
      "execution_count": 46,
      "outputs": [
        {
          "output_type": "display_data",
          "data": {
            "image/png": "[encoded data removed]",
            "text/plain": [
              "<Figure size 432x288 with 1 Axes>"
            ]
          },
          "metadata": {
            "needs_background": "light"
          }
        }
      ]
    },
    {
      "cell_type": "code",
      "metadata": {
        "colab": {
          "base_uri": "https://localhost:8080/",
          "height": 295
        },
        "id": "Hu8_ZOROqcea",
        "outputId": "bbe9cf8b-b26f-4a22-9829-618a3fdd8c3c"
      },
      "source": [
        "import keras\n",
        "from matplotlib import pyplot as plt\n",
        "plt.plot(history_losses)\n",
        "plt.plot(ppl_history)\n",
        "plt.title('s2s loss and ppl')\n",
        "plt.ylabel('metrics')\n",
        "plt.xlabel('validation batch')\n",
        "plt.legend(['val','ppl'], loc='upper left')\n",
        "plt.show()\n"
      ],
      "execution_count": 47,
      "outputs": [
        {
          "output_type": "display_data",
          "data": {
            "image/png": "[encoded data removed]",
            "text/plain": [
              "<Figure size 432x288 with 1 Axes>"
            ]
          },
          "metadata": {
            "needs_background": "light"
          }
        }
      ]
    },
    {
      "cell_type": "code",
      "metadata": {
        "colab": {
          "base_uri": "https://localhost:8080/"
        },
        "id": "OacSHW-AtnO7",
        "outputId": "fbbd6a64-fb3f-48aa-8749-b2cd890055c7"
      },
      "source": [
        "\n",
        "import statistics\n",
        "statistics.mean(history_losses)\n"
      ],
      "execution_count": 43,
      "outputs": [
        {
          "output_type": "execute_result",
          "data": {
            "text/plain": [
              "1.578375620337633"
            ]
          },
          "metadata": {},
          "execution_count": 43
        }
      ]
    },
    {
      "cell_type": "code",
      "metadata": {
        "colab": {
          "base_uri": "https://localhost:8080/"
        },
        "id": "k450Wmyytuu9",
        "outputId": "4a6af50c-40b4-4666-c1bd-21db65873833"
      },
      "source": [
        "statistics.mean(ppl_history)"
      ],
      "execution_count": 44,
      "outputs": [
        {
          "output_type": "execute_result",
          "data": {
            "text/plain": [
              "5.259862837911942"
            ]
          },
          "metadata": {},
          "execution_count": 44
        }
      ]
    },
    {
      "cell_type": "code",
      "metadata": {
        "id": "gHUOyMQcTG-S"
      },
      "source": [
        "\n",
        "torch.save(model.state_dict(),'/content/drive/My Drive/Colab Notebooks/style_transfer/training_files//save/gooderbuoy1024.pth')"
      ],
      "execution_count": 50,
      "outputs": []
    },
    {
      "cell_type": "code",
      "metadata": {
        "colab": {
          "base_uri": "https://localhost:8080/",
          "height": 329
        },
        "id": "_Y7WrS4COCAB",
        "outputId": "9e5eb2b2-20ef-4bb3-93a9-48adb5f70853"
      },
      "source": [
        "model.load_state_dict(torch.load('/content/drive/My Drive/Colab Notebooks/style_transfer/training_files/save/goodboy1024.pth'))"
      ],
      "execution_count": 21,
      "outputs": [
        {
          "output_type": "error",
          "ename": "RuntimeError",
          "evalue": "ignored",
          "traceback": [
            "\u001b[0;31m---------------------------------------------------------------------------\u001b[0m",
            "\u001b[0;31mRuntimeError\u001b[0m                              Traceback (most recent call last)",
            "\u001b[0;32m<ipython-input-21-8503f55bf88a>\u001b[0m in \u001b[0;36m<module>\u001b[0;34m()\u001b[0m\n\u001b[0;32m----> 1\u001b[0;31m \u001b[0mmodel\u001b[0m\u001b[0;34m.\u001b[0m\u001b[0mload_state_dict\u001b[0m\u001b[0;34m(\u001b[0m\u001b[0mtorch\u001b[0m\u001b[0;34m.\u001b[0m\u001b[0mload\u001b[0m\u001b[0;34m(\u001b[0m\u001b[0;34m'/content/drive/My Drive/Colab Notebooks/style_transfer/training_files/save/goodboy1024.pth'\u001b[0m\u001b[0;34m)\u001b[0m\u001b[0;34m)\u001b[0m\u001b[0;34m\u001b[0m\u001b[0;34m\u001b[0m\u001b[0m\n\u001b[0m",
            "\u001b[0;32m/usr/local/lib/python3.7/dist-packages/torch/serialization.py\u001b[0m in \u001b[0;36mload\u001b[0;34m(f, map_location, pickle_module, **pickle_load_args)\u001b[0m\n\u001b[1;32m    605\u001b[0m                     \u001b[0mopened_file\u001b[0m\u001b[0;34m.\u001b[0m\u001b[0mseek\u001b[0m\u001b[0;34m(\u001b[0m\u001b[0morig_position\u001b[0m\u001b[0;34m)\u001b[0m\u001b[0;34m\u001b[0m\u001b[0;34m\u001b[0m\u001b[0m\n\u001b[1;32m    606\u001b[0m                     \u001b[0;32mreturn\u001b[0m \u001b[0mtorch\u001b[0m\u001b[0;34m.\u001b[0m\u001b[0mjit\u001b[0m\u001b[0;34m.\u001b[0m\u001b[0mload\u001b[0m\u001b[0;34m(\u001b[0m\u001b[0mopened_file\u001b[0m\u001b[0;34m)\u001b[0m\u001b[0;34m\u001b[0m\u001b[0;34m\u001b[0m\u001b[0m\n\u001b[0;32m--> 607\u001b[0;31m                 \u001b[0;32mreturn\u001b[0m \u001b[0m_load\u001b[0m\u001b[0;34m(\u001b[0m\u001b[0mopened_zipfile\u001b[0m\u001b[0;34m,\u001b[0m \u001b[0mmap_location\u001b[0m\u001b[0;34m,\u001b[0m \u001b[0mpickle_module\u001b[0m\u001b[0;34m,\u001b[0m \u001b[0;34m**\u001b[0m\u001b[0mpickle_load_args\u001b[0m\u001b[0;34m)\u001b[0m\u001b[0;34m\u001b[0m\u001b[0;34m\u001b[0m\u001b[0m\n\u001b[0m\u001b[1;32m    608\u001b[0m         \u001b[0;32mreturn\u001b[0m \u001b[0m_legacy_load\u001b[0m\u001b[0;34m(\u001b[0m\u001b[0mopened_file\u001b[0m\u001b[0;34m,\u001b[0m \u001b[0mmap_location\u001b[0m\u001b[0;34m,\u001b[0m \u001b[0mpickle_module\u001b[0m\u001b[0;34m,\u001b[0m \u001b[0;34m**\u001b[0m\u001b[0mpickle_load_args\u001b[0m\u001b[0;34m)\u001b[0m\u001b[0;34m\u001b[0m\u001b[0;34m\u001b[0m\u001b[0m\n\u001b[1;32m    609\u001b[0m \u001b[0;34m\u001b[0m\u001b[0m\n",
            "\u001b[0;32m/usr/local/lib/python3.7/dist-packages/torch/serialization.py\u001b[0m in \u001b[0;36m_load\u001b[0;34m(zip_file, map_location, pickle_module, pickle_file, **pickle_load_args)\u001b[0m\n\u001b[1;32m    880\u001b[0m     \u001b[0munpickler\u001b[0m \u001b[0;34m=\u001b[0m \u001b[0mUnpicklerWrapper\u001b[0m\u001b[0;34m(\u001b[0m\u001b[0mdata_file\u001b[0m\u001b[0;34m,\u001b[0m \u001b[0;34m**\u001b[0m\u001b[0mpickle_load_args\u001b[0m\u001b[0;34m)\u001b[0m\u001b[0;34m\u001b[0m\u001b[0;34m\u001b[0m\u001b[0m\n\u001b[1;32m    881\u001b[0m     \u001b[0munpickler\u001b[0m\u001b[0;34m.\u001b[0m\u001b[0mpersistent_load\u001b[0m \u001b[0;34m=\u001b[0m \u001b[0mpersistent_load\u001b[0m\u001b[0;34m\u001b[0m\u001b[0;34m\u001b[0m\u001b[0m\n\u001b[0;32m--> 882\u001b[0;31m     \u001b[0mresult\u001b[0m \u001b[0;34m=\u001b[0m \u001b[0munpickler\u001b[0m\u001b[0;34m.\u001b[0m\u001b[0mload\u001b[0m\u001b[0;34m(\u001b[0m\u001b[0;34m)\u001b[0m\u001b[0;34m\u001b[0m\u001b[0;34m\u001b[0m\u001b[0m\n\u001b[0m\u001b[1;32m    883\u001b[0m \u001b[0;34m\u001b[0m\u001b[0m\n\u001b[1;32m    884\u001b[0m     \u001b[0mtorch\u001b[0m\u001b[0;34m.\u001b[0m\u001b[0m_utils\u001b[0m\u001b[0;34m.\u001b[0m\u001b[0m_validate_loaded_sparse_tensors\u001b[0m\u001b[0;34m(\u001b[0m\u001b[0;34m)\u001b[0m\u001b[0;34m\u001b[0m\u001b[0;34m\u001b[0m\u001b[0m\n",
            "\u001b[0;32m/usr/local/lib/python3.7/dist-packages/torch/serialization.py\u001b[0m in \u001b[0;36mpersistent_load\u001b[0;34m(saved_id)\u001b[0m\n\u001b[1;32m    855\u001b[0m         \u001b[0mdata_type\u001b[0m\u001b[0;34m,\u001b[0m \u001b[0mkey\u001b[0m\u001b[0;34m,\u001b[0m \u001b[0mlocation\u001b[0m\u001b[0;34m,\u001b[0m \u001b[0msize\u001b[0m \u001b[0;34m=\u001b[0m \u001b[0mdata\u001b[0m\u001b[0;34m\u001b[0m\u001b[0;34m\u001b[0m\u001b[0m\n\u001b[1;32m    856\u001b[0m         \u001b[0;32mif\u001b[0m \u001b[0mkey\u001b[0m \u001b[0;32mnot\u001b[0m \u001b[0;32min\u001b[0m \u001b[0mloaded_storages\u001b[0m\u001b[0;34m:\u001b[0m\u001b[0;34m\u001b[0m\u001b[0;34m\u001b[0m\u001b[0m\n\u001b[0;32m--> 857\u001b[0;31m             \u001b[0mload_tensor\u001b[0m\u001b[0;34m(\u001b[0m\u001b[0mdata_type\u001b[0m\u001b[0;34m,\u001b[0m \u001b[0msize\u001b[0m\u001b[0;34m,\u001b[0m \u001b[0mkey\u001b[0m\u001b[0;34m,\u001b[0m \u001b[0m_maybe_decode_ascii\u001b[0m\u001b[0;34m(\u001b[0m\u001b[0mlocation\u001b[0m\u001b[0;34m)\u001b[0m\u001b[0;34m)\u001b[0m\u001b[0;34m\u001b[0m\u001b[0;34m\u001b[0m\u001b[0m\n\u001b[0m\u001b[1;32m    858\u001b[0m         \u001b[0mstorage\u001b[0m \u001b[0;34m=\u001b[0m \u001b[0mloaded_storages\u001b[0m\u001b[0;34m[\u001b[0m\u001b[0mkey\u001b[0m\u001b[0;34m]\u001b[0m\u001b[0;34m\u001b[0m\u001b[0;34m\u001b[0m\u001b[0m\n\u001b[1;32m    859\u001b[0m         \u001b[0;32mreturn\u001b[0m \u001b[0mstorage\u001b[0m\u001b[0;34m\u001b[0m\u001b[0;34m\u001b[0m\u001b[0m\n",
            "\u001b[0;32m/usr/local/lib/python3.7/dist-packages/torch/serialization.py\u001b[0m in \u001b[0;36mload_tensor\u001b[0;34m(data_type, size, key, location)\u001b[0m\n\u001b[1;32m    844\u001b[0m \u001b[0;34m\u001b[0m\u001b[0m\n\u001b[1;32m    845\u001b[0m         \u001b[0mstorage\u001b[0m \u001b[0;34m=\u001b[0m \u001b[0mzip_file\u001b[0m\u001b[0;34m.\u001b[0m\u001b[0mget_storage_from_record\u001b[0m\u001b[0;34m(\u001b[0m\u001b[0mname\u001b[0m\u001b[0;34m,\u001b[0m \u001b[0msize\u001b[0m\u001b[0;34m,\u001b[0m \u001b[0mdtype\u001b[0m\u001b[0;34m)\u001b[0m\u001b[0;34m.\u001b[0m\u001b[0mstorage\u001b[0m\u001b[0;34m(\u001b[0m\u001b[0;34m)\u001b[0m\u001b[0;34m\u001b[0m\u001b[0;34m\u001b[0m\u001b[0m\n\u001b[0;32m--> 846\u001b[0;31m         \u001b[0mloaded_storages\u001b[0m\u001b[0;34m[\u001b[0m\u001b[0mkey\u001b[0m\u001b[0;34m]\u001b[0m \u001b[0;34m=\u001b[0m \u001b[0mrestore_location\u001b[0m\u001b[0;34m(\u001b[0m\u001b[0mstorage\u001b[0m\u001b[0;34m,\u001b[0m \u001b[0mlocation\u001b[0m\u001b[0;34m)\u001b[0m\u001b[0;34m\u001b[0m\u001b[0;34m\u001b[0m\u001b[0m\n\u001b[0m\u001b[1;32m    847\u001b[0m \u001b[0;34m\u001b[0m\u001b[0m\n\u001b[1;32m    848\u001b[0m     \u001b[0;32mdef\u001b[0m \u001b[0mpersistent_load\u001b[0m\u001b[0;34m(\u001b[0m\u001b[0msaved_id\u001b[0m\u001b[0;34m)\u001b[0m\u001b[0;34m:\u001b[0m\u001b[0;34m\u001b[0m\u001b[0;34m\u001b[0m\u001b[0m\n",
            "\u001b[0;32m/usr/local/lib/python3.7/dist-packages/torch/serialization.py\u001b[0m in \u001b[0;36mdefault_restore_location\u001b[0;34m(storage, location)\u001b[0m\n\u001b[1;32m    173\u001b[0m \u001b[0;32mdef\u001b[0m \u001b[0mdefault_restore_location\u001b[0m\u001b[0;34m(\u001b[0m\u001b[0mstorage\u001b[0m\u001b[0;34m,\u001b[0m \u001b[0mlocation\u001b[0m\u001b[0;34m)\u001b[0m\u001b[0;34m:\u001b[0m\u001b[0;34m\u001b[0m\u001b[0;34m\u001b[0m\u001b[0m\n\u001b[1;32m    174\u001b[0m     \u001b[0;32mfor\u001b[0m \u001b[0m_\u001b[0m\u001b[0;34m,\u001b[0m \u001b[0m_\u001b[0m\u001b[0;34m,\u001b[0m \u001b[0mfn\u001b[0m \u001b[0;32min\u001b[0m \u001b[0m_package_registry\u001b[0m\u001b[0;34m:\u001b[0m\u001b[0;34m\u001b[0m\u001b[0;34m\u001b[0m\u001b[0m\n\u001b[0;32m--> 175\u001b[0;31m         \u001b[0mresult\u001b[0m \u001b[0;34m=\u001b[0m \u001b[0mfn\u001b[0m\u001b[0;34m(\u001b[0m\u001b[0mstorage\u001b[0m\u001b[0;34m,\u001b[0m \u001b[0mlocation\u001b[0m\u001b[0;34m)\u001b[0m\u001b[0;34m\u001b[0m\u001b[0;34m\u001b[0m\u001b[0m\n\u001b[0m\u001b[1;32m    176\u001b[0m         \u001b[0;32mif\u001b[0m \u001b[0mresult\u001b[0m \u001b[0;32mis\u001b[0m \u001b[0;32mnot\u001b[0m \u001b[0;32mNone\u001b[0m\u001b[0;34m:\u001b[0m\u001b[0;34m\u001b[0m\u001b[0;34m\u001b[0m\u001b[0m\n\u001b[1;32m    177\u001b[0m             \u001b[0;32mreturn\u001b[0m \u001b[0mresult\u001b[0m\u001b[0;34m\u001b[0m\u001b[0;34m\u001b[0m\u001b[0m\n",
            "\u001b[0;32m/usr/local/lib/python3.7/dist-packages/torch/serialization.py\u001b[0m in \u001b[0;36m_cuda_deserialize\u001b[0;34m(obj, location)\u001b[0m\n\u001b[1;32m    149\u001b[0m \u001b[0;32mdef\u001b[0m \u001b[0m_cuda_deserialize\u001b[0m\u001b[0;34m(\u001b[0m\u001b[0mobj\u001b[0m\u001b[0;34m,\u001b[0m \u001b[0mlocation\u001b[0m\u001b[0;34m)\u001b[0m\u001b[0;34m:\u001b[0m\u001b[0;34m\u001b[0m\u001b[0;34m\u001b[0m\u001b[0m\n\u001b[1;32m    150\u001b[0m     \u001b[0;32mif\u001b[0m \u001b[0mlocation\u001b[0m\u001b[0;34m.\u001b[0m\u001b[0mstartswith\u001b[0m\u001b[0;34m(\u001b[0m\u001b[0;34m'cuda'\u001b[0m\u001b[0;34m)\u001b[0m\u001b[0;34m:\u001b[0m\u001b[0;34m\u001b[0m\u001b[0;34m\u001b[0m\u001b[0m\n\u001b[0;32m--> 151\u001b[0;31m         \u001b[0mdevice\u001b[0m \u001b[0;34m=\u001b[0m \u001b[0mvalidate_cuda_device\u001b[0m\u001b[0;34m(\u001b[0m\u001b[0mlocation\u001b[0m\u001b[0;34m)\u001b[0m\u001b[0;34m\u001b[0m\u001b[0;34m\u001b[0m\u001b[0m\n\u001b[0m\u001b[1;32m    152\u001b[0m         \u001b[0;32mif\u001b[0m \u001b[0mgetattr\u001b[0m\u001b[0;34m(\u001b[0m\u001b[0mobj\u001b[0m\u001b[0;34m,\u001b[0m \u001b[0;34m\"_torch_load_uninitialized\"\u001b[0m\u001b[0;34m,\u001b[0m \u001b[0;32mFalse\u001b[0m\u001b[0;34m)\u001b[0m\u001b[0;34m:\u001b[0m\u001b[0;34m\u001b[0m\u001b[0;34m\u001b[0m\u001b[0m\n\u001b[1;32m    153\u001b[0m             \u001b[0mstorage_type\u001b[0m \u001b[0;34m=\u001b[0m \u001b[0mgetattr\u001b[0m\u001b[0;34m(\u001b[0m\u001b[0mtorch\u001b[0m\u001b[0;34m.\u001b[0m\u001b[0mcuda\u001b[0m\u001b[0;34m,\u001b[0m \u001b[0mtype\u001b[0m\u001b[0;34m(\u001b[0m\u001b[0mobj\u001b[0m\u001b[0;34m)\u001b[0m\u001b[0;34m.\u001b[0m\u001b[0m__name__\u001b[0m\u001b[0;34m)\u001b[0m\u001b[0;34m\u001b[0m\u001b[0;34m\u001b[0m\u001b[0m\n",
            "\u001b[0;32m/usr/local/lib/python3.7/dist-packages/torch/serialization.py\u001b[0m in \u001b[0;36mvalidate_cuda_device\u001b[0;34m(location)\u001b[0m\n\u001b[1;32m    133\u001b[0m \u001b[0;34m\u001b[0m\u001b[0m\n\u001b[1;32m    134\u001b[0m     \u001b[0;32mif\u001b[0m \u001b[0;32mnot\u001b[0m \u001b[0mtorch\u001b[0m\u001b[0;34m.\u001b[0m\u001b[0mcuda\u001b[0m\u001b[0;34m.\u001b[0m\u001b[0mis_available\u001b[0m\u001b[0;34m(\u001b[0m\u001b[0;34m)\u001b[0m\u001b[0;34m:\u001b[0m\u001b[0;34m\u001b[0m\u001b[0;34m\u001b[0m\u001b[0m\n\u001b[0;32m--> 135\u001b[0;31m         raise RuntimeError('Attempting to deserialize object on a CUDA '\n\u001b[0m\u001b[1;32m    136\u001b[0m                            \u001b[0;34m'device but torch.cuda.is_available() is False. '\u001b[0m\u001b[0;34m\u001b[0m\u001b[0;34m\u001b[0m\u001b[0m\n\u001b[1;32m    137\u001b[0m                            \u001b[0;34m'If you are running on a CPU-only machine, '\u001b[0m\u001b[0;34m\u001b[0m\u001b[0;34m\u001b[0m\u001b[0m\n",
            "\u001b[0;31mRuntimeError\u001b[0m: Attempting to deserialize object on a CUDA device but torch.cuda.is_available() is False. If you are running on a CPU-only machine, please use torch.load with map_location=torch.device('cpu') to map your storages to the CPU."
          ]
        }
      ]
    },
    {
      "cell_type": "code",
      "metadata": {
        "id": "LaIykHgpKvrn",
        "colab": {
          "base_uri": "https://localhost:8080/",
          "height": 381
        },
        "outputId": "5bdc0749-24e0-4a10-910f-5154b6144aa7"
      },
      "source": [
        "##eval\n",
        "\n",
        "\n",
        "model.eval()  # turn on evaluation mode\n",
        "#total_loss = 0.\n",
        "results=[]\n",
        "#src_mask = generate_square_subsequent_mask(bptt).to(device)\n",
        "with torch.no_grad():\n",
        "  for i, batch in enumerate(dataloader):\n",
        "    source, targets = batch_preprocess(batch[0].to(device),batch[1].to(device),0)\n",
        "    targets = targets.type(torch.int64)\n",
        "\n",
        "    token_mask = (source != pad_idx).float()\n",
        "    #targets = targets.unsqueeze(-1)\n",
        "    #source = batch[0]\n",
        "    #targets = batch[1]\n",
        "\n",
        "    #src_mask = generate_square_subsequent_mask(source.size(0)).to(device)\n",
        "    batch_size = batch[0].size(0)\n",
        "    output = model(source, targets)\n",
        "    output = output.type(torch.float)\n",
        "\n",
        "    results.append((targets,output))\n",
        "    #output_flat = output.view(-1, ntokens)\n",
        "    #total_loss += batch_size * criterion(output, targets).item()\n",
        "    \n",
        "    \n",
        "    \n",
        "#return total_loss / (batch_size - 1)"
      ],
      "execution_count": 54,
      "outputs": [
        {
          "output_type": "error",
          "ename": "KeyboardInterrupt",
          "evalue": "ignored",
          "traceback": [
            "\u001b[0;31m---------------------------------------------------------------------------\u001b[0m",
            "\u001b[0;31mKeyboardInterrupt\u001b[0m                         Traceback (most recent call last)",
            "\u001b[0;32m<ipython-input-54-503e5ad3b18e>\u001b[0m in \u001b[0;36m<module>\u001b[0;34m()\u001b[0m\n\u001b[1;32m     18\u001b[0m     \u001b[0;31m#src_mask = generate_square_subsequent_mask(source.size(0)).to(device)\u001b[0m\u001b[0;34m\u001b[0m\u001b[0;34m\u001b[0m\u001b[0;34m\u001b[0m\u001b[0m\n\u001b[1;32m     19\u001b[0m     \u001b[0mbatch_size\u001b[0m \u001b[0;34m=\u001b[0m \u001b[0mbatch\u001b[0m\u001b[0;34m[\u001b[0m\u001b[0;36m0\u001b[0m\u001b[0;34m]\u001b[0m\u001b[0;34m.\u001b[0m\u001b[0msize\u001b[0m\u001b[0;34m(\u001b[0m\u001b[0;36m0\u001b[0m\u001b[0;34m)\u001b[0m\u001b[0;34m\u001b[0m\u001b[0;34m\u001b[0m\u001b[0m\n\u001b[0;32m---> 20\u001b[0;31m     \u001b[0moutput\u001b[0m \u001b[0;34m=\u001b[0m \u001b[0mmodel\u001b[0m\u001b[0;34m(\u001b[0m\u001b[0msource\u001b[0m\u001b[0;34m,\u001b[0m \u001b[0mtargets\u001b[0m\u001b[0;34m)\u001b[0m\u001b[0;34m\u001b[0m\u001b[0;34m\u001b[0m\u001b[0m\n\u001b[0m\u001b[1;32m     21\u001b[0m     \u001b[0moutput\u001b[0m \u001b[0;34m=\u001b[0m \u001b[0moutput\u001b[0m\u001b[0;34m.\u001b[0m\u001b[0mtype\u001b[0m\u001b[0;34m(\u001b[0m\u001b[0mtorch\u001b[0m\u001b[0;34m.\u001b[0m\u001b[0mfloat\u001b[0m\u001b[0;34m)\u001b[0m\u001b[0;34m\u001b[0m\u001b[0;34m\u001b[0m\u001b[0m\n\u001b[1;32m     22\u001b[0m \u001b[0;34m\u001b[0m\u001b[0m\n",
            "\u001b[0;32m/usr/local/lib/python3.7/dist-packages/torch/nn/modules/module.py\u001b[0m in \u001b[0;36m_call_impl\u001b[0;34m(self, *input, **kwargs)\u001b[0m\n\u001b[1;32m   1049\u001b[0m         if not (self._backward_hooks or self._forward_hooks or self._forward_pre_hooks or _global_backward_hooks\n\u001b[1;32m   1050\u001b[0m                 or _global_forward_hooks or _global_forward_pre_hooks):\n\u001b[0;32m-> 1051\u001b[0;31m             \u001b[0;32mreturn\u001b[0m \u001b[0mforward_call\u001b[0m\u001b[0;34m(\u001b[0m\u001b[0;34m*\u001b[0m\u001b[0minput\u001b[0m\u001b[0;34m,\u001b[0m \u001b[0;34m**\u001b[0m\u001b[0mkwargs\u001b[0m\u001b[0;34m)\u001b[0m\u001b[0;34m\u001b[0m\u001b[0;34m\u001b[0m\u001b[0m\n\u001b[0m\u001b[1;32m   1052\u001b[0m         \u001b[0;31m# Do not call functions when jit is used\u001b[0m\u001b[0;34m\u001b[0m\u001b[0;34m\u001b[0m\u001b[0;34m\u001b[0m\u001b[0m\n\u001b[1;32m   1053\u001b[0m         \u001b[0mfull_backward_hooks\u001b[0m\u001b[0;34m,\u001b[0m \u001b[0mnon_full_backward_hooks\u001b[0m \u001b[0;34m=\u001b[0m \u001b[0;34m[\u001b[0m\u001b[0;34m]\u001b[0m\u001b[0;34m,\u001b[0m \u001b[0;34m[\u001b[0m\u001b[0;34m]\u001b[0m\u001b[0;34m\u001b[0m\u001b[0;34m\u001b[0m\u001b[0m\n",
            "\u001b[0;32m<ipython-input-4-8022435eea27>\u001b[0m in \u001b[0;36mforward\u001b[0;34m(self, src, trg)\u001b[0m\n\u001b[1;32m    260\u001b[0m         \u001b[0mtrg_mask\u001b[0m \u001b[0;34m=\u001b[0m \u001b[0mself\u001b[0m\u001b[0;34m.\u001b[0m\u001b[0mmake_trg_mask\u001b[0m\u001b[0;34m(\u001b[0m\u001b[0mtrg\u001b[0m\u001b[0;34m)\u001b[0m\u001b[0;34m\u001b[0m\u001b[0;34m\u001b[0m\u001b[0m\n\u001b[1;32m    261\u001b[0m         \u001b[0menc_src\u001b[0m \u001b[0;34m=\u001b[0m \u001b[0mself\u001b[0m\u001b[0;34m.\u001b[0m\u001b[0mencoder\u001b[0m\u001b[0;34m(\u001b[0m\u001b[0msrc\u001b[0m\u001b[0;34m,\u001b[0m \u001b[0msrc_mask\u001b[0m\u001b[0;34m)\u001b[0m\u001b[0;34m\u001b[0m\u001b[0;34m\u001b[0m\u001b[0m\n\u001b[0;32m--> 262\u001b[0;31m         \u001b[0mout\u001b[0m \u001b[0;34m=\u001b[0m \u001b[0mself\u001b[0m\u001b[0;34m.\u001b[0m\u001b[0mdecoder\u001b[0m\u001b[0;34m(\u001b[0m\u001b[0mtrg\u001b[0m\u001b[0;34m,\u001b[0m \u001b[0menc_src\u001b[0m\u001b[0;34m,\u001b[0m \u001b[0msrc_mask\u001b[0m\u001b[0;34m,\u001b[0m \u001b[0mtrg_mask\u001b[0m\u001b[0;34m)\u001b[0m\u001b[0;34m\u001b[0m\u001b[0;34m\u001b[0m\u001b[0m\n\u001b[0m\u001b[1;32m    263\u001b[0m         \u001b[0;32mreturn\u001b[0m \u001b[0mout\u001b[0m\u001b[0;34m\u001b[0m\u001b[0;34m\u001b[0m\u001b[0m\n",
            "\u001b[0;32m/usr/local/lib/python3.7/dist-packages/torch/nn/modules/module.py\u001b[0m in \u001b[0;36m_call_impl\u001b[0;34m(self, *input, **kwargs)\u001b[0m\n\u001b[1;32m   1049\u001b[0m         if not (self._backward_hooks or self._forward_hooks or self._forward_pre_hooks or _global_backward_hooks\n\u001b[1;32m   1050\u001b[0m                 or _global_forward_hooks or _global_forward_pre_hooks):\n\u001b[0;32m-> 1051\u001b[0;31m             \u001b[0;32mreturn\u001b[0m \u001b[0mforward_call\u001b[0m\u001b[0;34m(\u001b[0m\u001b[0;34m*\u001b[0m\u001b[0minput\u001b[0m\u001b[0;34m,\u001b[0m \u001b[0;34m**\u001b[0m\u001b[0mkwargs\u001b[0m\u001b[0;34m)\u001b[0m\u001b[0;34m\u001b[0m\u001b[0;34m\u001b[0m\u001b[0m\n\u001b[0m\u001b[1;32m   1052\u001b[0m         \u001b[0;31m# Do not call functions when jit is used\u001b[0m\u001b[0;34m\u001b[0m\u001b[0;34m\u001b[0m\u001b[0;34m\u001b[0m\u001b[0m\n\u001b[1;32m   1053\u001b[0m         \u001b[0mfull_backward_hooks\u001b[0m\u001b[0;34m,\u001b[0m \u001b[0mnon_full_backward_hooks\u001b[0m \u001b[0;34m=\u001b[0m \u001b[0;34m[\u001b[0m\u001b[0;34m]\u001b[0m\u001b[0;34m,\u001b[0m \u001b[0;34m[\u001b[0m\u001b[0;34m]\u001b[0m\u001b[0;34m\u001b[0m\u001b[0;34m\u001b[0m\u001b[0m\n",
            "\u001b[0;32m<ipython-input-4-8022435eea27>\u001b[0m in \u001b[0;36mforward\u001b[0;34m(self, x, enc_out, src_mask, trg_mask)\u001b[0m\n\u001b[1;32m    192\u001b[0m \u001b[0;34m\u001b[0m\u001b[0m\n\u001b[1;32m    193\u001b[0m         \u001b[0;32mfor\u001b[0m \u001b[0mlayer\u001b[0m \u001b[0;32min\u001b[0m \u001b[0mself\u001b[0m\u001b[0;34m.\u001b[0m\u001b[0mlayers\u001b[0m\u001b[0;34m:\u001b[0m\u001b[0;34m\u001b[0m\u001b[0;34m\u001b[0m\u001b[0m\n\u001b[0;32m--> 194\u001b[0;31m             \u001b[0mx\u001b[0m \u001b[0;34m=\u001b[0m \u001b[0mlayer\u001b[0m\u001b[0;34m(\u001b[0m\u001b[0mx\u001b[0m\u001b[0;34m,\u001b[0m \u001b[0menc_out\u001b[0m\u001b[0;34m,\u001b[0m \u001b[0menc_out\u001b[0m\u001b[0;34m,\u001b[0m \u001b[0msrc_mask\u001b[0m\u001b[0;34m,\u001b[0m \u001b[0mtrg_mask\u001b[0m\u001b[0;34m)\u001b[0m\u001b[0;34m\u001b[0m\u001b[0;34m\u001b[0m\u001b[0m\n\u001b[0m\u001b[1;32m    195\u001b[0m \u001b[0;34m\u001b[0m\u001b[0m\n\u001b[1;32m    196\u001b[0m         \u001b[0mout\u001b[0m \u001b[0;34m=\u001b[0m \u001b[0mself\u001b[0m\u001b[0;34m.\u001b[0m\u001b[0mfc_out\u001b[0m\u001b[0;34m(\u001b[0m\u001b[0mx\u001b[0m\u001b[0;34m)\u001b[0m\u001b[0;34m\u001b[0m\u001b[0;34m\u001b[0m\u001b[0m\n",
            "\u001b[0;32m/usr/local/lib/python3.7/dist-packages/torch/nn/modules/module.py\u001b[0m in \u001b[0;36m_call_impl\u001b[0;34m(self, *input, **kwargs)\u001b[0m\n\u001b[1;32m   1049\u001b[0m         if not (self._backward_hooks or self._forward_hooks or self._forward_pre_hooks or _global_backward_hooks\n\u001b[1;32m   1050\u001b[0m                 or _global_forward_hooks or _global_forward_pre_hooks):\n\u001b[0;32m-> 1051\u001b[0;31m             \u001b[0;32mreturn\u001b[0m \u001b[0mforward_call\u001b[0m\u001b[0;34m(\u001b[0m\u001b[0;34m*\u001b[0m\u001b[0minput\u001b[0m\u001b[0;34m,\u001b[0m \u001b[0;34m**\u001b[0m\u001b[0mkwargs\u001b[0m\u001b[0;34m)\u001b[0m\u001b[0;34m\u001b[0m\u001b[0;34m\u001b[0m\u001b[0m\n\u001b[0m\u001b[1;32m   1052\u001b[0m         \u001b[0;31m# Do not call functions when jit is used\u001b[0m\u001b[0;34m\u001b[0m\u001b[0;34m\u001b[0m\u001b[0;34m\u001b[0m\u001b[0m\n\u001b[1;32m   1053\u001b[0m         \u001b[0mfull_backward_hooks\u001b[0m\u001b[0;34m,\u001b[0m \u001b[0mnon_full_backward_hooks\u001b[0m \u001b[0;34m=\u001b[0m \u001b[0;34m[\u001b[0m\u001b[0;34m]\u001b[0m\u001b[0;34m,\u001b[0m \u001b[0;34m[\u001b[0m\u001b[0;34m]\u001b[0m\u001b[0;34m\u001b[0m\u001b[0;34m\u001b[0m\u001b[0m\n",
            "\u001b[0;32m<ipython-input-4-8022435eea27>\u001b[0m in \u001b[0;36mforward\u001b[0;34m(self, x, value, key, src_mask, trg_mask)\u001b[0m\n\u001b[1;32m    156\u001b[0m         \u001b[0mattention\u001b[0m \u001b[0;34m=\u001b[0m \u001b[0mself\u001b[0m\u001b[0;34m.\u001b[0m\u001b[0mattention\u001b[0m\u001b[0;34m(\u001b[0m\u001b[0mx\u001b[0m\u001b[0;34m,\u001b[0m \u001b[0mx\u001b[0m\u001b[0;34m,\u001b[0m \u001b[0mx\u001b[0m\u001b[0;34m,\u001b[0m \u001b[0mtrg_mask\u001b[0m\u001b[0;34m)\u001b[0m\u001b[0;34m\u001b[0m\u001b[0;34m\u001b[0m\u001b[0m\n\u001b[1;32m    157\u001b[0m         \u001b[0mquery\u001b[0m \u001b[0;34m=\u001b[0m \u001b[0mself\u001b[0m\u001b[0;34m.\u001b[0m\u001b[0mdropout\u001b[0m\u001b[0;34m(\u001b[0m\u001b[0mself\u001b[0m\u001b[0;34m.\u001b[0m\u001b[0mnorm\u001b[0m\u001b[0;34m(\u001b[0m\u001b[0mattention\u001b[0m \u001b[0;34m+\u001b[0m \u001b[0mx\u001b[0m\u001b[0;34m)\u001b[0m\u001b[0;34m)\u001b[0m\u001b[0;34m\u001b[0m\u001b[0;34m\u001b[0m\u001b[0m\n\u001b[0;32m--> 158\u001b[0;31m         \u001b[0mout\u001b[0m \u001b[0;34m=\u001b[0m \u001b[0mself\u001b[0m\u001b[0;34m.\u001b[0m\u001b[0mtransformer_block\u001b[0m\u001b[0;34m(\u001b[0m\u001b[0mvalue\u001b[0m\u001b[0;34m,\u001b[0m \u001b[0mkey\u001b[0m\u001b[0;34m,\u001b[0m \u001b[0mquery\u001b[0m\u001b[0;34m,\u001b[0m \u001b[0msrc_mask\u001b[0m\u001b[0;34m)\u001b[0m\u001b[0;34m\u001b[0m\u001b[0;34m\u001b[0m\u001b[0m\n\u001b[0m\u001b[1;32m    159\u001b[0m         \u001b[0;32mreturn\u001b[0m \u001b[0mout\u001b[0m\u001b[0;34m\u001b[0m\u001b[0;34m\u001b[0m\u001b[0m\n\u001b[1;32m    160\u001b[0m \u001b[0;34m\u001b[0m\u001b[0m\n",
            "\u001b[0;32m/usr/local/lib/python3.7/dist-packages/torch/nn/modules/module.py\u001b[0m in \u001b[0;36m_call_impl\u001b[0;34m(self, *input, **kwargs)\u001b[0m\n\u001b[1;32m   1049\u001b[0m         if not (self._backward_hooks or self._forward_hooks or self._forward_pre_hooks or _global_backward_hooks\n\u001b[1;32m   1050\u001b[0m                 or _global_forward_hooks or _global_forward_pre_hooks):\n\u001b[0;32m-> 1051\u001b[0;31m             \u001b[0;32mreturn\u001b[0m \u001b[0mforward_call\u001b[0m\u001b[0;34m(\u001b[0m\u001b[0;34m*\u001b[0m\u001b[0minput\u001b[0m\u001b[0;34m,\u001b[0m \u001b[0;34m**\u001b[0m\u001b[0mkwargs\u001b[0m\u001b[0;34m)\u001b[0m\u001b[0;34m\u001b[0m\u001b[0;34m\u001b[0m\u001b[0m\n\u001b[0m\u001b[1;32m   1052\u001b[0m         \u001b[0;31m# Do not call functions when jit is used\u001b[0m\u001b[0;34m\u001b[0m\u001b[0;34m\u001b[0m\u001b[0;34m\u001b[0m\u001b[0m\n\u001b[1;32m   1053\u001b[0m         \u001b[0mfull_backward_hooks\u001b[0m\u001b[0;34m,\u001b[0m \u001b[0mnon_full_backward_hooks\u001b[0m \u001b[0;34m=\u001b[0m \u001b[0;34m[\u001b[0m\u001b[0;34m]\u001b[0m\u001b[0;34m,\u001b[0m \u001b[0;34m[\u001b[0m\u001b[0;34m]\u001b[0m\u001b[0;34m\u001b[0m\u001b[0;34m\u001b[0m\u001b[0m\n",
            "\u001b[0;32m<ipython-input-4-8022435eea27>\u001b[0m in \u001b[0;36mforward\u001b[0;34m(self, value, key, query, mask)\u001b[0m\n\u001b[1;32m     90\u001b[0m         \u001b[0;31m# Add skip connection, run through normalization and finally dropout\u001b[0m\u001b[0;34m\u001b[0m\u001b[0;34m\u001b[0m\u001b[0;34m\u001b[0m\u001b[0m\n\u001b[1;32m     91\u001b[0m         \u001b[0mx\u001b[0m \u001b[0;34m=\u001b[0m \u001b[0mself\u001b[0m\u001b[0;34m.\u001b[0m\u001b[0mdropout\u001b[0m\u001b[0;34m(\u001b[0m\u001b[0mself\u001b[0m\u001b[0;34m.\u001b[0m\u001b[0mnorm1\u001b[0m\u001b[0;34m(\u001b[0m\u001b[0mattention\u001b[0m \u001b[0;34m+\u001b[0m \u001b[0mquery\u001b[0m\u001b[0;34m)\u001b[0m\u001b[0;34m)\u001b[0m\u001b[0;34m\u001b[0m\u001b[0;34m\u001b[0m\u001b[0m\n\u001b[0;32m---> 92\u001b[0;31m         \u001b[0mforward\u001b[0m \u001b[0;34m=\u001b[0m \u001b[0mself\u001b[0m\u001b[0;34m.\u001b[0m\u001b[0mfeed_forward\u001b[0m\u001b[0;34m(\u001b[0m\u001b[0mx\u001b[0m\u001b[0;34m)\u001b[0m\u001b[0;34m\u001b[0m\u001b[0;34m\u001b[0m\u001b[0m\n\u001b[0m\u001b[1;32m     93\u001b[0m         \u001b[0mout\u001b[0m \u001b[0;34m=\u001b[0m \u001b[0mself\u001b[0m\u001b[0;34m.\u001b[0m\u001b[0mdropout\u001b[0m\u001b[0;34m(\u001b[0m\u001b[0mself\u001b[0m\u001b[0;34m.\u001b[0m\u001b[0mnorm2\u001b[0m\u001b[0;34m(\u001b[0m\u001b[0mforward\u001b[0m \u001b[0;34m+\u001b[0m \u001b[0mx\u001b[0m\u001b[0;34m)\u001b[0m\u001b[0;34m)\u001b[0m\u001b[0;34m\u001b[0m\u001b[0;34m\u001b[0m\u001b[0m\n\u001b[1;32m     94\u001b[0m         \u001b[0;32mreturn\u001b[0m \u001b[0mout\u001b[0m\u001b[0;34m\u001b[0m\u001b[0;34m\u001b[0m\u001b[0m\n",
            "\u001b[0;32m/usr/local/lib/python3.7/dist-packages/torch/nn/modules/module.py\u001b[0m in \u001b[0;36m_call_impl\u001b[0;34m(self, *input, **kwargs)\u001b[0m\n\u001b[1;32m   1049\u001b[0m         if not (self._backward_hooks or self._forward_hooks or self._forward_pre_hooks or _global_backward_hooks\n\u001b[1;32m   1050\u001b[0m                 or _global_forward_hooks or _global_forward_pre_hooks):\n\u001b[0;32m-> 1051\u001b[0;31m             \u001b[0;32mreturn\u001b[0m \u001b[0mforward_call\u001b[0m\u001b[0;34m(\u001b[0m\u001b[0;34m*\u001b[0m\u001b[0minput\u001b[0m\u001b[0;34m,\u001b[0m \u001b[0;34m**\u001b[0m\u001b[0mkwargs\u001b[0m\u001b[0;34m)\u001b[0m\u001b[0;34m\u001b[0m\u001b[0;34m\u001b[0m\u001b[0m\n\u001b[0m\u001b[1;32m   1052\u001b[0m         \u001b[0;31m# Do not call functions when jit is used\u001b[0m\u001b[0;34m\u001b[0m\u001b[0;34m\u001b[0m\u001b[0;34m\u001b[0m\u001b[0m\n\u001b[1;32m   1053\u001b[0m         \u001b[0mfull_backward_hooks\u001b[0m\u001b[0;34m,\u001b[0m \u001b[0mnon_full_backward_hooks\u001b[0m \u001b[0;34m=\u001b[0m \u001b[0;34m[\u001b[0m\u001b[0;34m]\u001b[0m\u001b[0;34m,\u001b[0m \u001b[0;34m[\u001b[0m\u001b[0;34m]\u001b[0m\u001b[0;34m\u001b[0m\u001b[0;34m\u001b[0m\u001b[0m\n",
            "\u001b[0;32m/usr/local/lib/python3.7/dist-packages/torch/nn/modules/container.py\u001b[0m in \u001b[0;36mforward\u001b[0;34m(self, input)\u001b[0m\n\u001b[1;32m    137\u001b[0m     \u001b[0;32mdef\u001b[0m \u001b[0mforward\u001b[0m\u001b[0;34m(\u001b[0m\u001b[0mself\u001b[0m\u001b[0;34m,\u001b[0m \u001b[0minput\u001b[0m\u001b[0;34m)\u001b[0m\u001b[0;34m:\u001b[0m\u001b[0;34m\u001b[0m\u001b[0;34m\u001b[0m\u001b[0m\n\u001b[1;32m    138\u001b[0m         \u001b[0;32mfor\u001b[0m \u001b[0mmodule\u001b[0m \u001b[0;32min\u001b[0m \u001b[0mself\u001b[0m\u001b[0;34m:\u001b[0m\u001b[0;34m\u001b[0m\u001b[0;34m\u001b[0m\u001b[0m\n\u001b[0;32m--> 139\u001b[0;31m             \u001b[0minput\u001b[0m \u001b[0;34m=\u001b[0m \u001b[0mmodule\u001b[0m\u001b[0;34m(\u001b[0m\u001b[0minput\u001b[0m\u001b[0;34m)\u001b[0m\u001b[0;34m\u001b[0m\u001b[0;34m\u001b[0m\u001b[0m\n\u001b[0m\u001b[1;32m    140\u001b[0m         \u001b[0;32mreturn\u001b[0m \u001b[0minput\u001b[0m\u001b[0;34m\u001b[0m\u001b[0;34m\u001b[0m\u001b[0m\n\u001b[1;32m    141\u001b[0m \u001b[0;34m\u001b[0m\u001b[0m\n",
            "\u001b[0;32m/usr/local/lib/python3.7/dist-packages/torch/nn/modules/module.py\u001b[0m in \u001b[0;36m_call_impl\u001b[0;34m(self, *input, **kwargs)\u001b[0m\n\u001b[1;32m   1049\u001b[0m         if not (self._backward_hooks or self._forward_hooks or self._forward_pre_hooks or _global_backward_hooks\n\u001b[1;32m   1050\u001b[0m                 or _global_forward_hooks or _global_forward_pre_hooks):\n\u001b[0;32m-> 1051\u001b[0;31m             \u001b[0;32mreturn\u001b[0m \u001b[0mforward_call\u001b[0m\u001b[0;34m(\u001b[0m\u001b[0;34m*\u001b[0m\u001b[0minput\u001b[0m\u001b[0;34m,\u001b[0m \u001b[0;34m**\u001b[0m\u001b[0mkwargs\u001b[0m\u001b[0;34m)\u001b[0m\u001b[0;34m\u001b[0m\u001b[0;34m\u001b[0m\u001b[0m\n\u001b[0m\u001b[1;32m   1052\u001b[0m         \u001b[0;31m# Do not call functions when jit is used\u001b[0m\u001b[0;34m\u001b[0m\u001b[0;34m\u001b[0m\u001b[0;34m\u001b[0m\u001b[0m\n\u001b[1;32m   1053\u001b[0m         \u001b[0mfull_backward_hooks\u001b[0m\u001b[0;34m,\u001b[0m \u001b[0mnon_full_backward_hooks\u001b[0m \u001b[0;34m=\u001b[0m \u001b[0;34m[\u001b[0m\u001b[0;34m]\u001b[0m\u001b[0;34m,\u001b[0m \u001b[0;34m[\u001b[0m\u001b[0;34m]\u001b[0m\u001b[0;34m\u001b[0m\u001b[0;34m\u001b[0m\u001b[0m\n",
            "\u001b[0;32m/usr/local/lib/python3.7/dist-packages/torch/nn/modules/linear.py\u001b[0m in \u001b[0;36mforward\u001b[0;34m(self, input)\u001b[0m\n\u001b[1;32m     94\u001b[0m \u001b[0;34m\u001b[0m\u001b[0m\n\u001b[1;32m     95\u001b[0m     \u001b[0;32mdef\u001b[0m \u001b[0mforward\u001b[0m\u001b[0;34m(\u001b[0m\u001b[0mself\u001b[0m\u001b[0;34m,\u001b[0m \u001b[0minput\u001b[0m\u001b[0;34m:\u001b[0m \u001b[0mTensor\u001b[0m\u001b[0;34m)\u001b[0m \u001b[0;34m->\u001b[0m \u001b[0mTensor\u001b[0m\u001b[0;34m:\u001b[0m\u001b[0;34m\u001b[0m\u001b[0;34m\u001b[0m\u001b[0m\n\u001b[0;32m---> 96\u001b[0;31m         \u001b[0;32mreturn\u001b[0m \u001b[0mF\u001b[0m\u001b[0;34m.\u001b[0m\u001b[0mlinear\u001b[0m\u001b[0;34m(\u001b[0m\u001b[0minput\u001b[0m\u001b[0;34m,\u001b[0m \u001b[0mself\u001b[0m\u001b[0;34m.\u001b[0m\u001b[0mweight\u001b[0m\u001b[0;34m,\u001b[0m \u001b[0mself\u001b[0m\u001b[0;34m.\u001b[0m\u001b[0mbias\u001b[0m\u001b[0;34m)\u001b[0m\u001b[0;34m\u001b[0m\u001b[0;34m\u001b[0m\u001b[0m\n\u001b[0m\u001b[1;32m     97\u001b[0m \u001b[0;34m\u001b[0m\u001b[0m\n\u001b[1;32m     98\u001b[0m     \u001b[0;32mdef\u001b[0m \u001b[0mextra_repr\u001b[0m\u001b[0;34m(\u001b[0m\u001b[0mself\u001b[0m\u001b[0;34m)\u001b[0m \u001b[0;34m->\u001b[0m \u001b[0mstr\u001b[0m\u001b[0;34m:\u001b[0m\u001b[0;34m\u001b[0m\u001b[0;34m\u001b[0m\u001b[0m\n",
            "\u001b[0;32m/usr/local/lib/python3.7/dist-packages/torch/nn/functional.py\u001b[0m in \u001b[0;36mlinear\u001b[0;34m(input, weight, bias)\u001b[0m\n\u001b[1;32m   1845\u001b[0m     \u001b[0;32mif\u001b[0m \u001b[0mhas_torch_function_variadic\u001b[0m\u001b[0;34m(\u001b[0m\u001b[0minput\u001b[0m\u001b[0;34m,\u001b[0m \u001b[0mweight\u001b[0m\u001b[0;34m)\u001b[0m\u001b[0;34m:\u001b[0m\u001b[0;34m\u001b[0m\u001b[0;34m\u001b[0m\u001b[0m\n\u001b[1;32m   1846\u001b[0m         \u001b[0;32mreturn\u001b[0m \u001b[0mhandle_torch_function\u001b[0m\u001b[0;34m(\u001b[0m\u001b[0mlinear\u001b[0m\u001b[0;34m,\u001b[0m \u001b[0;34m(\u001b[0m\u001b[0minput\u001b[0m\u001b[0;34m,\u001b[0m \u001b[0mweight\u001b[0m\u001b[0;34m)\u001b[0m\u001b[0;34m,\u001b[0m \u001b[0minput\u001b[0m\u001b[0;34m,\u001b[0m \u001b[0mweight\u001b[0m\u001b[0;34m,\u001b[0m \u001b[0mbias\u001b[0m\u001b[0;34m=\u001b[0m\u001b[0mbias\u001b[0m\u001b[0;34m)\u001b[0m\u001b[0;34m\u001b[0m\u001b[0;34m\u001b[0m\u001b[0m\n\u001b[0;32m-> 1847\u001b[0;31m     \u001b[0;32mreturn\u001b[0m \u001b[0mtorch\u001b[0m\u001b[0;34m.\u001b[0m\u001b[0m_C\u001b[0m\u001b[0;34m.\u001b[0m\u001b[0m_nn\u001b[0m\u001b[0;34m.\u001b[0m\u001b[0mlinear\u001b[0m\u001b[0;34m(\u001b[0m\u001b[0minput\u001b[0m\u001b[0;34m,\u001b[0m \u001b[0mweight\u001b[0m\u001b[0;34m,\u001b[0m \u001b[0mbias\u001b[0m\u001b[0;34m)\u001b[0m\u001b[0;34m\u001b[0m\u001b[0;34m\u001b[0m\u001b[0m\n\u001b[0m\u001b[1;32m   1848\u001b[0m \u001b[0;34m\u001b[0m\u001b[0m\n\u001b[1;32m   1849\u001b[0m \u001b[0;34m\u001b[0m\u001b[0m\n",
            "\u001b[0;31mKeyboardInterrupt\u001b[0m: "
          ]
        }
      ]
    },
    {
      "cell_type": "markdown",
      "metadata": {
        "id": "K0wwF5xUFv3A"
      },
      "source": [
        "#Save Sentences"
      ]
    },
    {
      "cell_type": "code",
      "metadata": {
        "id": "PUPOC6VsKKW1"
      },
      "source": [
        "def tensor2text(vocab, tensor):\n",
        "    tensor = tensor.cpu().numpy()\n",
        "    text = []\n",
        "    index2word = vocab.itos\n",
        "    eos_idx = vocab.stoi['<EOS>']\n",
        "    unk_idx = vocab.stoi['<UNK>']\n",
        "   # stop_idxs = [vocab.stoi['!'], vocab.stoi['.'], vocab.stoi['?']]\n",
        "    for sample in tensor:\n",
        "      sample_filtered = []\n",
        "      prev_token = None\n",
        "      for idx in list(sample):\n",
        "        if idx == unk_idx or idx == prev_token or idx == eos_idx:\n",
        "          continue\n",
        "        prev_token = idx\n",
        "        sample_filtered.append(index2word[idx])\n",
        "          \n",
        "      sample = ' '.join(sample_filtered)\n",
        "      text.append(sample)\n",
        "\n",
        "    return text"
      ],
      "execution_count": null,
      "outputs": []
    },
    {
      "cell_type": "code",
      "metadata": {
        "id": "NyXjQSBwGjs7"
      },
      "source": [
        "gold_res=[]\n",
        "style_res=[]\n",
        "for i in range(len(results)):\n",
        "  gold_res.append(tensor2text(vocab,results[i][0]))\n",
        "  style_res.append(tensor2text(vocab,results[i][1].argmax(-1)))"
      ],
      "execution_count": 57,
      "outputs": []
    },
    {
      "cell_type": "markdown",
      "metadata": {
        "id": "oLqkU9FeFuc2"
      },
      "source": [
        ""
      ]
    },
    {
      "cell_type": "code",
      "metadata": {
        "colab": {
          "base_uri": "https://localhost:8080/"
        },
        "id": "HOwLmvHlDwXU",
        "outputId": "1922affc-0b81-4c4d-cdf6-636fc07d32b8"
      },
      "source": [
        "print(gold_res[100])\n",
        "print(style_res[100])"
      ],
      "execution_count": 60,
      "outputs": [
        {
          "output_type": "stream",
          "text": [
            "['<SOS>', 'patients', 'with', 'unexplained', 'or', 'sustained', 'worsening', 'of', 'symptoms', 'should', 'be', 'evaluated', 'for', 'pancreatic', 'cancer', ',', 'particularly', 'if', 'assessment', 'reveals', 'a', 'pancreatic', 'duct', 'stricture', '.', '', '<PAD>', '<PAD>', '<PAD>', '<PAD>']\n",
            "['<SOS>', 'patients', 'with', 'in', 'or', '<PAD>', 'weak', 'of', 'symptoms', 'should', 'be', ',', 'for', 'be', 'to', ',', 'to', 'if', ',', '.', 'a', 'be', 'and', 'may', '.', '', '<PAD>', '<PAD>', '<PAD>', '<PAD>']\n"
          ],
          "name": "stdout"
        }
      ]
    },
    {
      "cell_type": "code",
      "metadata": {
        "id": "s62KF3PsGOQJ"
      },
      "source": [
        "with open(\"/content/drive/My Drive/Colab Notebooks/style_transfer/training_files/gold_res_s2s.txt\", \"w\") as output:\n",
        "  for each_list in gold_res:\n",
        "    listToStr = ' '.join([str(elem) for elem in each_list])\n",
        "\n",
        "\n",
        "    output.write(listToStr + '\\n')"
      ],
      "execution_count": 88,
      "outputs": []
    },
    {
      "cell_type": "code",
      "metadata": {
        "id": "8XDhxq4lIFqV"
      },
      "source": [
        "with open(\"/content/drive/My Drive/Colab Notebooks/style_transfer/training_files/style_res_seq2seq.txt\", \"w\") as output:\n",
        "  for each_list in style_res:\n",
        "    listToStr = ' '.join([str(elem) for elem in each_list])\n",
        "\n",
        "\n",
        "    output.write(listToStr + '\\n')"
      ],
      "execution_count": 85,
      "outputs": []
    },
    {
      "cell_type": "code",
      "metadata": {
        "id": "eob2aXAPGGEx"
      },
      "source": [
        ""
      ],
      "execution_count": 46,
      "outputs": []
    },
    {
      "cell_type": "code",
      "metadata": {
        "colab": {
          "base_uri": "https://localhost:8080/"
        },
        "id": "02MUEd629eJA",
        "outputId": "91bb1bad-632e-40c8-dc06-b1b85c656ae9"
      },
      "source": [
        "tensor2text(vocab,results[0][0])"
      ],
      "execution_count": 52,
      "outputs": [
        {
          "output_type": "execute_result",
          "data": {
            "text/plain": [
              "['<SOS>',\n",
              " 'in',\n",
              " 'adults',\n",
              " ',',\n",
              " 'lassitude',\n",
              " ',',\n",
              " 'weakness',\n",
              " ',',\n",
              " 'and',\n",
              " 'anorexia',\n",
              " 'are',\n",
              " 'most',\n",
              " 'common',\n",
              " '.',\n",
              " '',\n",
              " '<PAD>',\n",
              " '<PAD>',\n",
              " '<PAD>',\n",
              " '<PAD>',\n",
              " '<PAD>',\n",
              " '<PAD>',\n",
              " '<PAD>',\n",
              " '<PAD>',\n",
              " '<PAD>',\n",
              " '<PAD>',\n",
              " '<PAD>',\n",
              " '<PAD>',\n",
              " '<PAD>',\n",
              " '<PAD>',\n",
              " '<PAD>',\n",
              " '<PAD>',\n",
              " '<PAD>',\n",
              " '<PAD>',\n",
              " '<PAD>',\n",
              " '<PAD>',\n",
              " '<PAD>',\n",
              " '<PAD>',\n",
              " '<PAD>',\n",
              " '<PAD>',\n",
              " '<PAD>',\n",
              " '<PAD>']"
            ]
          },
          "metadata": {},
          "execution_count": 52
        }
      ]
    },
    {
      "cell_type": "code",
      "metadata": {
        "colab": {
          "base_uri": "https://localhost:8080/"
        },
        "id": "u5Ec4bcGFiv5",
        "outputId": "02e25809-89ca-403c-ef37-063bd4ed2983"
      },
      "source": [
        "tensor2text(vocab,results[0][1].argmax(-1))"
      ],
      "execution_count": 53,
      "outputs": [
        {
          "output_type": "execute_result",
          "data": {
            "text/plain": [
              "['<SOS>',\n",
              " 'in',\n",
              " 'usually',\n",
              " ',',\n",
              " '<PAD>',\n",
              " ',',\n",
              " ',',\n",
              " ',',\n",
              " 'and',\n",
              " 'a',\n",
              " 'are',\n",
              " 'most',\n",
              " 'common',\n",
              " '.',\n",
              " '',\n",
              " '<PAD>',\n",
              " '<PAD>',\n",
              " '<PAD>',\n",
              " '<PAD>',\n",
              " '<PAD>',\n",
              " '<PAD>',\n",
              " '<PAD>',\n",
              " '<PAD>',\n",
              " '<PAD>',\n",
              " '<PAD>',\n",
              " '<PAD>',\n",
              " '<PAD>',\n",
              " '<PAD>',\n",
              " '<PAD>',\n",
              " '<PAD>',\n",
              " '<PAD>',\n",
              " '<PAD>',\n",
              " '<PAD>',\n",
              " '<PAD>',\n",
              " '<PAD>',\n",
              " '<PAD>',\n",
              " '<PAD>',\n",
              " '<PAD>',\n",
              " '<PAD>',\n",
              " '<PAD>',\n",
              " '<PAD>']"
            ]
          },
          "metadata": {},
          "execution_count": 53
        }
      ]
    },
    {
      "cell_type": "markdown",
      "metadata": {
        "id": "yHNtTkksFpf0"
      },
      "source": [
        "#Bleu and save"
      ]
    },
    {
      "cell_type": "code",
      "metadata": {
        "colab": {
          "base_uri": "https://localhost:8080/"
        },
        "id": "LvvBfkhZCwYs",
        "outputId": "ba805f59-1393-40a2-fe7e-111af1030586"
      },
      "source": [
        "  \n",
        "from nltk.tokenize import word_tokenize\n",
        "from nltk.translate.bleu_score import sentence_bleu\n",
        "\n",
        "import nltk\n",
        "nltk.download('punkt')\n",
        "\n"
      ],
      "execution_count": 63,
      "outputs": [
        {
          "output_type": "stream",
          "text": [
            "[nltk_data] Downloading package punkt to /root/nltk_data...\n",
            "[nltk_data]   Unzipping tokenizers/punkt.zip.\n"
          ],
          "name": "stdout"
        },
        {
          "output_type": "execute_result",
          "data": {
            "text/plain": [
              "True"
            ]
          },
          "metadata": {},
          "execution_count": 63
        }
      ]
    },
    {
      "cell_type": "code",
      "metadata": {
        "id": "k9ZhxM3XEbQq"
      },
      "source": [
        "\n",
        "def nltk_bleu(texts_origin, text_transfered):\n",
        "  \n",
        "  \n",
        "  return sentence_bleu(texts_origin, text_transfered) * 100\n"
      ],
      "execution_count": 73,
      "outputs": []
    },
    {
      "cell_type": "code",
      "metadata": {
        "colab": {
          "base_uri": "https://localhost:8080/"
        },
        "id": "hxnisM_wEqYn",
        "outputId": "7f0b41e6-9866-443e-f42e-8578267855c7"
      },
      "source": [
        "sentence_bleu(gold_res[0],style_res[0])"
      ],
      "execution_count": 72,
      "outputs": [
        {
          "output_type": "stream",
          "text": [
            "/usr/local/lib/python3.7/dist-packages/nltk/translate/bleu_score.py:490: UserWarning: \n",
            "Corpus/Sentence contains 0 counts of 2-gram overlaps.\n",
            "BLEU scores might be undesirable; use SmoothingFunction().\n",
            "  warnings.warn(_msg)\n"
          ],
          "name": "stderr"
        },
        {
          "output_type": "execute_result",
          "data": {
            "text/plain": [
              "0.6303647413359293"
            ]
          },
          "metadata": {},
          "execution_count": 72
        }
      ]
    },
    {
      "cell_type": "code",
      "metadata": {
        "colab": {
          "base_uri": "https://localhost:8080/"
        },
        "id": "5_SA9_EDEcsb",
        "outputId": "537678a2-0190-4c57-9a65-4d26b7965a4d"
      },
      "source": [
        "\n",
        "bleu_scores_raw = []\n",
        "for i in range(len(gold_res)):\n",
        "  bleu_scores_raw.append(sentence_bleu(gold_res[i],style_res[i]))"
      ],
      "execution_count": 74,
      "outputs": [
        {
          "output_type": "stream",
          "text": [
            "/usr/local/lib/python3.7/dist-packages/nltk/translate/bleu_score.py:490: UserWarning: \n",
            "Corpus/Sentence contains 0 counts of 2-gram overlaps.\n",
            "BLEU scores might be undesirable; use SmoothingFunction().\n",
            "  warnings.warn(_msg)\n"
          ],
          "name": "stderr"
        }
      ]
    },
    {
      "cell_type": "code",
      "metadata": {
        "colab": {
          "base_uri": "https://localhost:8080/"
        },
        "id": "7Xx_cet5FEue",
        "outputId": "1de53a44-c92e-4ed6-f3d6-a18cf92dd368"
      },
      "source": [
        "bleu_scores_raw"
      ],
      "execution_count": 75,
      "outputs": [
        {
          "output_type": "execute_result",
          "data": {
            "text/plain": [
              "[0.6303647413359293,\n",
              " 0.5734090813814468,\n",
              " 0.6104735835807844,\n",
              " 0.5307712171072443,\n",
              " 0.5491004867761125,\n",
              " 0.5542089483371553,\n",
              " 0.42379865741502165,\n",
              " 0.5695988432761473,\n",
              " 0,\n",
              " 0.5516251532744788,\n",
              " 0.5900468726392808,\n",
              " 0.6389431042462724,\n",
              " 0.5318295896944989,\n",
              " 0.5246341022861458,\n",
              " 0.5491004867761125,\n",
              " 0.668740304976422,\n",
              " 0.6238986072117501,\n",
              " 0.5577503997480662,\n",
              " 0.5856596027429395,\n",
              " 0.5659119256652702,\n",
              " 0.6192596340984008,\n",
              " 0.5318295896944989,\n",
              " 0.5401203412164636,\n",
              " 0.5039843787265444,\n",
              " 0.5266403878479265,\n",
              " 0.42728700639623407,\n",
              " 0.6481388934544839,\n",
              " 0.5491004867761125,\n",
              " 0.537284965911771,\n",
              " 0.476895599763377,\n",
              " 0,\n",
              " 0.6063062848485936,\n",
              " 0.4728708045015879,\n",
              " 0.5946035575013605,\n",
              " 0.46575793908279883,\n",
              " 0.6428039633283764,\n",
              " 0.5193071778680676,\n",
              " 0.5169731539571706,\n",
              " 0.5577503997480662,\n",
              " 0.7311104457090247,\n",
              " 0,\n",
              " 0.668740304976422,\n",
              " 0.4591497693322866,\n",
              " 0.6147881529512643,\n",
              " 0.4386913376508308,\n",
              " 0.6337268058487422,\n",
              " 0.5169731539571706,\n",
              " 0.46439804737625334,\n",
              " 0.5318295896944989,\n",
              " 0.5623413251903491,\n",
              " 0.4591497693322866,\n",
              " 0.45418525873453736,\n",
              " 0.45499414040480374,\n",
              " 0,\n",
              " 0.5,\n",
              " 0.5081327481546147,\n",
              " 0.5318295896944989,\n",
              " 0.5053483543335474,\n",
              " 0.36889397323344053,\n",
              " 0.4854917717073234,\n",
              " 0.48217764100758403,\n",
              " 0.5491004867761125,\n",
              " 0.6042750794713536,\n",
              " 0.46173663094410267,\n",
              " 0.47897362544357464,\n",
              " 0.5946035575013605,\n",
              " 0.5328985992883941,\n",
              " 0.4728708045015879,\n",
              " 0.5039843787265444,\n",
              " 0.6104735835807844,\n",
              " 0.6481388934544839,\n",
              " 0.537284965911771,\n",
              " 0.5491004867761125,\n",
              " 0.4854917717073234,\n",
              " 0.49616830003403634,\n",
              " 0.4494780405208269,\n",
              " 0.5491004867761125,\n",
              " 0.47587330964125224,\n",
              " 0.43092381945890607,\n",
              " 0.5,\n",
              " 0.4566337854967312,\n",
              " 0.6063062848485936,\n",
              " 0.5873949094699213,\n",
              " 0.46996069213253683,\n",
              " 0.5039843787265444,\n",
              " 0.5266403878479265,\n",
              " 0.48217764100758403,\n",
              " 0.5,\n",
              " 0.4439210015676873,\n",
              " 0.5039843787265444,\n",
              " 0.5081327481546147,\n",
              " 0.5169731539571706,\n",
              " 0.5401203412164636,\n",
              " 0.5659119256652702,\n",
              " 0.6009638585283708,\n",
              " 0.537284965911771,\n",
              " 0.4924790605054523,\n",
              " 0.5015748226469445,\n",
              " 0.6865890479690392,\n",
              " 0.5430321466633391,\n",
              " 0.5623413251903491,\n",
              " 0.6930977286178778,\n",
              " 0.5577503997480662,\n",
              " 0.5169731539571706,\n",
              " 0.6930977286178778,\n",
              " 0.5885661912765424,\n",
              " 0.5266403878479265,\n",
              " 0.5623413251903491,\n",
              " 0.5430321466633391,\n",
              " 0.5600223424950026,\n",
              " 0.37991784282579627,\n",
              " 0.4832697830906221,\n",
              " 0.5773502691896257,\n",
              " 0.537284965911771,\n",
              " 0.6147881529512643,\n",
              " 0.5318295896944989,\n",
              " 0.447213595499958,\n",
              " 0.5095541123813537,\n",
              " 0.5430321466633391,\n",
              " 0.5555238068023582,\n",
              " 0.6287167148414677,\n",
              " 0.4924790605054523,\n",
              " 0.5623413251903491,\n",
              " 0.5773502691896257,\n",
              " 0.4714045207910317,\n",
              " 0.42379865741502165,\n",
              " 0.5773502691896257,\n",
              " 0.5,\n",
              " 0.4687405329188213,\n",
              " 0.5695988432761473,\n",
              " 0.42728700639623407,\n",
              " 0.4671379777282001,\n",
              " 0.6063062848485936,\n",
              " 0.5533409598501607,\n",
              " 0.5623413251903491,\n",
              " 0.5200970009529277,\n",
              " 0.537284965911771,\n",
              " 0.5623413251903491,\n",
              " 0.5266403878479265,\n",
              " 0.5266403878479265,\n",
              " 0.4924790605054523,\n",
              " 0.5623413251903491,\n",
              " 0.5491004867761125,\n",
              " 0,\n",
              " 0.5039843787265444,\n",
              " 0.5022573937283119,\n",
              " 0.5146906560381768,\n",
              " 0.5828233954152654,\n",
              " 0.5873949094699213,\n",
              " 0.5734090813814468,\n",
              " 0.6042750794713536,\n",
              " 0.5266403878479265,\n",
              " 0.4728708045015879,\n",
              " 0.4671379777282001,\n",
              " 0.5410822690539396,\n",
              " 0.5856596027429395,\n",
              " 0.5773502691896257,\n",
              " 0.46173663094410267,\n",
              " 0.5946035575013605,\n",
              " 0.5577503997480662,\n",
              " 0.5266403878479265,\n",
              " 0.447213595499958,\n",
              " 0.6094183098284,\n",
              " 0.6559965570884768,\n",
              " 0.5828233954152654,\n",
              " 0.5266403878479265,\n",
              " 0.5734090813814468,\n",
              " 0.5450176720923848,\n",
              " 0.5885661912765424,\n",
              " 0.46173663094410267,\n",
              " 0.4854917717073234,\n",
              " 0.42908614936824124,\n",
              " 0.5773502691896257,\n",
              " 0.5856596027429395,\n",
              " 0.4591497693322866,\n",
              " 0.5946035575013605,\n",
              " 0.4255249605899013,\n",
              " 0.4347208719449914,\n",
              " 0.5555238068023582,\n",
              " 0.42044820762685725,\n",
              " 0.5773502691896257,\n",
              " 0.48109772909788073,\n",
              " 0.5856596027429395,\n",
              " 0.5856596027429395,\n",
              " 0,\n",
              " 0.5026386140359251,\n",
              " 0.5169731539571706,\n",
              " 0,\n",
              " 0.5623413251903491,\n",
              " 0.5350693106102555,\n",
              " 0.6345814629568174,\n",
              " 0.5241384625243392,\n",
              " 0.5516251532744788,\n",
              " 0.4630777161991027,\n",
              " 0.5039843787265444,\n",
              " 0.31020161970069987,\n",
              " 0.5773502691896257,\n",
              " 0.5292031904718658,\n",
              " 0.5856596027429395,\n",
              " 0.4854917717073234,\n",
              " 0.5081327481546147,\n",
              " 0.4188216850419828,\n",
              " 0.5,\n",
              " 0.5595642461260144,\n",
              " 0.5216948600244291,\n",
              " 0.6389431042462724,\n",
              " 0.4682568791024402,\n",
              " 0.5695988432761473,\n",
              " 0.5216948600244291,\n",
              " 0.5450176720923848,\n",
              " 0.5169731539571706,\n",
              " 0.488923022434901,\n",
              " 0.5169731539571706,\n",
              " 0.4591497693322866,\n",
              " 0.5169731539571706,\n",
              " 0.6262844962765469,\n",
              " 0.46173663094410267,\n",
              " 0.5081327481546147,\n",
              " 0.5,\n",
              " 0.4949232003839765,\n",
              " 0.5146906560381768,\n",
              " 0.5430321466633391,\n",
              " 0.5266403878479265,\n",
              " 0.49393827371153703,\n",
              " 0.5226654593084151,\n",
              " 0.6389431042462724,\n",
              " 0.5773502691896257,\n",
              " 0.5169731539571706,\n",
              " 0.5773502691896257,\n",
              " 0.5542089483371553,\n",
              " 0.4924790605054523,\n",
              " 0.5,\n",
              " 0.4832697830906221,\n",
              " 0.5266403878479265,\n",
              " 0.5200970009529277,\n",
              " 0.6337268058487422,\n",
              " 0.3905106532895161,\n",
              " 0.7400828044922853,\n",
              " 0.5993418090318328,\n",
              " 0.46173663094410267,\n",
              " 0.5200970009529277,\n",
              " 0.4386913376508308,\n",
              " 0.5151431317771185,\n",
              " 0.6147881529512643,\n",
              " 0.4428500142691474,\n",
              " 0.5659119256652702,\n",
              " 0.5139409225754329,\n",
              " 0.47897362544357464,\n",
              " 0.49806572776935465,\n",
              " 0.5081327481546147,\n",
              " 0.5527251091911687,\n",
              " 0.4912793462102176,\n",
              " 0.5522654621332111,\n",
              " 0.5623413251903491,\n",
              " 0.6147881529512643,\n",
              " 0.463502386414385,\n",
              " 0.4709207802660356,\n",
              " 0.49616830003403634,\n",
              " 0.47897362544357464,\n",
              " 0.537284965911771,\n",
              " 0.7598356856515925,\n",
              " 0.36889397323344053,\n",
              " 0.5856596027429395,\n",
              " 0.5491004867761125,\n",
              " 0.49616830003403634,\n",
              " 0.6223329772884784,\n",
              " 0.447213595499958,\n",
              " 0.47772139610218345,\n",
              " 0.49541936461639036,\n",
              " 0.5695988432761473,\n",
              " 0.5200970009529277,\n",
              " 0.5,\n",
              " 0.4518010018049224,\n",
              " 0.5307712171072443,\n",
              " 0.4255249605899013,\n",
              " 0.5081327481546147,\n",
              " 0.4924790605054523,\n",
              " 0.5773502691896257,\n",
              " 0.4779289657345161,\n",
              " 0.5345224838248488,\n",
              " 0.4172261448611506,\n",
              " 0.5466325569645467,\n",
              " 0.5300714512917181,\n",
              " 0.42908614936824124,\n",
              " 0.49616830003403634,\n",
              " 0.537284965911771,\n",
              " 0.5039843787265444,\n",
              " 0.4728708045015879,\n",
              " 0.5266403878479265,\n",
              " 0.48217764100758403,\n",
              " 0.5983790078367693,\n",
              " 0.5081327481546147,\n",
              " 0.5623413251903491,\n",
              " 0.5856596027429395,\n",
              " 0.668740304976422,\n",
              " 0.6147881529512643,\n",
              " 0.47897362544357464,\n",
              " 0.5946035575013605,\n",
              " 0.5133450480401704,\n",
              " 0.5900468726392808,\n",
              " 0.48217764100758403,\n",
              " 0.3860973950960897,\n",
              " 0.5946035575013605,\n",
              " 0.42379865741502165,\n",
              " 0.6147881529512643,\n",
              " 0.5946035575013605,\n",
              " 0.4378826865860794,\n",
              " 0.4671379777282001,\n",
              " 0.537284965911771,\n",
              " 0.5253819788848316,\n",
              " 0.6094183098284,\n",
              " 0.35565588200778453,\n",
              " 0.4591497693322866,\n",
              " 0.4428500142691474,\n",
              " 0.6111822018177674,\n",
              " 0.5329462628216854,\n",
              " 0.4671379777282001,\n",
              " 0.5741865870062566,\n",
              " 0,\n",
              " 0.5328985992883941,\n",
              " 0.4924790605054523,\n",
              " 0.4583034067124109,\n",
              " 0.4924790605054523,\n",
              " 0.5318295896944989,\n",
              " 0.4494780405208269,\n",
              " 0.5993418090318328,\n",
              " 0.4728708045015879,\n",
              " 0.5318295896944989,\n",
              " 0.5266403878479265,\n",
              " 0.537284965911771,\n",
              " 0.5216948600244291,\n",
              " 0.5241384625243392,\n",
              " 0.6147881529512643,\n",
              " 0.5577503997480662,\n",
              " 0.4386913376508308,\n",
              " 0.48217764100758403,\n",
              " 0.4386913376508308,\n",
              " 0.6324555320336759,\n",
              " 0.5039843787265444,\n",
              " 0.5318295896944989,\n",
              " 0.46439804737625334,\n",
              " 0.49616830003403634,\n",
              " 0.5623413251903491,\n",
              " 0.5169731539571706,\n",
              " 0.49068493574954836,\n",
              " 0.668740304976422,\n",
              " 0.4518010018049224,\n",
              " 0.5226654593084151,\n",
              " 0.5623413251903491,\n",
              " 0.5318295896944989,\n",
              " 0.5081327481546147,\n",
              " 0.43092381945890607,\n",
              " 0.4591497693322866,\n",
              " 0.5711077276020007,\n",
              " 0.5292031904718658,\n",
              " 0.4854917717073234,\n",
              " 0.5216948600244291,\n",
              " 0.5081327481546147,\n",
              " 0.47587330964125224,\n",
              " 0.5039843787265444,\n",
              " 0.6057224552983581,\n",
              " 0.5169731539571706,\n",
              " 0.5266403878479265,\n",
              " 0,\n",
              " 0.5555238068023582,\n",
              " 0.38717739835787457,\n",
              " 0.5266403878479265,\n",
              " 0.6223329772884784,\n",
              " 0.6985342056580097,\n",
              " 0.4854917717073234,\n",
              " 0.5915463685222677,\n",
              " 0.44500506580862076,\n",
              " 0.5410822690539396,\n",
              " 0.5909442849243819,\n",
              " 0.6238986072117501,\n",
              " 0.5721248424548514,\n",
              " 0.4924790605054523,\n",
              " 0.5900468726392808,\n",
              " 0.4255249605899013,\n",
              " 0.5695988432761473,\n",
              " 0.6147881529512643,\n",
              " 0.5900468726392808,\n",
              " 0.447213595499958,\n",
              " 0.5623413251903491,\n",
              " 0.6559965570884768,\n",
              " 0.5081327481546147,\n",
              " 0.5643678132524064,\n",
              " 0.46173663094410267,\n",
              " 0.6147881529512643,\n",
              " 0.46996069213253683,\n",
              " 0.5200970009529277,\n",
              " 0.6744322250214191,\n",
              " 0.5856596027429395,\n",
              " 0.4924790605054523,\n",
              " 0.6262844962765469,\n",
              " 0.48217764100758403,\n",
              " 0.5124576721246791,\n",
              " 0.4854917717073234,\n",
              " 0.5873949094699213,\n",
              " 0.3905106532895161,\n",
              " 0.5169731539571706,\n",
              " 0.5266403878479265,\n",
              " 0.5600223424950026,\n",
              " 0.4671379777282001,\n",
              " 0.47897362544357464,\n",
              " 0.47897362544357464,\n",
              " 0.6009638585283708,\n",
              " 0.5169731539571706,\n",
              " 0.6904573083274563,\n",
              " 0.5124576721246791,\n",
              " 0.5233175696960528,\n",
              " 0.6865890479690392,\n",
              " 0.4566337854967312,\n",
              " 0.5,\n",
              " 0.6985342056580097,\n",
              " 0.5410822690539396,\n",
              " 0.7598356856515925,\n",
              " 0.5226654593084151,\n",
              " 0.5081327481546147,\n",
              " 0.5169731539571706,\n",
              " 0.5430321466633391,\n",
              " 0.5491004867761125,\n",
              " 0.5226654593084151,\n",
              " 0.5946035575013605,\n",
              " 0.6262844962765469,\n",
              " 0.5856596027429395,\n",
              " 0.447213595499958,\n",
              " 0.5124576721246791,\n",
              " 0.46069315166280084,\n",
              " 0.7071067811865476,\n",
              " 0.5266403878479265,\n",
              " 0.5,\n",
              " 0,\n",
              " 0.5522654621332111,\n",
              " 0.5226654593084151,\n",
              " 0.5305082637359354,\n",
              " 0.45338351640554764,\n",
              " 0.6315552371794037,\n",
              " 0.4854917717073234,\n",
              " 0.43092381945890607,\n",
              " 0.5300714512917181,\n",
              " 0.4482129617210189,\n",
              " 0.5522654621332111,\n",
              " 0.4566337854967312,\n",
              " 0.5946035575013605,\n",
              " 0.4780775062235398,\n",
              " 0.5773502691896257,\n",
              " 0.5124576721246791,\n",
              " 0.5169731539571706,\n",
              " 0.6389431042462724,\n",
              " 0.5695988432761473,\n",
              " 0.5671276403520978,\n",
              " 0.5266403878479265,\n",
              " 0.5695988432761473,\n",
              " 0.6389431042462724,\n",
              " 0.6009638585283708,\n",
              " 0.3839817133079349,\n",
              " 0,\n",
              " 0.6606328636027614,\n",
              " 0.5491004867761125,\n",
              " 0.5013840477862073,\n",
              " 0.47897362544357464,\n",
              " 0.6238986072117501,\n",
              " 0.40276720463657734,\n",
              " 0.43950751110938246,\n",
              " 0.5671276403520978,\n",
              " 0.6303647413359293,\n",
              " 0.5555238068023582,\n",
              " 0.5216948600244291,\n",
              " 0.5169731539571706,\n",
              " 0.5773502691896257,\n",
              " 0.6389431042462724,\n",
              " 0.5081327481546147,\n",
              " 0.5057414688698707,\n",
              " 0.6147881529512643,\n",
              " 0.46996069213253683,\n",
              " 0.6799308458396492,\n",
              " 0.6287167148414677,\n",
              " 0.5773502691896257,\n",
              " 0.5721248424548514,\n",
              " 0.44573518321953964,\n",
              " 0.47897362544357464,\n",
              " 0.5081327481546147,\n",
              " 0.3346318905770502,\n",
              " 0.5623413251903491,\n",
              " 0.48962398914135336,\n",
              " 0.488923022434901,\n",
              " 0.4714045207910317,\n",
              " 0,\n",
              " 0.5773502691896257,\n",
              " 0.4924790605054523,\n",
              " 0.42044820762685725,\n",
              " 0.6481388934544839,\n",
              " 0.6009638585283708,\n",
              " 0.4924790605054523,\n",
              " 0.5216948600244291,\n",
              " 0.3386854985606571,\n",
              " 0.5039843787265444,\n",
              " 0.6529942057256104,\n",
              " 0.6147881529512643,\n",
              " 0.5039843787265444,\n",
              " 0.5081327481546147,\n",
              " 0.5124576721246791,\n",
              " 0.6481388934544839,\n",
              " 0.6606328636027614,\n",
              " 0.476895599763377,\n",
              " 0.5169731539571706,\n",
              " 0.5226654593084151,\n",
              " 0.47897362544357464,\n",
              " 0.5623413251903491,\n",
              " 0.5885661912765424,\n",
              " 0.7259795291154771,\n",
              " 0.5318295896944989,\n",
              " 0.5318295896944989,\n",
              " 0.49043128617617504,\n",
              " 0.6434588841607617,\n",
              " 0.47587330964125224,\n",
              " 0.4898000179273444,\n",
              " 0.5216948600244291,\n",
              " 0.5623413251903491,\n",
              " 0.5401203412164636,\n",
              " 0.42728700639623407,\n",
              " 0.5946035575013605,\n",
              " 0.6147881529512643,\n",
              " 0.6389431042462724,\n",
              " 0.5814307369682193,\n",
              " 0.6529942057256104,\n",
              " 0.6223329772884784,\n",
              " 0.5695988432761473,\n",
              " 0.6076795808137692,\n",
              " 0.5946035575013605,\n",
              " 0.5300714512917181,\n",
              " 0.6389431042462724,\n",
              " 0.4518010018049224,\n",
              " 0.5773502691896257,\n",
              " 0.5885661912765424,\n",
              " 0.5946035575013605,\n",
              " 0.5081327481546147,\n",
              " 0.4671379777282001,\n",
              " 0.4494780405208269,\n",
              " 0.4600040051538459,\n",
              " 0.4854917717073234,\n",
              " 0.6009638585283708,\n",
              " 0.6204032394013997,\n",
              " 0.6009638585283708,\n",
              " 0.5623413251903491,\n",
              " 0.5226654593084151,\n",
              " 0.4671379777282001,\n",
              " 0.5169731539571706,\n",
              " 0.5039843787265444,\n",
              " 0.5102723017778329,\n",
              " 0.5336172773868456,\n",
              " 0.5193071778680676,\n",
              " 0.6116908849062525,\n",
              " 0.5081327481546147,\n",
              " 0.5856596027429395,\n",
              " 0.5695988432761473,\n",
              " 0.5266403878479265,\n",
              " 0.5506953149031838,\n",
              " 0.5216948600244291,\n",
              " 0.5856596027429395,\n",
              " 0.5266403878479265,\n",
              " 0.5216948600244291,\n",
              " 0.5856596027429395,\n",
              " 0.5336172773868456,\n",
              " 0.5734090813814468,\n",
              " 0.4854917717073234,\n",
              " 0.48217764100758403,\n",
              " 0.5533409598501607,\n",
              " 0.46173663094410267,\n",
              " 0.5643678132524064,\n",
              " 0.5506953149031838,\n",
              " 0.6111822018177674,\n",
              " 0.46173663094410267,\n",
              " 0.537284965911771,\n",
              " 0.4832697830906221,\n",
              " 0.5336172773868456,\n",
              " 0.5773502691896257,\n",
              " 0.6303647413359293,\n",
              " 0.5307712171072443,\n",
              " 0.4566337854967312,\n",
              " 0.3495274586585512,\n",
              " 0.5,\n",
              " 0.5247357977607321,\n",
              " 0.537284965911771,\n",
              " 0.5868964831327463,\n",
              " 0.6262844962765469,\n",
              " 0.5081327481546147,\n",
              " 0.5318295896944989,\n",
              " 0.47897362544357464,\n",
              " 0.4328015276270854,\n",
              " 0.5555238068023582,\n",
              " 0.6076795808137692,\n",
              " 0.6337268058487422,\n",
              " 0.49616830003403634,\n",
              " 0.5588805988556161,\n",
              " 0.5491004867761125,\n",
              " 0.44500506580862076,\n",
              " 0.4924790605054523,\n",
              " 0.5623413251903491,\n",
              " 0.6009638585283708,\n",
              " 0.6094183098284,\n",
              " 0.5,\n",
              " 0.5773502691896257,\n",
              " 0.6042750794713536,\n",
              " 0.5695988432761473,\n",
              " 0.48217764100758403,\n",
              " 0.5266403878479265,\n",
              " 0.6185030540247987,\n",
              " 0.6606328636027614,\n",
              " 0.6000342906130847,\n",
              " 0.5814307369682193,\n",
              " 0,\n",
              " 0,\n",
              " 0.645777692487244,\n",
              " 0.41113361690051975,\n",
              " 0.35782241396102615,\n",
              " 0.5814307369682193,\n",
              " 0.6063062848485936,\n",
              " 0.4751137329032283,\n",
              " 0.5266403878479265,\n",
              " 0.5773502691896257,\n",
              " 0.5555238068023582,\n",
              " 0.5139409225754329,\n",
              " 0.5533409598501607,\n",
              " 0.537284965911771,\n",
              " 0.6303647413359293,\n",
              " 0.5491004867761125]"
            ]
          },
          "metadata": {},
          "execution_count": 75
        }
      ]
    },
    {
      "cell_type": "code",
      "metadata": {
        "colab": {
          "base_uri": "https://localhost:8080/"
        },
        "id": "angyslvxC0dg",
        "outputId": "fc171b46-9e34-425f-de3e-8eec6d05d436"
      },
      "source": [
        "\n",
        "import statistics\n",
        "statistics.mean(bleu_scores_raw)"
      ],
      "execution_count": 76,
      "outputs": [
        {
          "output_type": "execute_result",
          "data": {
            "text/plain": [
              "0.5225426159438799"
            ]
          },
          "metadata": {},
          "execution_count": 76
        }
      ]
    },
    {
      "cell_type": "code",
      "metadata": {
        "id": "CqP5OUo8C0fi"
      },
      "source": [
        "with open(\"/content/drive/My Drive/Colab Notebooks/style_transfer/training_files/seq2seq_bleu.txt\", \"w\") as output:\n",
        "  for line in bleu_scores_raw:\n",
        "    output.write(str(line) + '\\n')"
      ],
      "execution_count": 86,
      "outputs": []
    },
    {
      "cell_type": "code",
      "metadata": {
        "id": "dLdB-VMPC0hv"
      },
      "source": [
        ""
      ],
      "execution_count": null,
      "outputs": []
    }
  ]
}