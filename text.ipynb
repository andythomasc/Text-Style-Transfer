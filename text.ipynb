{
  "nbformat": 4,
  "nbformat_minor": 0,
  "metadata": {
    "colab": {
      "name": "text.ipynb",
      "provenance": [],
      "collapsed_sections": [],
      "authorship_tag": "ABX9TyNQY9vgO6bLMpwI06xyWMYU",
      "include_colab_link": true
    },
    "kernelspec": {
      "name": "python3",
      "display_name": "Python 3"
    },
    "language_info": {
      "name": "python"
    }
  },
  "cells": [
    {
      "cell_type": "markdown",
      "metadata": {
        "id": "view-in-github",
        "colab_type": "text"
      },
      "source": [
        "<a href=\"https://colab.research.google.com/github/andythomasc/Text-Style-Transfer/blob/main/text.ipynb\" target=\"_parent\"><img src=\"https://colab.research.google.com/assets/colab-badge.svg\" alt=\"Open In Colab\"/></a>"
      ]
    },
    {
      "cell_type": "markdown",
      "metadata": {
        "id": "sFzuUdi2waQy"
      },
      "source": [
        "#Imports and Open text\n"
      ]
    },
    {
      "cell_type": "code",
      "metadata": {
        "colab": {
          "base_uri": "https://localhost:8080/"
        },
        "id": "0jjxIAlxwZpA",
        "outputId": "c7ae15d9-3614-4903-a98c-a6e4415d16f4"
      },
      "source": [
        "from google.colab import drive\n",
        "drive.mount('/content/drive')"
      ],
      "execution_count": null,
      "outputs": [
        {
          "output_type": "stream",
          "text": [
            "Mounted at /content/drive\n"
          ],
          "name": "stdout"
        }
      ]
    },
    {
      "cell_type": "code",
      "metadata": {
        "id": "1sL-_YPv73_V"
      },
      "source": [
        "import json\n",
        "import pandas as pd\n",
        "from pandas import DataFrame"
      ],
      "execution_count": null,
      "outputs": []
    },
    {
      "cell_type": "code",
      "metadata": {
        "id": "pqljnAV29_7_"
      },
      "source": [
        ""
      ],
      "execution_count": null,
      "outputs": []
    },
    {
      "cell_type": "code",
      "metadata": {
        "id": "D7ZjJRCGzJsH"
      },
      "source": [
        "train = open('/content/drive/My Drive/Colab Notebooks/style_transfer/train.txt').read().splitlines()"
      ],
      "execution_count": null,
      "outputs": []
    },
    {
      "cell_type": "code",
      "metadata": {
        "colab": {
          "base_uri": "https://localhost:8080/"
        },
        "id": "2xhnFknThxz7",
        "outputId": "7e0f095e-9fe4-4314-ce55-b03840d7526b"
      },
      "source": [
        "len(train)"
      ],
      "execution_count": null,
      "outputs": [
        {
          "output_type": "execute_result",
          "data": {
            "text/plain": [
              "245023"
            ]
          },
          "metadata": {
            "tags": []
          },
          "execution_count": 12
        }
      ]
    },
    {
      "cell_type": "code",
      "metadata": {
        "id": "zMKHXWF0gL_i"
      },
      "source": [
        "test = open('/content/drive/My Drive/Colab Notebooks/style_transfer/test.txt').read().splitlines()"
      ],
      "execution_count": null,
      "outputs": []
    },
    {
      "cell_type": "code",
      "metadata": {
        "colab": {
          "base_uri": "https://localhost:8080/"
        },
        "id": "BLF8uI0YdtEi",
        "outputId": "090aa849-c521-41b1-eb4c-e410f13c7b96"
      },
      "source": [
        "len(test)"
      ],
      "execution_count": null,
      "outputs": [
        {
          "output_type": "execute_result",
          "data": {
            "text/plain": [
              "1350"
            ]
          },
          "metadata": {
            "tags": []
          },
          "execution_count": 4
        }
      ]
    },
    {
      "cell_type": "markdown",
      "metadata": {
        "id": "MgBhR977iuMQ"
      },
      "source": [
        "#Separate by label\n",
        "## 0 for expert; 1 for layperson, in raw form\n",
        "##meaning it is still in the json format; perhaps, it can be useful"
      ]
    },
    {
      "cell_type": "code",
      "metadata": {
        "id": "jgHbafyefyxh"
      },
      "source": [
        "def separate_by_label_raw(list_of_):\n",
        "  ##takes the training or testing list and returns 2 lists for label 1 and label 0 \n",
        "  ##aka layperson and expert language\n",
        "  label_0 = []  #list of expert I think\n",
        "  label_1 = []  #list of layperson I guess\n",
        "  for x in list_of_:\n",
        "    if '\"label\": 0' in x:\n",
        "      label_0.append(x)\n",
        "\n",
        "    elif '\"label\": 1' in x:\n",
        "      label_1.append(x)\n",
        "  \n",
        "\n",
        "  return label_0,label_1\n",
        "\n",
        "\n"
      ],
      "execution_count": null,
      "outputs": []
    },
    {
      "cell_type": "code",
      "metadata": {
        "id": "JEsOpUEBhlKi"
      },
      "source": [
        "training_label_0_raw,training_label_1_raw = separate_by_label_raw(train)"
      ],
      "execution_count": null,
      "outputs": []
    },
    {
      "cell_type": "code",
      "metadata": {
        "id": "Bhy-Fl7Cd11k"
      },
      "source": [
        "testing_label_0_raw, testing_label_1_raw = separate_by_label_raw(test)"
      ],
      "execution_count": null,
      "outputs": []
    },
    {
      "cell_type": "code",
      "metadata": {
        "colab": {
          "base_uri": "https://localhost:8080/"
        },
        "id": "of03FKK-hugg",
        "outputId": "534256b0-d408-4135-a10e-cd68f9c739cf"
      },
      "source": [
        "#proof that it works\n",
        "len(training_label_1_raw)+len(training_label_0_raw)"
      ],
      "execution_count": null,
      "outputs": [
        {
          "output_type": "execute_result",
          "data": {
            "text/plain": [
              "245023"
            ]
          },
          "metadata": {
            "tags": []
          },
          "execution_count": 17
        }
      ]
    },
    {
      "cell_type": "code",
      "metadata": {
        "colab": {
          "base_uri": "https://localhost:8080/"
        },
        "id": "AgTWaT1riVBe",
        "outputId": "bcc40338-1e6c-42a2-a85a-c14f01bd7b27"
      },
      "source": [
        "type(training_label_0_raw[0])"
      ],
      "execution_count": null,
      "outputs": [
        {
          "output_type": "execute_result",
          "data": {
            "text/plain": [
              "str"
            ]
          },
          "metadata": {
            "tags": []
          },
          "execution_count": 19
        }
      ]
    },
    {
      "cell_type": "code",
      "metadata": {
        "id": "xcqBp29Kr2eH"
      },
      "source": [
        "values = ['1', '2', '3']\n",
        "\n",
        "with open(\"/content/drive/My Drive/Colab Notebooks/style_transfer/file.txt\", \"w\") as output:\n",
        "    output.write(str(values))"
      ],
      "execution_count": null,
      "outputs": []
    },
    {
      "cell_type": "code",
      "metadata": {
        "id": "M9zTmsujlaUZ",
        "colab": {
          "base_uri": "https://localhost:8080/"
        },
        "outputId": "55496203-4fce-4c62-f7f0-8461f1fabf9e"
      },
      "source": [
        "# for test\n",
        "len(testing_label_0_raw)+len(testing_label_1_raw)\n"
      ],
      "execution_count": null,
      "outputs": [
        {
          "output_type": "execute_result",
          "data": {
            "text/plain": [
              "1350"
            ]
          },
          "metadata": {
            "tags": []
          },
          "execution_count": 8
        }
      ]
    },
    {
      "cell_type": "code",
      "metadata": {
        "colab": {
          "base_uri": "https://localhost:8080/"
        },
        "id": "2_LZjylYeGPc",
        "outputId": "4a7d88bf-35f4-4cb1-b096-3749a6869bfa"
      },
      "source": [
        "type(testing_label_0_raw[0])"
      ],
      "execution_count": null,
      "outputs": [
        {
          "output_type": "execute_result",
          "data": {
            "text/plain": [
              "str"
            ]
          },
          "metadata": {
            "tags": []
          },
          "execution_count": 9
        }
      ]
    },
    {
      "cell_type": "markdown",
      "metadata": {
        "id": "08LncMtXl7Vf"
      },
      "source": [
        "#Separate the raw text\n",
        "##eg take away concepts and stuff. Leave it have the text only"
      ]
    },
    {
      "cell_type": "code",
      "metadata": {
        "id": "1wP0iDthmYqF"
      },
      "source": [
        "s_ = 'qwertyuiop'\n",
        "my_string=''\n",
        "for s in s_:\n",
        "  my_string = my_string+s"
      ],
      "execution_count": null,
      "outputs": []
    },
    {
      "cell_type": "code",
      "metadata": {
        "colab": {
          "base_uri": "https://localhost:8080/",
          "height": 35
        },
        "id": "TvJ6_W5qmYuv",
        "outputId": "c40a8399-5209-43a3-b946-1bbb2604b03a"
      },
      "source": [
        "my_string"
      ],
      "execution_count": null,
      "outputs": [
        {
          "output_type": "execute_result",
          "data": {
            "application/vnd.google.colaboratory.intrinsic+json": {
              "type": "string"
            },
            "text/plain": [
              "'qwertyuiop'"
            ]
          },
          "metadata": {
            "tags": []
          },
          "execution_count": 21
        }
      ]
    },
    {
      "cell_type": "code",
      "metadata": {
        "id": "oGCZ61ZRnqre"
      },
      "source": [
        "# \" count \n",
        "\n",
        "def select_text(parsed_string):\n",
        "  quot_count = 0\n",
        "  my_string=''\n",
        "  for s in parsed_string:\n",
        "    if s == '\"':\n",
        "      quot_count +=1\n",
        "    if quot_count == 3:\n",
        "      my_string = my_string+s\n",
        "\n",
        "    #if s == '\"':\n",
        "     # quot_count +=1\n",
        "  return my_string"
      ],
      "execution_count": null,
      "outputs": []
    },
    {
      "cell_type": "code",
      "metadata": {
        "colab": {
          "base_uri": "https://localhost:8080/",
          "height": 35
        },
        "id": "MoKeB4PTo1s3",
        "outputId": "49282aa6-c315-47fc-fbbe-412b46a580bf"
      },
      "source": [
        "select_text(training_label_0_raw[100])[1:]"
      ],
      "execution_count": null,
      "outputs": [
        {
          "output_type": "execute_result",
          "data": {
            "application/vnd.google.colaboratory.intrinsic+json": {
              "type": "string"
            },
            "text/plain": [
              "'The lungs are examined for signs of pleural effusion and pulmonary edema , which may occur with cardiac disease such as heart failure .'"
            ]
          },
          "metadata": {
            "tags": []
          },
          "execution_count": 30
        }
      ]
    },
    {
      "cell_type": "code",
      "metadata": {
        "colab": {
          "base_uri": "https://localhost:8080/",
          "height": 35
        },
        "id": "vpEossDnePcu",
        "outputId": "c8b5bd9e-06b8-4dfb-e3ab-928d68846f51"
      },
      "source": [
        "select_text(testing_label_1_raw[100])[1:]"
      ],
      "execution_count": null,
      "outputs": [
        {
          "output_type": "execute_result",
          "data": {
            "application/vnd.google.colaboratory.intrinsic+json": {
              "type": "string"
            },
            "text/plain": [
              "'Acute fevers in infants and children are usually caused by an infection .'"
            ]
          },
          "metadata": {
            "tags": []
          },
          "execution_count": 12
        }
      ]
    },
    {
      "cell_type": "code",
      "metadata": {
        "id": "yI55143Vp7TC"
      },
      "source": [
        "#doing the text selection for all elements of training/testing\n",
        "\n",
        "def select_text_for_each(parsed_list):\n",
        "\n",
        "  my_list = []\n",
        "  \n",
        "  for a_string in parsed_list:\n",
        "    my_list.append(select_text(a_string)[1:])\n",
        "\n",
        "  return my_list\n"
      ],
      "execution_count": null,
      "outputs": []
    },
    {
      "cell_type": "code",
      "metadata": {
        "id": "0NvFVoVoqgnt"
      },
      "source": [
        "#getting the 2 lists of strings for 0 = expert and 1 = layperson\n",
        "\n",
        "label_0 = select_text_for_each(training_label_0_raw)\n",
        "\n",
        "label_1 = select_text_for_each(training_label_1_raw)"
      ],
      "execution_count": null,
      "outputs": []
    },
    {
      "cell_type": "code",
      "metadata": {
        "id": "lnc9cxKJrBnD"
      },
      "source": [
        "#label_0"
      ],
      "execution_count": null,
      "outputs": []
    },
    {
      "cell_type": "code",
      "metadata": {
        "id": "5hqj1WYQebaM"
      },
      "source": [
        "#getting the 2 lists of strings for 0 = expert and 1 = layperson\n",
        "\n",
        "label_0 = select_text_for_each(testing_label_0_raw)\n",
        "\n",
        "label_1 = select_text_for_each(testing_label_1_raw)"
      ],
      "execution_count": null,
      "outputs": []
    },
    {
      "cell_type": "code",
      "metadata": {
        "id": "NObEL3pcehRB"
      },
      "source": [
        "#label_1"
      ],
      "execution_count": null,
      "outputs": []
    },
    {
      "cell_type": "markdown",
      "metadata": {
        "id": "hV3dybTpwoBZ"
      },
      "source": [
        "# Save text files to drive for training"
      ]
    },
    {
      "cell_type": "code",
      "metadata": {
        "id": "t5-AIW1EtC2T"
      },
      "source": [
        "with open(\"/content/drive/My Drive/Colab Notebooks/style_transfer/training_files/label_0.txt\", \"w\") as output:\n",
        "  for line in label_0:\n",
        "    output.write(line + '\\n')"
      ],
      "execution_count": null,
      "outputs": []
    },
    {
      "cell_type": "code",
      "metadata": {
        "id": "Bh-QmZp-tHo8"
      },
      "source": [
        "with open(\"/content/drive/My Drive/Colab Notebooks/style_transfer/training_files/label_1.txt\", \"w\") as output:\n",
        "  for line in label_1:\n",
        "    output.write(line + '\\n')"
      ],
      "execution_count": null,
      "outputs": []
    },
    {
      "cell_type": "code",
      "metadata": {
        "id": "hewF3Tqewt-H"
      },
      "source": [
        ""
      ],
      "execution_count": null,
      "outputs": []
    },
    {
      "cell_type": "code",
      "metadata": {
        "id": "v1Nf9T3EwuSn"
      },
      "source": [
        ""
      ],
      "execution_count": null,
      "outputs": []
    },
    {
      "cell_type": "markdown",
      "metadata": {
        "id": "81lyCRmnezms"
      },
      "source": [
        "#Save text files to drive for testing"
      ]
    },
    {
      "cell_type": "code",
      "metadata": {
        "id": "SdzZw6_6e2R2"
      },
      "source": [
        "with open(\"/content/drive/My Drive/Colab Notebooks/style_transfer/training_files/label_0_parallel.txt\", \"w\") as output:\n",
        "  for line in label_0:\n",
        "    output.write(line + '\\n')"
      ],
      "execution_count": null,
      "outputs": []
    },
    {
      "cell_type": "code",
      "metadata": {
        "id": "J-7WkT2le48d"
      },
      "source": [
        "with open(\"/content/drive/My Drive/Colab Notebooks/style_transfer/training_files/label_1_parallel.txt\", \"w\") as output:\n",
        "  for line in label_1:\n",
        "    output.write(line + '\\n')"
      ],
      "execution_count": null,
      "outputs": []
    },
    {
      "cell_type": "markdown",
      "metadata": {
        "id": "FtjOHjvQmZ_a"
      },
      "source": [
        "#Other stuff"
      ]
    },
    {
      "cell_type": "code",
      "metadata": {
        "colab": {
          "base_uri": "https://localhost:8080/",
          "height": 70
        },
        "id": "euAKuCniONBa",
        "outputId": "19252ef5-93fc-4abf-d4ed-a6473e958050"
      },
      "source": [
        "(train[245021])"
      ],
      "execution_count": null,
      "outputs": [
        {
          "output_type": "execute_result",
          "data": {
            "application/vnd.google.colaboratory.intrinsic+json": {
              "type": "string"
            },
            "text/plain": [
              "'{\"text\": \"Doctors choose antibiotics that do not harm the fetus , such as cephalexin , nitrofurantoin , or trimethoprim / sulfamethoxazole .\", \"label\": 1, \"concepts\": [{\"range\": [2, 3], \"term\": \"antibiotics\", \"cui\": [\"C0003237\", \"C0003232\"]}, {\"range\": [12, 13], \"term\": \"cephalexin\", \"cui\": [\"C0007716\"]}, {\"range\": [14, 15], \"term\": \"nitrofurantoin\", \"cui\": [\"C0028156\"]}, {\"range\": [17, 18], \"term\": \"trimethoprim\", \"cui\": [\"C0041041\"]}, {\"range\": [19, 20], \"term\": \"sulfamethoxazole\", \"cui\": [\"C0038689\"]}]}'"
            ]
          },
          "metadata": {
            "tags": []
          },
          "execution_count": 11
        }
      ]
    },
    {
      "cell_type": "code",
      "metadata": {
        "colab": {
          "base_uri": "https://localhost:8080/"
        },
        "id": "cL805Nm80N_t",
        "outputId": "b87a5172-a905-4b96-b4f5-ebf72561bd73"
      },
      "source": [
        "{\"text\": \"Women who have had more than one bladder infection or have had a kidney infection need to take antibiotics throughout pregnancy to prevent subsequent urinary tract infections .\", \"label\": 1, \"concepts\": [{\"range\": [7, 9], \"term\": \"bladder infection\", \"cui\": [\"C0600041\", \"C4552971\"]}, {\"range\": [13, 15], \"term\": \"kidney infection\", \"cui\": [\"C0021313\", \"C0034186\", \"C4552851\"]}, {\"range\": [17, 18], \"term\": \"take\", \"cui\": [\"C1515187\"]}, {\"range\": [18, 19], \"term\": \"antibiotics\", \"cui\": [\"C0003237\", \"C0003232\"]}, {\"range\": [20, 21], \"term\": \"pregnancy\", \"cui\": [\"C0032961\"]}, {\"range\": [22, 23], \"term\": \"prevent\", \"cui\": [\"C0309872\"]}, {\"range\": [24, 27], \"term\": \"urinary tract infections\", \"cui\": [\"C0262655\", \"C0262655\", \"C4554638\", \"C0042029\", \"C0042029\"]}]}"
      ],
      "execution_count": null,
      "outputs": [
        {
          "output_type": "execute_result",
          "data": {
            "text/plain": [
              "{'concepts': [{'cui': ['C0600041', 'C4552971'],\n",
              "   'range': [7, 9],\n",
              "   'term': 'bladder infection'},\n",
              "  {'cui': ['C0021313', 'C0034186', 'C4552851'],\n",
              "   'range': [13, 15],\n",
              "   'term': 'kidney infection'},\n",
              "  {'cui': ['C1515187'], 'range': [17, 18], 'term': 'take'},\n",
              "  {'cui': ['C0003237', 'C0003232'], 'range': [18, 19], 'term': 'antibiotics'},\n",
              "  {'cui': ['C0032961'], 'range': [20, 21], 'term': 'pregnancy'},\n",
              "  {'cui': ['C0309872'], 'range': [22, 23], 'term': 'prevent'},\n",
              "  {'cui': ['C0262655', 'C0262655', 'C4554638', 'C0042029', 'C0042029'],\n",
              "   'range': [24, 27],\n",
              "   'term': 'urinary tract infections'}],\n",
              " 'label': 1,\n",
              " 'text': 'Women who have had more than one bladder infection or have had a kidney infection need to take antibiotics throughout pregnancy to prevent subsequent urinary tract infections .'}"
            ]
          },
          "metadata": {
            "tags": []
          },
          "execution_count": 6
        }
      ]
    },
    {
      "cell_type": "code",
      "metadata": {
        "colab": {
          "base_uri": "https://localhost:8080/"
        },
        "id": "I59OHJho624l",
        "outputId": "d3b812cf-e6ec-42e2-f518-f582cff8b9b9"
      },
      "source": [
        "\n",
        "\n",
        "jsonString = test[1349]\n",
        "aDict = json.loads(jsonString)\n",
        "print(aDict)\n"
      ],
      "execution_count": null,
      "outputs": [
        {
          "output_type": "stream",
          "text": [
            "{'text': 'With a cataract in the center ( inside ) of the lens ( nuclear cataract ) , the following symptoms are most common : Worsened distance vision ; Initially , improved near vision because the cataract acts as a stronger lens , thus refocusing light .', 'label': 1, 'concepts': [{'range': [2, 3], 'term': 'cataract', 'cui': ['C4555209']}, {'range': [11, 12], 'term': 'lens', 'cui': ['C0023308', 'C0023317']}, {'range': [13, 15], 'term': 'nuclear cataract', 'cui': ['C1112705', 'C0392557']}, {'range': [19, 20], 'term': 'symptoms', 'cui': ['C1457887']}, {'range': [22, 23], 'term': 'common', 'cui': ['C3245511']}, {'range': [24, 25], 'term': 'worsened', 'cui': ['C1457868', 'C4084902']}, {'range': [26, 27], 'term': 'vision', 'cui': ['C0042789']}, {'range': [30, 31], 'term': 'improved', 'cui': ['C4084203', 'C0184511']}, {'range': [31, 33], 'term': 'near vision', 'cui': ['C0027092']}, {'range': [35, 36], 'term': 'cataract', 'cui': ['C4555209']}, {'range': [40, 41], 'term': 'lens', 'cui': ['C0023308', 'C0023317']}, {'range': [44, 45], 'term': 'light', 'cui': ['C4050248']}]}\n"
          ],
          "name": "stdout"
        }
      ]
    },
    {
      "cell_type": "code",
      "metadata": {
        "id": "OjH5mKXq9Nsf"
      },
      "source": [
        "dfs = [] # an empty list to store the data frames\n",
        "for text in test:\n",
        "    #asString = \n",
        "    ajson = json.loads(text) # each line becomes a json\n",
        "    df = pd.DataFrame.from_dict(ajson) #make dict into dataframe\n",
        "    dfs.append(df) # append the data frame to the list\n",
        "\n",
        "temp = pd.concat(dfs, ignore_index=True) # concatenate all the data frames in the list."
      ],
      "execution_count": null,
      "outputs": []
    },
    {
      "cell_type": "code",
      "metadata": {
        "colab": {
          "base_uri": "https://localhost:8080/"
        },
        "id": "OQyf3iuBBcMH",
        "outputId": "6e12b56c-5afb-417d-e2bb-a350d05cd416"
      },
      "source": [
        "for text in test[0:1]:\n",
        "    #asString = \n",
        "    ajson = json.loads(text) # each line becomes a json\n",
        "    print(ajson)"
      ],
      "execution_count": null,
      "outputs": [
        {
          "output_type": "stream",
          "text": [
            "{'text': 'Many cause dyspnea , pleuritic chest pain , or both .', 'label': 0, 'concepts': [{'range': [2, 3], 'term': 'dyspnea', 'cui': ['C1963100', 'C0013404']}, {'range': [4, 7], 'term': 'pleuritic chest pain', 'cui': ['C0008033']}]}\n"
          ],
          "name": "stdout"
        }
      ]
    },
    {
      "cell_type": "code",
      "metadata": {
        "colab": {
          "base_uri": "https://localhost:8080/",
          "height": 423
        },
        "id": "wyMcsvKpD1zv",
        "outputId": "f77afc5a-6bee-420c-8e8e-d5ea87574fa5"
      },
      "source": [
        "temp"
      ],
      "execution_count": null,
      "outputs": [
        {
          "output_type": "execute_result",
          "data": {
            "text/html": [
              "<div>\n",
              "<style scoped>\n",
              "    .dataframe tbody tr th:only-of-type {\n",
              "        vertical-align: middle;\n",
              "    }\n",
              "\n",
              "    .dataframe tbody tr th {\n",
              "        vertical-align: top;\n",
              "    }\n",
              "\n",
              "    .dataframe thead th {\n",
              "        text-align: right;\n",
              "    }\n",
              "</style>\n",
              "<table border=\"1\" class=\"dataframe\">\n",
              "  <thead>\n",
              "    <tr style=\"text-align: right;\">\n",
              "      <th></th>\n",
              "      <th>text</th>\n",
              "      <th>label</th>\n",
              "      <th>concepts</th>\n",
              "    </tr>\n",
              "  </thead>\n",
              "  <tbody>\n",
              "    <tr>\n",
              "      <th>0</th>\n",
              "      <td>Many cause dyspnea , pleuritic chest pain , or...</td>\n",
              "      <td>0</td>\n",
              "      <td>{'range': [2, 3], 'term': 'dyspnea', 'cui': ['...</td>\n",
              "    </tr>\n",
              "    <tr>\n",
              "      <th>1</th>\n",
              "      <td>Many cause dyspnea , pleuritic chest pain , or...</td>\n",
              "      <td>0</td>\n",
              "      <td>{'range': [4, 7], 'term': 'pleuritic chest pai...</td>\n",
              "    </tr>\n",
              "    <tr>\n",
              "      <th>2</th>\n",
              "      <td>The most common symptoms , regardless of the t...</td>\n",
              "      <td>1</td>\n",
              "      <td>{'range': [2, 3], 'term': 'common', 'cui': ['C...</td>\n",
              "    </tr>\n",
              "    <tr>\n",
              "      <th>3</th>\n",
              "      <td>The most common symptoms , regardless of the t...</td>\n",
              "      <td>1</td>\n",
              "      <td>{'range': [3, 4], 'term': 'symptoms', 'cui': [...</td>\n",
              "    </tr>\n",
              "    <tr>\n",
              "      <th>4</th>\n",
              "      <td>The most common symptoms , regardless of the t...</td>\n",
              "      <td>1</td>\n",
              "      <td>{'range': [10, 11], 'term': 'fluid', 'cui': ['...</td>\n",
              "    </tr>\n",
              "    <tr>\n",
              "      <th>...</th>\n",
              "      <td>...</td>\n",
              "      <td>...</td>\n",
              "      <td>...</td>\n",
              "    </tr>\n",
              "    <tr>\n",
              "      <th>8669</th>\n",
              "      <td>With a cataract in the center ( inside ) of th...</td>\n",
              "      <td>1</td>\n",
              "      <td>{'range': [30, 31], 'term': 'improved', 'cui':...</td>\n",
              "    </tr>\n",
              "    <tr>\n",
              "      <th>8670</th>\n",
              "      <td>With a cataract in the center ( inside ) of th...</td>\n",
              "      <td>1</td>\n",
              "      <td>{'range': [31, 33], 'term': 'near vision', 'cu...</td>\n",
              "    </tr>\n",
              "    <tr>\n",
              "      <th>8671</th>\n",
              "      <td>With a cataract in the center ( inside ) of th...</td>\n",
              "      <td>1</td>\n",
              "      <td>{'range': [35, 36], 'term': 'cataract', 'cui':...</td>\n",
              "    </tr>\n",
              "    <tr>\n",
              "      <th>8672</th>\n",
              "      <td>With a cataract in the center ( inside ) of th...</td>\n",
              "      <td>1</td>\n",
              "      <td>{'range': [40, 41], 'term': 'lens', 'cui': ['C...</td>\n",
              "    </tr>\n",
              "    <tr>\n",
              "      <th>8673</th>\n",
              "      <td>With a cataract in the center ( inside ) of th...</td>\n",
              "      <td>1</td>\n",
              "      <td>{'range': [44, 45], 'term': 'light', 'cui': ['...</td>\n",
              "    </tr>\n",
              "  </tbody>\n",
              "</table>\n",
              "<p>8674 rows × 3 columns</p>\n",
              "</div>"
            ],
            "text/plain": [
              "                                                   text  ...                                           concepts\n",
              "0     Many cause dyspnea , pleuritic chest pain , or...  ...  {'range': [2, 3], 'term': 'dyspnea', 'cui': ['...\n",
              "1     Many cause dyspnea , pleuritic chest pain , or...  ...  {'range': [4, 7], 'term': 'pleuritic chest pai...\n",
              "2     The most common symptoms , regardless of the t...  ...  {'range': [2, 3], 'term': 'common', 'cui': ['C...\n",
              "3     The most common symptoms , regardless of the t...  ...  {'range': [3, 4], 'term': 'symptoms', 'cui': [...\n",
              "4     The most common symptoms , regardless of the t...  ...  {'range': [10, 11], 'term': 'fluid', 'cui': ['...\n",
              "...                                                 ...  ...                                                ...\n",
              "8669  With a cataract in the center ( inside ) of th...  ...  {'range': [30, 31], 'term': 'improved', 'cui':...\n",
              "8670  With a cataract in the center ( inside ) of th...  ...  {'range': [31, 33], 'term': 'near vision', 'cu...\n",
              "8671  With a cataract in the center ( inside ) of th...  ...  {'range': [35, 36], 'term': 'cataract', 'cui':...\n",
              "8672  With a cataract in the center ( inside ) of th...  ...  {'range': [40, 41], 'term': 'lens', 'cui': ['C...\n",
              "8673  With a cataract in the center ( inside ) of th...  ...  {'range': [44, 45], 'term': 'light', 'cui': ['...\n",
              "\n",
              "[8674 rows x 3 columns]"
            ]
          },
          "metadata": {
            "tags": []
          },
          "execution_count": 13
        }
      ]
    },
    {
      "cell_type": "code",
      "metadata": {
        "colab": {
          "base_uri": "https://localhost:8080/"
        },
        "id": "-xvlaks2-Ldk",
        "outputId": "d78d4648-0667-4293-f577-2fd984d4a7e3"
      },
      "source": [
        "temp['concepts'][]"
      ],
      "execution_count": null,
      "outputs": [
        {
          "output_type": "execute_result",
          "data": {
            "text/plain": [
              "0       {'range': [2, 3], 'term': 'dyspnea', 'cui': ['...\n",
              "1       {'range': [4, 7], 'term': 'pleuritic chest pai...\n",
              "2       {'range': [2, 3], 'term': 'common', 'cui': ['C...\n",
              "3       {'range': [3, 4], 'term': 'symptoms', 'cui': [...\n",
              "4       {'range': [10, 11], 'term': 'fluid', 'cui': ['...\n",
              "                              ...                        \n",
              "8669    {'range': [30, 31], 'term': 'improved', 'cui':...\n",
              "8670    {'range': [31, 33], 'term': 'near vision', 'cu...\n",
              "8671    {'range': [35, 36], 'term': 'cataract', 'cui':...\n",
              "8672    {'range': [40, 41], 'term': 'lens', 'cui': ['C...\n",
              "8673    {'range': [44, 45], 'term': 'light', 'cui': ['...\n",
              "Name: concepts, Length: 8674, dtype: object"
            ]
          },
          "metadata": {
            "tags": []
          },
          "execution_count": 52
        }
      ]
    },
    {
      "cell_type": "code",
      "metadata": {
        "id": "iokt2RqK9kyz"
      },
      "source": [
        ""
      ],
      "execution_count": null,
      "outputs": []
    },
    {
      "cell_type": "markdown",
      "metadata": {
        "id": "pIryrB-d8gdh"
      },
      "source": [
        "#Webscrapping\n"
      ]
    },
    {
      "cell_type": "code",
      "metadata": {
        "colab": {
          "base_uri": "https://localhost:8080/",
          "height": 411
        },
        "id": "qIEWJWM-8nFk",
        "outputId": "c29d4d1e-8f4e-486b-f016-a98a9293f323"
      },
      "source": [
        "import urllib.request\n",
        "from bs4 import BeautifulSoup\n",
        "\n",
        "word = input('Enter the word to find the meaning : ')\n",
        " #  C0007222\n",
        "url = \"https://www.ncbi.nlm.nih.gov/medgen/\" + word + \"\"\n",
        "htmlfile = urllib.request.urlopen(url)\n",
        "soup = BeautifulSoup(htmlfile, 'lxml')\n",
        "\n",
        "soup1 = soup.find(class_=\"portlet mgSection\")\n",
        "\n",
        "try:\n",
        "    soup1 = soup1.get_text()\n",
        "except AttributeError:\n",
        "    print('Cannot find such word! Check spelling.')\n",
        "    exit()\n",
        "\n",
        "# Print short meaning\n",
        "print ('-' * 25 + '->',word,\"<-\" + \"-\" * 25)\n",
        "print (\"SHORT MEANING: \\n\\n\",soup1)\n",
        "print ('-' * 65)\n",
        "\n",
        "# Print long meaning\n",
        "soup2 = soup.find(class_=\"long\")\n",
        "soup2 = soup2.get_text()\n",
        "print (\"LONG MEANING: \\n\\n\",soup2)\n",
        "\n",
        "print ('-' * 65)\n",
        "\n",
        "# Print instances like Synonyms, Antonyms, etc.\n",
        "soup3 = soup.find(class_=\"instances\") \n",
        "txt = soup3.get_text()\n",
        "txt1 = txt.rstrip()\n",
        "\n",
        "print (' '.join(txt1.split()))"
      ],
      "execution_count": null,
      "outputs": [
        {
          "output_type": "stream",
          "text": [
            "Enter the word to find the meaning : C0007222\n",
            "--------------------------> C0007222 <--------------------------\n",
            "SHORT MEANING: \n",
            "\n",
            " \n",
            "Definition\n",
            "A non-neoplastic or neoplastic disorder affecting the heart or the vessels (arteries, veins and lymph vessels). Representative examples of non-neoplastic cardiovascular disorders are endocarditis and hypertension. Representative examples of neoplastic cardiovascular disorders are endocardial myxoma and angiosarcoma. [from NCI]\n",
            "\n",
            "-----------------------------------------------------------------\n"
          ],
          "name": "stdout"
        },
        {
          "output_type": "error",
          "ename": "AttributeError",
          "evalue": "ignored",
          "traceback": [
            "\u001b[0;31m---------------------------------------------------------------------------\u001b[0m",
            "\u001b[0;31mAttributeError\u001b[0m                            Traceback (most recent call last)",
            "\u001b[0;32m<ipython-input-1-2c6f40937324>\u001b[0m in \u001b[0;36m<module>\u001b[0;34m()\u001b[0m\n\u001b[1;32m     23\u001b[0m \u001b[0;31m# Print long meaning\u001b[0m\u001b[0;34m\u001b[0m\u001b[0;34m\u001b[0m\u001b[0;34m\u001b[0m\u001b[0m\n\u001b[1;32m     24\u001b[0m \u001b[0msoup2\u001b[0m \u001b[0;34m=\u001b[0m \u001b[0msoup\u001b[0m\u001b[0;34m.\u001b[0m\u001b[0mfind\u001b[0m\u001b[0;34m(\u001b[0m\u001b[0mclass_\u001b[0m\u001b[0;34m=\u001b[0m\u001b[0;34m\"long\"\u001b[0m\u001b[0;34m)\u001b[0m\u001b[0;34m\u001b[0m\u001b[0;34m\u001b[0m\u001b[0m\n\u001b[0;32m---> 25\u001b[0;31m \u001b[0msoup2\u001b[0m \u001b[0;34m=\u001b[0m \u001b[0msoup2\u001b[0m\u001b[0;34m.\u001b[0m\u001b[0mget_text\u001b[0m\u001b[0;34m(\u001b[0m\u001b[0;34m)\u001b[0m\u001b[0;34m\u001b[0m\u001b[0;34m\u001b[0m\u001b[0m\n\u001b[0m\u001b[1;32m     26\u001b[0m \u001b[0mprint\u001b[0m \u001b[0;34m(\u001b[0m\u001b[0;34m\"LONG MEANING: \\n\\n\"\u001b[0m\u001b[0;34m,\u001b[0m\u001b[0msoup2\u001b[0m\u001b[0;34m)\u001b[0m\u001b[0;34m\u001b[0m\u001b[0;34m\u001b[0m\u001b[0m\n\u001b[1;32m     27\u001b[0m \u001b[0;34m\u001b[0m\u001b[0m\n",
            "\u001b[0;31mAttributeError\u001b[0m: 'NoneType' object has no attribute 'get_text'"
          ]
        }
      ]
    }
  ]
}